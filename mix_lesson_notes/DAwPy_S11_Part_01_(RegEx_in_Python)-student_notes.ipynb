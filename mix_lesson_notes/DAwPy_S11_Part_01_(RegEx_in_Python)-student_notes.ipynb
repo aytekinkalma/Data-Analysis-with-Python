{
 "cells": [
  {
   "cell_type": "markdown",
   "metadata": {
    "id": "ib_EYg_hdUiE"
   },
   "source": [
    "___\n",
    "\n",
    "<p style=\"text-align: center;\"><img src=\"https://docs.google.com/uc?id=1lY0Uj5R04yMY3-ZppPWxqCr5pvBLYPnV\" class=\"img-fluid\" \n",
    "alt=\"CLRSWY\"></p>\n",
    "\n",
    "## <p style=\"background-color:#FDFEFE; font-family:newtimeroman; color:#9d4f8c; font-size:100%; text-align:center; border-radius:10px 10px;\">WAY TO REINVENT YOURSELF</p>"
   ]
  },
  {
   "cell_type": "markdown",
   "metadata": {
    "id": "sd019NtidUik"
   },
   "source": [
    "<img src=https://i.ibb.co/6gCsHd6/1200px-Pandas-logo-svg.png width=\"700\" height=\"200\">\n",
    "\n",
    "## <p style=\"background-color:#FDFEFE; font-family:newtimeroman; color:#060108; font-size:200%; text-align:center; border-radius:10px 10px;\">Data Analysis with Python</p>\n",
    "\n",
    "## <p style=\"background-color:#FDFEFE; font-family:newtimeroman; color:#060108; font-size:150%; text-align:center; border-radius:10px 10px;\">Session - 11 (Part - 01)</p>\n",
    "\n",
    "## <p style=\"background-color:#FDFEFE; font-family:newtimeroman; color:#4d77cf; font-size:200%; text-align:center; border-radius:10px 10px;\">RegEx in Python</p>"
   ]
  },
  {
   "cell_type": "markdown",
   "metadata": {},
   "source": [
    "<a id=\"toc\"></a>\n",
    "\n",
    "## <p style=\"background-color:#9d4f8c; font-family:newtimeroman; color:#FFF9ED; font-size:175%; text-align:center; border-radius:10px 10px;\">Content</p>\n",
    "\n",
    "* [IMPORTING LIBRARIES NEEDED IN THIS NOTEBOOK](#0)\n",
    "* [RegEx in PYTHON](#1)\n",
    "* [RAW STRING (\"r/ R\")](#2)\n",
    "* [COMMON PYTHON RegEx FUNCTIONS](#3)    \n",
    "* [PANDAS FUNCTIONS ACCEPTING RegEx](#4)    \n",
    "* [THE END OF THE SESSION - 07](#5)"
   ]
  },
  {
   "cell_type": "markdown",
   "metadata": {},
   "source": [
    "## <p style=\"background-color:#9d4f8c; font-family:newtimeroman; color:#FFF9ED; font-size:175%; text-align:center; border-radius:10px 10px;\">Importing Libraries Needed in This Notebook</p>\n",
    "\n",
    "<a id=\"0\"></a>\n",
    "<a href=\"#toc\" class=\"btn btn-primary btn-sm\" role=\"button\" aria-pressed=\"true\" \n",
    "style=\"color:blue; background-color:#dfa8e4\" data-toggle=\"popover\">Content</a>\n",
    "\n",
    "Once you've installed NumPy & Pandas you can import them as a library:"
   ]
  },
  {
   "cell_type": "code",
   "execution_count": 1,
   "metadata": {
    "id": "wVg6uhWtxWBo"
   },
   "outputs": [],
   "source": [
    "import numpy as np\n",
    "import pandas as pd\n",
    "import re"
   ]
  },
  {
   "cell_type": "code",
   "execution_count": null,
   "metadata": {},
   "outputs": [],
   "source": [
    "# What is Regex?\n",
    "# A regular expression is a sequence of characters that specifies a search in text\n",
    "# https://regex101.com/"
   ]
  },
  {
   "cell_type": "markdown",
   "metadata": {},
   "source": [
    "## <p style=\"background-color:#9d4f8c; font-family:newtimeroman; color:#FFF9ED; font-size:175%; text-align:center; border-radius:10px 10px;\">RegEx in Python</p>\n",
    "\n",
    "<a id=\"1\"></a>\n",
    "<a href=\"#toc\" class=\"btn btn-primary btn-sm\" role=\"button\" aria-pressed=\"true\" \n",
    "style=\"color:blue; background-color:#dfa8e4\" data-toggle=\"popover\">Content</a>\n",
    "\n",
    "- A **Reg**ular **Ex**pression (RegEx) is a special sequence of characters that helps you match or find other strings or sets of strings, using a specialized syntax held in a pattern.\n",
    "\n",
    "- The **Python module** **``re``** provides full support for regular expressions in Python [Source 01](https://docs.python.org/3/library/re.html#re-objects), [Source 02](https://www.tutorialspoint.com/python/python_reg_expressions.htm) & [Source 03](https://www.w3schools.com/python/python_regex.asp).\n",
    "\n",
    "\n",
    "### Common Expressions\n",
    "\n",
    "**``\\d``** Any numeric digit from ``0`` to ``9``.\n",
    "                           \n",
    "**``\\D``** Matches any character which is not a decimal digit. This is the opposite of ``\\d``.\n",
    "                           \n",
    "**``\\w``** Any letter, numeric digit, or the underscore character. (Think of this as matching \"word\" characters.)\n",
    "                           \n",
    "**``\\W``** Any character that is not a letter, numeric digit, or the underscore character.\n",
    "                           \n",
    "**``\\s``** Any space, tab, or newline character. (Think of this as matching white-space characters.)\n",
    "                           \n",
    "**``\\S``** Any character that is not a space, tab, or newline.\n",
    "\n",
    "\n",
    "### Common Metacharacters\n",
    "\n",
    "**``\"[]\"``**\t  A set of characters\t``\"[a-m]\"``\n",
    "\n",
    "**``\"\\\"``**\t      Signals a special sequence (can also be used to escape special characters)\n",
    "\n",
    "**``\".\"``**\t      Any character (except newline character)\n",
    "\n",
    "**``\"^\"``**\t      Starts with\t``\"^hello\"``\n",
    "\n",
    "**``\"$\"``**\t      Ends with\t``\"world$\"``\n",
    "\n",
    "**``\"*\"``**\t      Match zero, one or more of the previous\n",
    "\n",
    "**``\"+\"``**\t      Match one or more of the previous\n",
    "\n",
    "**``\"?\"``**\t      Match zero or one of the previous\n",
    "\n",
    "**``\"{}\"``**\t  Match exactly the specified number of occurrences\n",
    "\n",
    "**``\"|\"``**\t      Either or\t`\"falls|stays\"`\n",
    "\n",
    "**``\"()\"``**\t  Capture and group"
   ]
  },
  {
   "cell_type": "code",
   "execution_count": null,
   "metadata": {},
   "outputs": [],
   "source": [
    "\"\"\"\n",
    "\\d Any numeric digit from 0 to 9. [0-9]\n",
    "# digit karakterleri getirir (0-9 arasındaki her şey)\n",
    "\\D Matches any character which is not a decimal digit. This is the opposite of \\d. (^[0-9])\n",
    "# Digit olmayan her türlü karakterleri getirir. Buradaki \"^\" işareti hariç anlamında \n",
    "\\w Any letter, numeric digit, or the underscore character. (Think of this as matching \"word\" characters.)\n",
    "# Hem sayılar hem harfler\n",
    "\\W Any character that is not a letter, numeric digit, or the underscore character.\n",
    "# w nin tam tersi\n",
    "\\s Any space, tab, or newline character. (Think of this as matching white-space characters.)\n",
    "# \"wide space\" . tab, yeni satır, boşluk gibi karakterleri tutuyor\n",
    "\\S Any character that is not a space, tab, or newline.\n",
    "# s nin Tam tersi \n",
    "Common Metacharacters\n",
    "\"[]\" A set of characters \"[a-m]\"\n",
    "# Tek karakteri temsil ediyor. [cbf]ar marches \"car\", \"bar\", or \"far\"\n",
    "# [0-9]+ matches any positive integer\n",
    "# [azA-Z] matches ascii letter a-<(uppercase and lower case)\n",
    "\"\\\" Signals a special sequence (can also be used to escape special characters)\n",
    "# escape karakteri örnek Hungry\\? matches \"Hungry?\" # o ters slash hangi karakterden önce geliyorsa o karakterin özelliğini kaybettiriyor\n",
    "\".\" Any character (except newline character)\n",
    "# do.* # do dan sonra herhangi bir karakter gelebilir ve ondan sonra da \"space\" görene kadar her karakter(*) gelebilir. örne: do.* matches \"dog\", \"door\", \"dot\", etc\n",
    "\"^\" Starts with \"^hello\"\n",
    "satır başında varsa eşleştirir ^http matches strings that begin with http, such as url\n",
    "# [^0-9] matches any character not 0-9\n",
    "\"$\" Ends with \"world$\"\n",
    "satır sonunda ise --> ings matches \"exciting\" but not \"ingenious\"\n",
    "\"*\" Match zero, one or more of the previous\n",
    "# örnek: \"ah\" matches --> \"Ahhhhh\" or \"A\"\n",
    "\"+\" Match one or more of the previous\n",
    "# O karakterden en az bir tane olmalı : Ah+ matches -> \"Ah\" or \"Ahhh\" but not \"A\"\n",
    "\"?\" Match zero or one of the previous\n",
    "# O karakter olsada olur olmasa da olur\n",
    "\"{}\" Match exactly the specified number of occurrences\n",
    "# örnek Ah{2} matches \"Ahh\" .. Ahh(2,4) matches \"Ahh\", \"Ahhh\", \"Ahhh\"\n",
    "\"|\" Either or \"falls|stays\"\n",
    "\n",
    "\"()\" Capture and group\n",
    "\n",
    "\"\"\""
   ]
  },
  {
   "cell_type": "code",
   "execution_count": null,
   "metadata": {},
   "outputs": [],
   "source": []
  },
  {
   "cell_type": "markdown",
   "metadata": {},
   "source": [
    "## <p style=\"background-color:#9d4f8c; font-family:newtimeroman; color:#FFF9ED; font-size:175%; text-align:center; border-radius:10px 10px;\">Raw String (\"r / R\")</p>\n",
    "\n",
    "<a id=\"2\"></a>\n",
    "<a href=\"#toc\" class=\"btn btn-primary btn-sm\" role=\"button\" aria-pressed=\"true\" \n",
    "style=\"color:blue; background-color:#dfa8e4\" data-toggle=\"popover\">Content</a>\n",
    "\n",
    "- Python raw string is created by prefixing a string literal with **'r' or 'R'**.\n",
    "- Python raw string treats **``backslash (\\)``** as a literal character. This is useful when we want to have a string that contains backslash and don’t want it to be treated as an escape character [Source 01](https://blog.devgenius.io/beauty-of-raw-strings-in-python-fa627d674cbf) & [Source 02](https://stackoverflow.com/questions/26318287/what-does-r-mean-before-a-regex-pattern#:~:text=The%20r%20means%20that%20the,escape%20codes%20will%20be%20ignored.)."
   ]
  },
  {
   "cell_type": "code",
   "execution_count": null,
   "metadata": {},
   "outputs": [],
   "source": [
    "# \"Hello \\t World\"\n",
    "           /                \\\n",
    "# default string            raw string\n",
    "#    Hello World           Hello \\t World"
   ]
  },
  {
   "cell_type": "code",
   "execution_count": null,
   "metadata": {},
   "outputs": [],
   "source": [
    "# Common Python RegEx Functions\n",
    "# re.search\n",
    "# ...\n",
    "# ..\n",
    "# Pandas Functions Accepting RegEx\n",
    "# count()\n",
    "# replace()\n",
    "# contains()\n",
    "# findall()\n",
    "# match()\n",
    "# split()\n",
    "# extract() # En çok bunu kullanacağız"
   ]
  },
  {
   "cell_type": "code",
   "execution_count": 3,
   "metadata": {},
   "outputs": [
    {
     "name": "stdout",
     "output_type": "stream",
     "text": [
      "backslash: \\\n",
      "new_line char: \\n\n"
     ]
    }
   ],
   "source": [
    "print(\"backslash: \\\\\") # 2 slash arka arkaya yazdım tek slash verdi. Tek slash verseydim problem olacaktı\n",
    "print(\"new_line char: \\\\n\") # new_line ifadesinin row string olmasını istersem bu şekilde yapmalıyım"
   ]
  },
  {
   "cell_type": "code",
   "execution_count": 4,
   "metadata": {},
   "outputs": [
    {
     "name": "stdout",
     "output_type": "stream",
     "text": [
      "backslash: \\\\\n",
      "new_line char: \\\\n\n"
     ]
    }
   ],
   "source": [
    "print(r\"backslash: \\\\\")      # raw string olarak bana ne yazdıysam verdi\n",
    "print(r\"new_line char: \\\\n\") # raw string olarak bana ne yazdıysam verdi"
   ]
  },
  {
   "cell_type": "code",
   "execution_count": 5,
   "metadata": {},
   "outputs": [
    {
     "name": "stdout",
     "output_type": "stream",
     "text": [
      "hello\n",
      "world\n"
     ]
    }
   ],
   "source": [
    "my_string = \"hello\\nworld\" # \\n new_line verdi\n",
    "print(my_string)"
   ]
  },
  {
   "cell_type": "code",
   "execution_count": null,
   "metadata": {},
   "outputs": [],
   "source": [
    "my_string = r\"hello\\nworld\"\n",
    "print(my_string)  # Normal string karakteri olarak verdi(new_line vermedi)"
   ]
  },
  {
   "cell_type": "markdown",
   "metadata": {},
   "source": [
    "## Invalid Raw String"
   ]
  },
  {
   "cell_type": "code",
   "execution_count": null,
   "metadata": {},
   "outputs": [],
   "source": [
    "# Geçerli olmayan hata alınacak raw string ifadeleri var\n",
    "# print(\"\\\") # HATA"
   ]
  },
  {
   "cell_type": "code",
   "execution_count": null,
   "metadata": {},
   "outputs": [],
   "source": [
    "# print(r\"\\\") # HATA. Normalde hata vermemesini beklerim."
   ]
  },
  {
   "cell_type": "code",
   "execution_count": null,
   "metadata": {},
   "outputs": [],
   "source": [
    "# print(r\"abc\\\") # HATA\n",
    "# print(r\"abc\\\\\\\") # HATA\n",
    "# Üsttekilerim çalışması için ya boşluk koymamız lazım ya da iki slash olmalı"
   ]
  },
  {
   "cell_type": "code",
   "execution_count": 7,
   "metadata": {},
   "outputs": [
    {
     "name": "stdout",
     "output_type": "stream",
     "text": [
      "abc\\ \n"
     ]
    }
   ],
   "source": [
    "print(r\"abc\\ \")"
   ]
  },
  {
   "cell_type": "code",
   "execution_count": 8,
   "metadata": {},
   "outputs": [
    {
     "name": "stdout",
     "output_type": "stream",
     "text": [
      "abc\\\\\n"
     ]
    }
   ],
   "source": [
    "print(r\"abc\\\\\")"
   ]
  },
  {
   "cell_type": "markdown",
   "metadata": {},
   "source": [
    "## <p style=\"background-color:#9d4f8c; font-family:newtimeroman; color:#FFF9ED; font-size:175%; text-align:center; border-radius:10px 10px;\">Common Python RegEx Functions</p>\n",
    "\n",
    "<a id=\"3\"></a>\n",
    "<a href=\"#toc\" class=\"btn btn-primary btn-sm\" role=\"button\" aria-pressed=\"true\" \n",
    "style=\"color:blue; background-color:#dfa8e4\" data-toggle=\"popover\">Content</a>\n",
    "\n",
    "- **re.search():** Scan through string looking for a match to the pattern.\n",
    "- **re.match():** Try to apply the pattern at the start of the string.\n",
    "- **re.fullmatch():** Try to apply the pattern to all of the string.\n",
    "- **re.findall():** Return a list of all non-overlapping matches in the string.\n",
    "- **re.sub():** Return the string obtained by replacing the leftmost non-overlapping occurrences of the pattern in string by the replacement repl.\n",
    "- **re.split():** Split the source string by the occurrences of the pattern, returning a list containing the resulting substrings."
   ]
  },
  {
   "cell_type": "code",
   "execution_count": 10,
   "metadata": {},
   "outputs": [],
   "source": [
    "# dir(re) # Biz sadece üsttekileri göreceğiz"
   ]
  },
  {
   "cell_type": "code",
   "execution_count": null,
   "metadata": {},
   "outputs": [],
   "source": [
    "help(re.match)"
   ]
  },
  {
   "cell_type": "markdown",
   "metadata": {},
   "source": [
    "## ``re.search(pattern, string, flags=0)``\n",
    "\n",
    "Scan through string looking for a match to the pattern, returning a Match object, or None if no match was found [Source](https://www.pythontutorial.net/python-regex/python-regex-flags/)."
   ]
  },
  {
   "cell_type": "markdown",
   "metadata": {
    "id": "QdwpQv8tdUio"
   },
   "source": [
    "#### Find numeric digits with search function"
   ]
  },
  {
   "cell_type": "code",
   "execution_count": 11,
   "metadata": {
    "id": "90Pa0v1OdUiq"
   },
   "outputs": [],
   "source": [
    "text = \"A78L41K\""
   ]
  },
  {
   "cell_type": "code",
   "execution_count": 12,
   "metadata": {},
   "outputs": [
    {
     "data": {
      "text/plain": [
       "<re.Match object; span=(1, 3), match='78'>"
      ]
     },
     "execution_count": 12,
     "metadata": {},
     "output_type": "execute_result"
    }
   ],
   "source": [
    "# Text timizi tarıyor, bizim yazdığımız regex ifadesinin karşılığını döndürüyor\n",
    "re.search(\"78\",text) # 78 i aldık"
   ]
  },
  {
   "cell_type": "markdown",
   "metadata": {},
   "source": [
    "#### with regular expressions"
   ]
  },
  {
   "cell_type": "code",
   "execution_count": 13,
   "metadata": {},
   "outputs": [
    {
     "data": {
      "text/plain": [
       "<re.Match object; span=(1, 3), match='78'>"
      ]
     },
     "execution_count": 13,
     "metadata": {},
     "output_type": "execute_result"
    }
   ],
   "source": [
    "re.search(\"\\d\\d\",text) # \\d\\d  : 2 tane digit istediğimiz söyledim ve verdi\n",
    "# .. ilk 2 digiti(78) verdi. findall() kullanınca 48 i de verecek"
   ]
  },
  {
   "cell_type": "markdown",
   "metadata": {},
   "source": [
    "#### with compile() method"
   ]
  },
  {
   "cell_type": "code",
   "execution_count": 15,
   "metadata": {},
   "outputs": [],
   "source": [
    "comp=re.compile(\"\\d\\d\") # önce hangi ifadeyi arıyorsam onu text ti vermeden önce \n",
    "# .. compile a yazıyorum"
   ]
  },
  {
   "cell_type": "code",
   "execution_count": 16,
   "metadata": {},
   "outputs": [
    {
     "data": {
      "text/plain": [
       "<re.Match object; span=(1, 3), match='78'>"
      ]
     },
     "execution_count": 16,
     "metadata": {},
     "output_type": "execute_result"
    }
   ],
   "source": [
    "comp.search(text) # Hız açısından comp yaptık.\n",
    "# DS de compile kullanmamıza gerek yok"
   ]
  },
  {
   "cell_type": "code",
   "execution_count": 17,
   "metadata": {},
   "outputs": [
    {
     "data": {
      "text/plain": [
       "<re.Match object; span=(1, 3), match='78'>"
      ]
     },
     "execution_count": 17,
     "metadata": {},
     "output_type": "execute_result"
    }
   ],
   "source": [
    "# Peki bu eşleşen ifadeleri nasıl çekeceğim. num değişkeni üzerinden bakacağız\n",
    "num = comp.search(text)\n",
    "num"
   ]
  },
  {
   "cell_type": "code",
   "execution_count": 19,
   "metadata": {},
   "outputs": [
    {
     "data": {
      "text/plain": [
       "1"
      ]
     },
     "execution_count": 19,
     "metadata": {},
     "output_type": "execute_result"
    }
   ],
   "source": [
    "num.start() # Kaçıncı ifadeden \"match\" olan ifadenin başladığını söyler"
   ]
  },
  {
   "cell_type": "code",
   "execution_count": 18,
   "metadata": {},
   "outputs": [
    {
     "data": {
      "text/plain": [
       "3"
      ]
     },
     "execution_count": 18,
     "metadata": {},
     "output_type": "execute_result"
    }
   ],
   "source": [
    "num.end()  # \"match\" olan ifadenin Kaçıncı ifadedee bittiğini söyler"
   ]
  },
  {
   "cell_type": "code",
   "execution_count": 20,
   "metadata": {},
   "outputs": [
    {
     "data": {
      "text/plain": [
       "(1, 3)"
      ]
     },
     "execution_count": 20,
     "metadata": {},
     "output_type": "execute_result"
    }
   ],
   "source": [
    "num.span() # Üstteki kodların birlikte olanı"
   ]
  },
  {
   "cell_type": "code",
   "execution_count": 21,
   "metadata": {},
   "outputs": [
    {
     "data": {
      "text/plain": [
       "'78'"
      ]
     },
     "execution_count": 21,
     "metadata": {},
     "output_type": "execute_result"
    }
   ],
   "source": [
    "num.group() # İfadeye ulaşmak için group kullandık 78 geldi"
   ]
  },
  {
   "cell_type": "markdown",
   "metadata": {
    "id": "sQ3FgmXXdUiy"
   },
   "source": [
    "#### Find non decimal digits with search function"
   ]
  },
  {
   "cell_type": "code",
   "execution_count": 22,
   "metadata": {
    "id": "7JcMarW9dUi0"
   },
   "outputs": [],
   "source": [
    "text = \"8PM19MIN\""
   ]
  },
  {
   "cell_type": "code",
   "execution_count": 23,
   "metadata": {},
   "outputs": [
    {
     "data": {
      "text/plain": [
       "<re.Match object; span=(1, 2), match='P'>"
      ]
     },
     "execution_count": 23,
     "metadata": {},
     "output_type": "execute_result"
    }
   ],
   "source": [
    "# NoN decimal digitleri çekelim\n",
    "re.search(\"\\D\", text) # \\D : Digital olmayan(Tek) ifadeyi ver. \n",
    "# ilk bulduğunu verdi"
   ]
  },
  {
   "cell_type": "code",
   "execution_count": 24,
   "metadata": {},
   "outputs": [
    {
     "data": {
      "text/plain": [
       "<re.Match object; span=(1, 3), match='PM'>"
      ]
     },
     "execution_count": 24,
     "metadata": {},
     "output_type": "execute_result"
    }
   ],
   "source": [
    "re.search(\"\\D\\D\", text) # \\D : Digital olmayan(iki) ifadeyi ver. \n",
    "# ilk bulduklarını verdi"
   ]
  },
  {
   "cell_type": "code",
   "execution_count": 26,
   "metadata": {},
   "outputs": [
    {
     "data": {
      "text/plain": [
       "<re.Match object; span=(1, 3), match='PM'>"
      ]
     },
     "execution_count": 26,
     "metadata": {},
     "output_type": "execute_result"
    }
   ],
   "source": [
    "re.search(\"\\D+\", text) # \\D\\+ : Digital olmayan(bir veya birden fazla) \n",
    "# .. ifadeyi ver. ilk bulduklarını verdi"
   ]
  },
  {
   "cell_type": "code",
   "execution_count": 28,
   "metadata": {},
   "outputs": [
    {
     "data": {
      "text/plain": [
       "<re.Match object; span=(0, 0), match=''>"
      ]
     },
     "execution_count": 28,
     "metadata": {},
     "output_type": "execute_result"
    }
   ],
   "source": [
    "re.search(\"\\D*\",text) # anlamsız oldu. Çünkü burada grup yok(Altta göreceğiz)"
   ]
  },
  {
   "cell_type": "markdown",
   "metadata": {
    "id": "fyUkcboZdUi1"
   },
   "source": [
    "#### Find phone number pattern"
   ]
  },
  {
   "cell_type": "code",
   "execution_count": 29,
   "metadata": {},
   "outputs": [],
   "source": [
    "text = 'My phone number is 1234567890'"
   ]
  },
  {
   "cell_type": "code",
   "execution_count": 32,
   "metadata": {},
   "outputs": [
    {
     "data": {
      "text/plain": [
       "<re.Match object; span=(19, 29), match='1234567890'>"
      ]
     },
     "execution_count": 32,
     "metadata": {},
     "output_type": "execute_result"
    }
   ],
   "source": [
    "re.search(\"\\d\\d\\d\\d\\d\\d\\d\\d\\d\\d\",text) # \\d\\d\\d\\d\\d\\d\\d\\d\\d\\d : 10 digit"
   ]
  },
  {
   "cell_type": "code",
   "execution_count": 33,
   "metadata": {},
   "outputs": [
    {
     "data": {
      "text/plain": [
       "<re.Match object; span=(19, 29), match='1234567890'>"
      ]
     },
     "execution_count": 33,
     "metadata": {},
     "output_type": "execute_result"
    }
   ],
   "source": [
    "re.search(\"\\d+\",text)"
   ]
  },
  {
   "cell_type": "code",
   "execution_count": 36,
   "metadata": {
    "id": "9t-6zEncdUi2",
    "tags": []
   },
   "outputs": [],
   "source": [
    "text = 'My phone number is 123 456 7890'"
   ]
  },
  {
   "cell_type": "code",
   "execution_count": 38,
   "metadata": {},
   "outputs": [
    {
     "data": {
      "text/plain": [
       "<re.Match object; span=(19, 31), match='123 456 7890'>"
      ]
     },
     "execution_count": 38,
     "metadata": {},
     "output_type": "execute_result"
    }
   ],
   "source": [
    "re.search(\"\\d\\d\\d \\d\\d\\d \\d\\d\\d\\d\",text)"
   ]
  },
  {
   "cell_type": "code",
   "execution_count": 40,
   "metadata": {},
   "outputs": [],
   "source": [
    "text = 'My phone number is 123-456-7890'"
   ]
  },
  {
   "cell_type": "code",
   "execution_count": 41,
   "metadata": {},
   "outputs": [
    {
     "data": {
      "text/plain": [
       "<re.Match object; span=(19, 31), match='123-456-7890'>"
      ]
     },
     "execution_count": 41,
     "metadata": {},
     "output_type": "execute_result"
    }
   ],
   "source": [
    "re.search(\"\\d\\d\\d-\\d\\d\\d-\\d\\d\\d\\d\",text)"
   ]
  },
  {
   "cell_type": "code",
   "execution_count": 42,
   "metadata": {},
   "outputs": [
    {
     "data": {
      "text/plain": [
       "<re.Match object; span=(19, 31), match='123-456-7890'>"
      ]
     },
     "execution_count": 42,
     "metadata": {},
     "output_type": "execute_result"
    }
   ],
   "source": [
    "re.search('\\d'*3 + '-' + '\\d'*3 + '-' + '\\d'*4, text) # Farklı yöntem"
   ]
  },
  {
   "cell_type": "markdown",
   "metadata": {
    "id": "lM-ZB_1WdUi4"
   },
   "source": [
    "#### Find phone number pattern by grouping"
   ]
  },
  {
   "cell_type": "code",
   "execution_count": 43,
   "metadata": {},
   "outputs": [
    {
     "data": {
      "text/plain": [
       "'My phone number is 123-456-7890'"
      ]
     },
     "execution_count": 43,
     "metadata": {},
     "output_type": "execute_result"
    }
   ],
   "source": [
    "text"
   ]
  },
  {
   "cell_type": "code",
   "execution_count": 45,
   "metadata": {},
   "outputs": [
    {
     "data": {
      "text/plain": [
       "<re.Match object; span=(19, 31), match='123-456-7890'>"
      ]
     },
     "execution_count": 45,
     "metadata": {},
     "output_type": "execute_result"
    }
   ],
   "source": [
    "# Gruplandırarak yapalım\n",
    "re.search(\"(\\d\\d\\d)-(\\d\\d\\d)-(\\d\\d\\d\\d)\", text)"
   ]
  },
  {
   "cell_type": "code",
   "execution_count": 46,
   "metadata": {},
   "outputs": [
    {
     "data": {
      "text/plain": [
       "<re.Match object; span=(19, 31), match='123-456-7890'>"
      ]
     },
     "execution_count": 46,
     "metadata": {},
     "output_type": "execute_result"
    }
   ],
   "source": [
    "telno = re.search(\"(\\d\\d\\d)-(\\d\\d\\d)-(\\d\\d\\d\\d)\", text)\n",
    "telno\n",
    "# Object oluşturdum. Şimdi bunları grup-grup çağırabilirim"
   ]
  },
  {
   "cell_type": "code",
   "execution_count": 47,
   "metadata": {},
   "outputs": [
    {
     "data": {
      "text/plain": [
       "'123-456-7890'"
      ]
     },
     "execution_count": 47,
     "metadata": {},
     "output_type": "execute_result"
    }
   ],
   "source": [
    "telno.group()"
   ]
  },
  {
   "cell_type": "code",
   "execution_count": 48,
   "metadata": {},
   "outputs": [
    {
     "data": {
      "text/plain": [
       "'123'"
      ]
     },
     "execution_count": 48,
     "metadata": {},
     "output_type": "execute_result"
    }
   ],
   "source": [
    "telno.group(1)"
   ]
  },
  {
   "cell_type": "code",
   "execution_count": 49,
   "metadata": {},
   "outputs": [
    {
     "data": {
      "text/plain": [
       "'456'"
      ]
     },
     "execution_count": 49,
     "metadata": {},
     "output_type": "execute_result"
    }
   ],
   "source": [
    "telno.group(2)"
   ]
  },
  {
   "cell_type": "code",
   "execution_count": 50,
   "metadata": {},
   "outputs": [
    {
     "data": {
      "text/plain": [
       "'7890'"
      ]
     },
     "execution_count": 50,
     "metadata": {},
     "output_type": "execute_result"
    }
   ],
   "source": [
    "telno.group(3)"
   ]
  },
  {
   "cell_type": "code",
   "execution_count": 51,
   "metadata": {},
   "outputs": [
    {
     "data": {
      "text/plain": [
       "<re.Match object; span=(19, 31), match='123-456-7890'>"
      ]
     },
     "execution_count": 51,
     "metadata": {},
     "output_type": "execute_result"
    }
   ],
   "source": [
    "# 2. yol\n",
    "telno = re.search(\"(\\d+)-(\\d+)-(\\d+)\", text)\n",
    "telno"
   ]
  },
  {
   "cell_type": "code",
   "execution_count": 53,
   "metadata": {},
   "outputs": [
    {
     "data": {
      "text/plain": [
       "<re.Match object; span=(19, 31), match='123-456-7890'>"
      ]
     },
     "execution_count": 53,
     "metadata": {},
     "output_type": "execute_result"
    }
   ],
   "source": [
    "telno = re.search(\"(\\d*)-(\\d*)-(\\d*)\", text)\n",
    "telno"
   ]
  },
  {
   "cell_type": "code",
   "execution_count": 54,
   "metadata": {},
   "outputs": [
    {
     "data": {
      "text/plain": [
       "'456'"
      ]
     },
     "execution_count": 54,
     "metadata": {},
     "output_type": "execute_result"
    }
   ],
   "source": [
    "telno.group(2)"
   ]
  },
  {
   "cell_type": "code",
   "execution_count": 55,
   "metadata": {},
   "outputs": [
    {
     "data": {
      "text/plain": [
       "('456', '7890')"
      ]
     },
     "execution_count": 55,
     "metadata": {},
     "output_type": "execute_result"
    }
   ],
   "source": [
    "telno.group(2,3)"
   ]
  },
  {
   "cell_type": "markdown",
   "metadata": {
    "id": "FGNnm_uJdUi7"
   },
   "source": [
    "#### Escaping parentheses and create 2 group -> first group:(415) second group:555-1212 print"
   ]
  },
  {
   "cell_type": "code",
   "execution_count": 56,
   "metadata": {
    "id": "kZNl9STIdUi8"
   },
   "outputs": [],
   "source": [
    "text = 'My phone number is (415) 555-1212'"
   ]
  },
  {
   "cell_type": "code",
   "execution_count": 60,
   "metadata": {},
   "outputs": [],
   "source": [
    "re.search(\"(\\d\\d\\d) (\\d\\d\\d)-(\\d\\d\\d\\d)\", text) # Çıktıda bir şey döndürmedi\n",
    "# Çünkü parantezler var. Onları hesaba katmalıyım."
   ]
  },
  {
   "cell_type": "code",
   "execution_count": 59,
   "metadata": {},
   "outputs": [],
   "source": [
    "re.search(\"((\\d\\d\\d)) (\\d\\d\\d)-(\\d\\d\\d\\d)\", text) # Bu da çıktı vermedi\n",
    "# Escape kullanmam lazım ki kendisinden sonra gelen karakterin asıl özelliğini\n",
    "# .. bozsun"
   ]
  },
  {
   "cell_type": "code",
   "execution_count": 61,
   "metadata": {},
   "outputs": [
    {
     "data": {
      "text/plain": [
       "<re.Match object; span=(19, 33), match='(415) 555-1212'>"
      ]
     },
     "execution_count": 61,
     "metadata": {},
     "output_type": "execute_result"
    }
   ],
   "source": [
    "re.search(\"(\\(\\d\\d\\d)\\) (\\d\\d\\d)-(\\d\\d\\d\\d)\", text)"
   ]
  },
  {
   "cell_type": "markdown",
   "metadata": {},
   "source": [
    "## ``re.match(pattern, string, flags=0)``\n",
    "\n",
    "Try to apply the pattern at the start of the string, returning a Match object, or None if no match was found.\n",
    "\n",
    "If you want to locate a match anywhere in string, use search() instead of match()"
   ]
  },
  {
   "cell_type": "code",
   "execution_count": 62,
   "metadata": {
    "id": "90Pa0v1OdUiq"
   },
   "outputs": [],
   "source": [
    "# match :  # Yazacağınız regex ifadesini text in başında arar\n",
    "text = \"A78L41K\""
   ]
  },
  {
   "cell_type": "code",
   "execution_count": 63,
   "metadata": {},
   "outputs": [],
   "source": [
    "re.match(\"\\d\\d\",text) # Sonuç döndürmedi NaN. Çünkü en başta digit aradı\n",
    "# .. ama en başta \"A\" var o yüzden sonuç gelmedi"
   ]
  },
  {
   "cell_type": "code",
   "execution_count": 64,
   "metadata": {},
   "outputs": [
    {
     "data": {
      "text/plain": [
       "<re.Match object; span=(0, 3), match='A78'>"
      ]
     },
     "execution_count": 64,
     "metadata": {},
     "output_type": "execute_result"
    }
   ],
   "source": [
    "re.match(\"\\D\\d\\d\",text)"
   ]
  },
  {
   "cell_type": "code",
   "execution_count": 65,
   "metadata": {},
   "outputs": [
    {
     "data": {
      "text/plain": [
       "<re.Match object; span=(0, 3), match='A78'>"
      ]
     },
     "execution_count": 65,
     "metadata": {},
     "output_type": "execute_result"
    }
   ],
   "source": [
    "re.match(\"\\w\\d\\d\",text)"
   ]
  },
  {
   "cell_type": "markdown",
   "metadata": {},
   "source": [
    "## ``re.fullmatch(pattern, string, flags=0)``\n",
    "\n",
    "Try to apply the pattern to all of the string"
   ]
  },
  {
   "cell_type": "code",
   "execution_count": 67,
   "metadata": {},
   "outputs": [],
   "source": [
    "# fullmatch : regex yazdığınız kod  ile texti tam match etmesi(karşılaması) lazım\n",
    "text = \"A78L41K\""
   ]
  },
  {
   "cell_type": "code",
   "execution_count": 68,
   "metadata": {},
   "outputs": [
    {
     "data": {
      "text/plain": [
       "<re.Match object; span=(0, 7), match='A78L41K'>"
      ]
     },
     "execution_count": 68,
     "metadata": {},
     "output_type": "execute_result"
    }
   ],
   "source": [
    "re.fullmatch(\"\\D\\d+\\D\\d+\\D\",text)"
   ]
  },
  {
   "cell_type": "code",
   "execution_count": 69,
   "metadata": {},
   "outputs": [],
   "source": [
    "re.fullmatch(\"\\D\\d+\\D\\d+\",text) # Bir eksik yazınca(tam match olmayınca) \n",
    "# .. sonuç gelmedi"
   ]
  },
  {
   "cell_type": "code",
   "execution_count": 70,
   "metadata": {},
   "outputs": [
    {
     "data": {
      "text/plain": [
       "<re.Match object; span=(0, 7), match='A78L41K'>"
      ]
     },
     "execution_count": 70,
     "metadata": {},
     "output_type": "execute_result"
    }
   ],
   "source": [
    "re.fullmatch(\"\\w+\", text)"
   ]
  },
  {
   "cell_type": "markdown",
   "metadata": {},
   "source": [
    "## ``re.findall(pattern, string, flags=0)``\n",
    "\n",
    "Return a list of all non-overlapping matches in the string."
   ]
  },
  {
   "cell_type": "markdown",
   "metadata": {
    "id": "JAIHT45BdUi-"
   },
   "source": [
    "#### Extract numbers from text as a list"
   ]
  },
  {
   "cell_type": "code",
   "execution_count": 71,
   "metadata": {
    "id": "Y00SfOrhdUi_"
   },
   "outputs": [],
   "source": [
    "# findall :\n",
    "\n",
    "text = \"O 1, t 10, o 100. 100000\"  # Dikkat ilk karakter \"O\" harfi. Sıfır değil"
   ]
  },
  {
   "cell_type": "code",
   "execution_count": null,
   "metadata": {},
   "outputs": [],
   "source": [
    "# Numaraların hepsini çekmek istiyorum\n",
    "re.findall(\"\\d\",text) # Tek karakter istediğim için sayıları tek tek verdi"
   ]
  },
  {
   "cell_type": "code",
   "execution_count": 72,
   "metadata": {},
   "outputs": [
    {
     "data": {
      "text/plain": [
       "['10', '10', '10', '00', '00']"
      ]
     },
     "execution_count": 72,
     "metadata": {},
     "output_type": "execute_result"
    }
   ],
   "source": [
    "re.findall(\"\\d{2}\",text) # 2 rakamdan oluşanları getirdi. ikinci 10 ortaki\n",
    "# .. 100 ün 10 u. Orada 10 u aldı sonraki 0 ın yanında bir şey olmadığı için\n",
    "# .. tekrar 00 yazmadı('10', '10', '00','10' ,'00', '00' şeklinde yazmadı) "
   ]
  },
  {
   "cell_type": "code",
   "execution_count": 73,
   "metadata": {},
   "outputs": [
    {
     "data": {
      "text/plain": [
       "['100', '100', '000']"
      ]
     },
     "execution_count": 73,
     "metadata": {},
     "output_type": "execute_result"
    }
   ],
   "source": [
    "re.findall(\"\\d{3}\",text)"
   ]
  },
  {
   "cell_type": "code",
   "execution_count": 77,
   "metadata": {},
   "outputs": [
    {
     "data": {
      "text/plain": [
       "['1', '10', '100', '0010', '00']"
      ]
     },
     "execution_count": 77,
     "metadata": {},
     "output_type": "execute_result"
    }
   ],
   "source": [
    "text = \"O 1, t 10, o 100. 001000\"\n",
    "re.findall(\"\\d{1,4}\",text)  # 1,6 arasında en büyük olan sayıları getirdi\n",
    "# .. kalanı ayırdı"
   ]
  },
  {
   "cell_type": "code",
   "execution_count": 79,
   "metadata": {},
   "outputs": [
    {
     "data": {
      "text/plain": [
       "['1', '10', '100', '001000']"
      ]
     },
     "execution_count": 79,
     "metadata": {},
     "output_type": "execute_result"
    }
   ],
   "source": [
    "re.findall(\"\\d+\",text)"
   ]
  },
  {
   "cell_type": "markdown",
   "metadata": {},
   "source": [
    "#### Extract words begining with \"f\""
   ]
  },
  {
   "cell_type": "code",
   "execution_count": 80,
   "metadata": {},
   "outputs": [],
   "source": [
    "# f ile başlayanları getir\n",
    "text = 'which foot or hand fell fastest'"
   ]
  },
  {
   "cell_type": "code",
   "execution_count": 81,
   "metadata": {},
   "outputs": [
    {
     "data": {
      "text/plain": [
       "['foot', 'fell', 'fastest']"
      ]
     },
     "execution_count": 81,
     "metadata": {},
     "output_type": "execute_result"
    }
   ],
   "source": [
    "re.findall(\"f[a-z]*\",text)"
   ]
  },
  {
   "cell_type": "markdown",
   "metadata": {},
   "source": [
    "#### Extract equations made up of words and numbers"
   ]
  },
  {
   "cell_type": "code",
   "execution_count": 82,
   "metadata": {},
   "outputs": [],
   "source": [
    "# eşitliğe denk gelen ifadeleri istiyorum\n",
    "text = 'set width=20 and height=10'"
   ]
  },
  {
   "cell_type": "code",
   "execution_count": 84,
   "metadata": {},
   "outputs": [
    {
     "data": {
      "text/plain": [
       "['width=20', 'height=10']"
      ]
     },
     "execution_count": 84,
     "metadata": {},
     "output_type": "execute_result"
    }
   ],
   "source": [
    "re.findall(\"\\w+=\\d+\",text)"
   ]
  },
  {
   "cell_type": "code",
   "execution_count": 85,
   "metadata": {},
   "outputs": [
    {
     "data": {
      "text/plain": [
       "['h=20', 't=10']"
      ]
     },
     "execution_count": 85,
     "metadata": {},
     "output_type": "execute_result"
    }
   ],
   "source": [
    "re.findall(\"\\w=\\d+\",text)"
   ]
  },
  {
   "cell_type": "code",
   "execution_count": 87,
   "metadata": {},
   "outputs": [
    {
     "data": {
      "text/plain": [
       "['width=2', 'height=1']"
      ]
     },
     "execution_count": 87,
     "metadata": {},
     "output_type": "execute_result"
    }
   ],
   "source": [
    "re.findall(\"\\w+=\\d\",text)"
   ]
  },
  {
   "cell_type": "code",
   "execution_count": 86,
   "metadata": {},
   "outputs": [
    {
     "data": {
      "text/plain": [
       "[('width', '20'), ('height', '10')]"
      ]
     },
     "execution_count": 86,
     "metadata": {},
     "output_type": "execute_result"
    }
   ],
   "source": [
    "# Grup grup alalım bunları\n",
    "re.findall(\"(\\w+)=(\\d+)\",text)"
   ]
  },
  {
   "cell_type": "markdown",
   "metadata": {
    "id": "Bl2g3RcBdUjG"
   },
   "source": [
    "#### Check if the string starts with 'hello'"
   ]
  },
  {
   "cell_type": "code",
   "execution_count": 88,
   "metadata": {
    "id": "nEFXpIaHdUjH"
   },
   "outputs": [],
   "source": [
    "text = \"hello world\""
   ]
  },
  {
   "cell_type": "code",
   "execution_count": 89,
   "metadata": {},
   "outputs": [
    {
     "data": {
      "text/plain": [
       "['hello']"
      ]
     },
     "execution_count": 89,
     "metadata": {},
     "output_type": "execute_result"
    }
   ],
   "source": [
    "re.findall(\"hello\",text)"
   ]
  },
  {
   "cell_type": "code",
   "execution_count": 90,
   "metadata": {},
   "outputs": [
    {
     "data": {
      "text/plain": [
       "['hello']"
      ]
     },
     "execution_count": 90,
     "metadata": {},
     "output_type": "execute_result"
    }
   ],
   "source": [
    "re.findall(\"^hello\",text) # ^ : başında \"hello\" varsa"
   ]
  },
  {
   "cell_type": "markdown",
   "metadata": {
    "id": "roSdhs4KdUjJ"
   },
   "source": [
    "#### Check if the string ends with 'world'"
   ]
  },
  {
   "cell_type": "code",
   "execution_count": 92,
   "metadata": {},
   "outputs": [
    {
     "data": {
      "text/plain": [
       "['world']"
      ]
     },
     "execution_count": 92,
     "metadata": {},
     "output_type": "execute_result"
    }
   ],
   "source": [
    "re.findall(\"world$\",text) # $ : sonunda \"world\" varsa"
   ]
  },
  {
   "cell_type": "markdown",
   "metadata": {},
   "source": [
    "## ``re.sub(pattern, repl, string, count=0, flags=0)``\n",
    "\n",
    "Return the string obtained by replacing the leftmost non-overlapping occurrences of the pattern in string by the replacement repl.  repl can be either a string or a callable; if a string, backslash escapes in it are processed.  If it is a callable, it's passed the Match object and must return a replacement string to be used."
   ]
  },
  {
   "cell_type": "markdown",
   "metadata": {
    "id": "h77aI1DRdUjA"
   },
   "source": [
    "#### Remove anything other than digits"
   ]
  },
  {
   "cell_type": "code",
   "execution_count": 106,
   "metadata": {
    "id": "CSV6i0hEdUjB"
   },
   "outputs": [],
   "source": [
    "# digit olmayanları atacağız\n",
    "text = \"2004-959-559 # This is Phone Number\""
   ]
  },
  {
   "cell_type": "code",
   "execution_count": null,
   "metadata": {},
   "outputs": [],
   "source": [
    "re.sub(\"\\D\",\"\",text)"
   ]
  },
  {
   "cell_type": "markdown",
   "metadata": {
    "id": "jteADwnbxSGs"
   },
   "source": [
    "#### Remove digits and replace with \".\""
   ]
  },
  {
   "cell_type": "code",
   "execution_count": 95,
   "metadata": {},
   "outputs": [
    {
     "data": {
      "text/plain": [
       "'....-...-... # This is Phone Number'"
      ]
     },
     "execution_count": 95,
     "metadata": {},
     "output_type": "execute_result"
    }
   ],
   "source": [
    "re.sub(\"\\d\",\".\",text) # Digitleri nokta ile değiştirsin"
   ]
  },
  {
   "cell_type": "code",
   "execution_count": 96,
   "metadata": {},
   "outputs": [
    {
     "data": {
      "text/plain": [
       "'....-959-559 # This is Phone Number'"
      ]
     },
     "execution_count": 96,
     "metadata": {},
     "output_type": "execute_result"
    }
   ],
   "source": [
    "re.sub(\"\\d\",\".\",text, count=4) # Count=4 : ilk bulduğu 4 tanesini nokta ile\n",
    "# .. değiştirsin"
   ]
  },
  {
   "cell_type": "code",
   "execution_count": 97,
   "metadata": {},
   "outputs": [
    {
     "data": {
      "text/plain": [
       "0    2004-959-559 # This is Phone Number\n",
       "dtype: object"
      ]
     },
     "execution_count": 97,
     "metadata": {},
     "output_type": "execute_result"
    }
   ],
   "source": [
    "pd.Series(text) # texttimizi tek elemanlı bir seri yaptık"
   ]
  },
  {
   "cell_type": "code",
   "execution_count": 107,
   "metadata": {},
   "outputs": [
    {
     "data": {
      "text/plain": [
       "0    ....-...-... # This is Phone Number\n",
       "dtype: object"
      ]
     },
     "execution_count": 107,
     "metadata": {},
     "output_type": "execute_result"
    }
   ],
   "source": [
    "pd.Series(text).str.replace(\"\\d\",\".\",regex=True) # regex=True kullanmazsak\n",
    "# .. uyarı veriyor kod(Sonraki sürümlerde Python kodunda regex=False olacak\") "
   ]
  },
  {
   "cell_type": "markdown",
   "metadata": {},
   "source": [
    "## ``re.split(pattern, string, maxsplit=0, flags=0)``\n",
    "\n",
    "Split the source string by the occurrences of the pattern, returning a list containing the resulting substrings."
   ]
  },
  {
   "cell_type": "code",
   "execution_count": 108,
   "metadata": {},
   "outputs": [],
   "source": [
    "text = \"ab56cd78_de fg3hıi49\""
   ]
  },
  {
   "cell_type": "code",
   "execution_count": 109,
   "metadata": {},
   "outputs": [
    {
     "data": {
      "text/plain": [
       "['', '56', '78', '3', '49']"
      ]
     },
     "execution_count": 109,
     "metadata": {},
     "output_type": "execute_result"
    }
   ],
   "source": [
    "re.split(\"\\D+\",text) # Digit olmayan ifadelerden text i böl\n",
    "# Not:en baş ile \"ab\" arasında bi yer olduğu için boşlukta geldi"
   ]
  },
  {
   "cell_type": "code",
   "execution_count": 113,
   "metadata": {},
   "outputs": [
    {
     "data": {
      "text/plain": [
       "['', '56', '78_de fg3hıi49']"
      ]
     },
     "execution_count": 113,
     "metadata": {},
     "output_type": "execute_result"
    }
   ],
   "source": [
    "re.split(\"\\D+\", text, maxsplit=2) # verilen kritere(Digit olmayan ifadelere) \n",
    "# .. göre 2 yerden böl sonrası normal gelsin"
   ]
  },
  {
   "cell_type": "code",
   "execution_count": 114,
   "metadata": {},
   "outputs": [
    {
     "data": {
      "text/plain": [
       "['56', '78', '3', '49']"
      ]
     },
     "execution_count": 114,
     "metadata": {},
     "output_type": "execute_result"
    }
   ],
   "source": [
    "re.findall(\"\\d+\", text)"
   ]
  },
  {
   "cell_type": "markdown",
   "metadata": {},
   "source": [
    "## <p style=\"background-color:#9d4f8c; font-family:newtimeroman; color:#FFF9ED; font-size:175%; text-align:center; border-radius:10px 10px;\">Pandas Functions Accepting RegEx</p>\n",
    "\n",
    "<a id=\"4\"></a>\n",
    "<a href=\"#toc\" class=\"btn btn-primary btn-sm\" role=\"button\" aria-pressed=\"true\" \n",
    "style=\"color:blue; background-color:#dfa8e4\" data-toggle=\"popover\">Content</a>"
   ]
  },
  {
   "cell_type": "markdown",
   "metadata": {},
   "source": [
    "- **count():** Count occurrences of pattern in each string of the Series/Index\n",
    "- **replace():** Replace the search string or pattern with the given value\n",
    "- **contains():** Test if pattern or regex is contained within a string of a Series or Index. Calls re.search() and returns a boolean\n",
    "- **findall():** Find all occurrences of pattern or regular expression in the Series/Index. Equivalent to applying re.findall() on all elements\n",
    "- **match():** Determine if each string matches a regular expression. Calls re.match() and returns a boolean\n",
    "- **split():** Split strings around given separator/delimiter and accepts string or regular expression to split on\n",
    "- **extract():** Extract capture groups in the regex pat as columns in a DataFrame and returns the captured groups"
   ]
  },
  {
   "cell_type": "code",
   "execution_count": 115,
   "metadata": {},
   "outputs": [
    {
     "data": {
      "text/html": [
       "<div>\n",
       "<style scoped>\n",
       "    .dataframe tbody tr th:only-of-type {\n",
       "        vertical-align: middle;\n",
       "    }\n",
       "\n",
       "    .dataframe tbody tr th {\n",
       "        vertical-align: top;\n",
       "    }\n",
       "\n",
       "    .dataframe thead th {\n",
       "        text-align: right;\n",
       "    }\n",
       "</style>\n",
       "<table border=\"1\" class=\"dataframe\">\n",
       "  <thead>\n",
       "    <tr style=\"text-align: right;\">\n",
       "      <th></th>\n",
       "      <th>name</th>\n",
       "      <th>bloom</th>\n",
       "    </tr>\n",
       "  </thead>\n",
       "  <tbody>\n",
       "    <tr>\n",
       "      <th>0</th>\n",
       "      <td>Evert van Dijk</td>\n",
       "      <td>Carmine-pink, salmon-pink streaks, stripes, fl...</td>\n",
       "    </tr>\n",
       "    <tr>\n",
       "      <th>1</th>\n",
       "      <td>Every Good Gift</td>\n",
       "      <td>Red.  Flowers velvety red.  #079463895689# Mod...</td>\n",
       "    </tr>\n",
       "    <tr>\n",
       "      <th>2</th>\n",
       "      <td>Evghenya</td>\n",
       "      <td>Orange-pink.  75 petals.  Large, very double #...</td>\n",
       "    </tr>\n",
       "    <tr>\n",
       "      <th>3</th>\n",
       "      <td>Evita</td>\n",
       "      <td>White or white blend.  None to mild fragrance....</td>\n",
       "    </tr>\n",
       "    <tr>\n",
       "      <th>4</th>\n",
       "      <td>Evrathin</td>\n",
       "      <td>Light pink. [Deep pink.]  Outer petals white. ...</td>\n",
       "    </tr>\n",
       "    <tr>\n",
       "      <th>5</th>\n",
       "      <td>Evita 2</td>\n",
       "      <td>White, blush shading.  Mild, wild rose fragran...</td>\n",
       "    </tr>\n",
       "  </tbody>\n",
       "</table>\n",
       "</div>"
      ],
      "text/plain": [
       "              name                                              bloom\n",
       "0   Evert van Dijk  Carmine-pink, salmon-pink streaks, stripes, fl...\n",
       "1  Every Good Gift  Red.  Flowers velvety red.  #079463895689# Mod...\n",
       "2         Evghenya  Orange-pink.  75 petals.  Large, very double #...\n",
       "3            Evita  White or white blend.  None to mild fragrance....\n",
       "4         Evrathin  Light pink. [Deep pink.]  Outer petals white. ...\n",
       "5          Evita 2  White, blush shading.  Mild, wild rose fragran..."
      ]
     },
     "execution_count": 115,
     "metadata": {},
     "output_type": "execute_result"
    }
   ],
   "source": [
    "data = [['Evert van Dijk', 'Carmine-pink, salmon-pink streaks, stripes, flecks. #94569# Warm pink, clear carmine pink, rose pink shaded salmon.  Mild fragrance.  Large, very double, in small clusters, high-centered bloom form.  Blooms in flushes throughout the season.'],\n",
    "        ['Every Good Gift', 'Red.  Flowers velvety red.  #079463895689# Moderate fragrance.  Average diameter 4\".  Medium-large, full (26-40 petals), borne mostly solitary bloom form.  Blooms in flushes throughout the season.'], \n",
    "        ['Evghenya', 'Orange-pink.  75 petals.  Large, very double #68345_686# bloom form.  Blooms in flushes throughout the season.'], \n",
    "        ['Evita', 'White or white blend.  None to mild fragrance.  35 petals #9897#.  Large, full (26-40 petals), high-centered bloom form.  Blooms in flushes throughout the season.'],\n",
    "        ['Evrathin', 'Light pink. [Deep pink.]  Outer petals white. Expand rarely #679754YH89#.  Mild fragrance.  35 to 40 petals.  Average diameter 2.5\".  Medium, double (17-25 petals), full (26-40 petals), cluster-flowered, in small clusters bloom form.  Prolific, once-blooming spring or summer.  Glandular sepals, leafy sepals, long sepals buds.'],\n",
    "        ['Evita 2', 'White, blush shading.  Mild, wild rose fragrance #AGHJS876IOP#.  20 to 25 petals.  Average diameter 1.25\".  Small, very double, cluster-flowered bloom form.  Blooms in flushes throughout the season.']]\n",
    "  \n",
    "df = pd.DataFrame(data, columns = ['name', 'bloom']) \n",
    "df"
   ]
  },
  {
   "cell_type": "markdown",
   "metadata": {},
   "source": [
    "## ``pandas.Series.str.count(pat, flags=0)``\n",
    "\n",
    "Count occurrences of pattern in each string of the Series/Index.\n",
    "\n",
    "This function is used to count the number of times a particular regex pattern is repeated in each of the string elements of the Series."
   ]
  },
  {
   "cell_type": "markdown",
   "metadata": {},
   "source": [
    "#### How many numerical values are there in each row of \"bloom\" feature?"
   ]
  },
  {
   "cell_type": "code",
   "execution_count": 116,
   "metadata": {},
   "outputs": [
    {
     "data": {
      "text/plain": [
       "'Carmine-pink, salmon-pink streaks, stripes, flecks. #94569# Warm pink, clear carmine pink, rose pink shaded salmon.  Mild fragrance.  Large, very double, in small clusters, high-centered bloom form.  Blooms in flushes throughout the season.'"
      ]
     },
     "execution_count": 116,
     "metadata": {},
     "output_type": "execute_result"
    }
   ],
   "source": [
    "df.bloom[0]"
   ]
  },
  {
   "cell_type": "markdown",
   "metadata": {},
   "source": [
    "#### How many characters are there in each row of \"bloom\" feature?"
   ]
  },
  {
   "cell_type": "code",
   "execution_count": 117,
   "metadata": {},
   "outputs": [
    {
     "data": {
      "text/plain": [
       "0     1\n",
       "1     4\n",
       "2     3\n",
       "3     4\n",
       "4    10\n",
       "5     5\n",
       "Name: bloom, dtype: int64"
      ]
     },
     "execution_count": 117,
     "metadata": {},
     "output_type": "execute_result"
    }
   ],
   "source": [
    "# DS te bizim uğraşacağımız alanlar buralar\n",
    "df.bloom.str.count(\"\\d+\")"
   ]
  },
  {
   "cell_type": "code",
   "execution_count": 120,
   "metadata": {},
   "outputs": [
    {
     "data": {
      "text/plain": [
       "'Red.  Flowers velvety red.  #079463895689# Moderate fragrance.  Average diameter 4\".  Medium-large, full (26-40 petals), borne mostly solitary bloom form.  Blooms in flushes throughout the season.'"
      ]
     },
     "execution_count": 120,
     "metadata": {},
     "output_type": "execute_result"
    }
   ],
   "source": [
    "df.bloom[1] # 4 tame"
   ]
  },
  {
   "cell_type": "code",
   "execution_count": 123,
   "metadata": {},
   "outputs": [
    {
     "data": {
      "text/plain": [
       "0    240\n",
       "1    196\n",
       "2    110\n",
       "3    162\n",
       "4    327\n",
       "5    198\n",
       "Name: bloom, dtype: int64"
      ]
     },
     "execution_count": 123,
     "metadata": {},
     "output_type": "execute_result"
    }
   ],
   "source": [
    "df.bloom.apply(len)"
   ]
  },
  {
   "cell_type": "code",
   "execution_count": 124,
   "metadata": {},
   "outputs": [
    {
     "data": {
      "text/plain": [
       "0    240\n",
       "1    196\n",
       "2    110\n",
       "3    162\n",
       "4    327\n",
       "5    198\n",
       "Name: bloom, dtype: int64"
      ]
     },
     "execution_count": 124,
     "metadata": {},
     "output_type": "execute_result"
    }
   ],
   "source": [
    "df.bloom.str.count(\".\") # new_line hariç herşeyi sayar"
   ]
  },
  {
   "cell_type": "markdown",
   "metadata": {},
   "source": [
    "#### How many sentences are there in each row of \"bloom\" feature?"
   ]
  },
  {
   "cell_type": "code",
   "execution_count": 125,
   "metadata": {},
   "outputs": [
    {
     "data": {
      "text/plain": [
       "0     5\n",
       "1     6\n",
       "2     4\n",
       "3     5\n",
       "4    11\n",
       "5     7\n",
       "Name: bloom, dtype: int64"
      ]
     },
     "execution_count": 125,
     "metadata": {},
     "output_type": "execute_result"
    }
   ],
   "source": [
    "df.bloom.str.count(\"\\.\")"
   ]
  },
  {
   "cell_type": "markdown",
   "metadata": {},
   "source": [
    "## ``pandas.Series.str.replace(pat, repl, n=- 1, case=None, flags=0, regex=None)``\n",
    "\n",
    "Replace each occurrence of pattern/regex in the Series/Index.\n",
    "\n",
    "Equivalent to str.replace() or re.sub(), depending on the regex value."
   ]
  },
  {
   "cell_type": "markdown",
   "metadata": {},
   "source": [
    "#### Replace the values finding between the two \"#\" characters (including \"#\" characters) with the \"\" in each row of \"bloom\" feature "
   ]
  },
  {
   "cell_type": "code",
   "execution_count": 128,
   "metadata": {},
   "outputs": [
    {
     "data": {
      "text/plain": [
       "'Carmine-pink, salmon-pink streaks, stripes, flecks.  Warm pink, clear carmine pink, rose pink shaded salmon.  Mild fragrance.  Large, very double, in small clusters, high-centered bloom form.  Blooms in flushes throughout the season.'"
      ]
     },
     "execution_count": 128,
     "metadata": {},
     "output_type": "execute_result"
    }
   ],
   "source": [
    "# özel(Dash) karakterler arasındakileri ifade edeceğim. Özel karakterler arasında\n",
    "# .. boşluk yok datamda\n",
    "df[\"bloom\"] = df.bloom.str.replace(\"#\\S+#\",\"\",regex = True)\n",
    "df[\"bloom\"][0] # Dash karakter li ifadeyi tamamen kaldırdı"
   ]
  },
  {
   "cell_type": "code",
   "execution_count": 129,
   "metadata": {},
   "outputs": [
    {
     "data": {
      "text/plain": [
       "0    0\n",
       "1    0\n",
       "2    0\n",
       "3    0\n",
       "4    0\n",
       "5    0\n",
       "Name: bloom, dtype: int64"
      ]
     },
     "execution_count": 129,
     "metadata": {},
     "output_type": "execute_result"
    }
   ],
   "source": [
    "# Hepsinden bunu silmiş mi nasıl bakarız?\n",
    "df.bloom.str.count(\"#\\S+#\") # Hepsi gitmiş"
   ]
  },
  {
   "cell_type": "markdown",
   "metadata": {},
   "source": [
    "## ``pandas.Series.str.contains(pat, case=True, flags=0, na=None, regex=True)``\n",
    "\n",
    "Test if pattern or regex is contained within a string of a Series or Index.\n",
    "\n",
    "Return boolean Series or Index based on whether a given pattern or regex is contained within a string of a Series or Index."
   ]
  },
  {
   "cell_type": "markdown",
   "metadata": {},
   "source": [
    "#### Which rows in \"bloom\" feature includes \"diameter\" value?"
   ]
  },
  {
   "cell_type": "code",
   "execution_count": 130,
   "metadata": {},
   "outputs": [
    {
     "data": {
      "text/plain": [
       "0    False\n",
       "1     True\n",
       "2    False\n",
       "3    False\n",
       "4     True\n",
       "5     True\n",
       "Name: bloom, dtype: bool"
      ]
     },
     "execution_count": 130,
     "metadata": {},
     "output_type": "execute_result"
    }
   ],
   "source": [
    "# contains : regex ile contains olup olmadığına bakalım\n",
    "df.bloom.str.contains(\"diameter\") # Normalde böyle yapabilirim"
   ]
  },
  {
   "cell_type": "code",
   "execution_count": 135,
   "metadata": {},
   "outputs": [
    {
     "data": {
      "text/plain": [
       "0    False\n",
       "1     True\n",
       "2    False\n",
       "3    False\n",
       "4     True\n",
       "5     True\n",
       "Name: bloom, dtype: bool"
      ]
     },
     "execution_count": 135,
     "metadata": {},
     "output_type": "execute_result"
    }
   ],
   "source": [
    "df.bloom.str.contains('\\d+\"') # Aynı çıktıyı verir\n",
    "# NoT: burada   tırnak(\") işareti inch anlamında.(Domain knowledge)"
   ]
  },
  {
   "cell_type": "code",
   "execution_count": 134,
   "metadata": {},
   "outputs": [
    {
     "data": {
      "text/html": [
       "<div>\n",
       "<style scoped>\n",
       "    .dataframe tbody tr th:only-of-type {\n",
       "        vertical-align: middle;\n",
       "    }\n",
       "\n",
       "    .dataframe tbody tr th {\n",
       "        vertical-align: top;\n",
       "    }\n",
       "\n",
       "    .dataframe thead th {\n",
       "        text-align: right;\n",
       "    }\n",
       "</style>\n",
       "<table border=\"1\" class=\"dataframe\">\n",
       "  <thead>\n",
       "    <tr style=\"text-align: right;\">\n",
       "      <th></th>\n",
       "      <th>name</th>\n",
       "      <th>bloom</th>\n",
       "    </tr>\n",
       "  </thead>\n",
       "  <tbody>\n",
       "    <tr>\n",
       "      <th>1</th>\n",
       "      <td>Every Good Gift</td>\n",
       "      <td>Red.  Flowers velvety red.   Moderate fragranc...</td>\n",
       "    </tr>\n",
       "    <tr>\n",
       "      <th>4</th>\n",
       "      <td>Evrathin</td>\n",
       "      <td>Light pink. [Deep pink.]  Outer petals white. ...</td>\n",
       "    </tr>\n",
       "    <tr>\n",
       "      <th>5</th>\n",
       "      <td>Evita 2</td>\n",
       "      <td>White, blush shading.  Mild, wild rose fragran...</td>\n",
       "    </tr>\n",
       "  </tbody>\n",
       "</table>\n",
       "</div>"
      ],
      "text/plain": [
       "              name                                              bloom\n",
       "1  Every Good Gift  Red.  Flowers velvety red.   Moderate fragranc...\n",
       "4         Evrathin  Light pink. [Deep pink.]  Outer petals white. ...\n",
       "5          Evita 2  White, blush shading.  Mild, wild rose fragran..."
      ]
     },
     "execution_count": 134,
     "metadata": {},
     "output_type": "execute_result"
    }
   ],
   "source": [
    "df.loc[df.bloom.str.contains('\\d+\"')] # df çıktıyı verir"
   ]
  },
  {
   "cell_type": "markdown",
   "metadata": {},
   "source": [
    "## ``pandas.Series.str.findall(pat, flags=0)``\n",
    "\n",
    "Find all occurrences of pattern or regular expression in the Series/Index.\n",
    "\n",
    "Equivalent to applying re.findall() to all the elements in the Series/Index."
   ]
  },
  {
   "cell_type": "markdown",
   "metadata": {},
   "source": [
    "#### Find all numeric values in each rows of the \"bloom\" feature "
   ]
  },
  {
   "cell_type": "code",
   "execution_count": 136,
   "metadata": {},
   "outputs": [
    {
     "data": {
      "text/plain": [
       "0                                []\n",
       "1                       [4, 26, 40]\n",
       "2                              [75]\n",
       "3                      [35, 26, 40]\n",
       "4    [35, 40, 2, 5, 17, 25, 26, 40]\n",
       "5                   [20, 25, 1, 25]\n",
       "Name: bloom, dtype: object"
      ]
     },
     "execution_count": 136,
     "metadata": {},
     "output_type": "execute_result"
    }
   ],
   "source": [
    "# Her bir satırda geçen sayısal değerleri göstersin findall\n",
    "df.bloom.str.findall(\"\\d+\")"
   ]
  },
  {
   "cell_type": "markdown",
   "metadata": {},
   "source": [
    "#### Find diameter values in each rows of the \"bloom\" feature"
   ]
  },
  {
   "cell_type": "code",
   "execution_count": 137,
   "metadata": {},
   "outputs": [
    {
     "data": {
      "text/plain": [
       "0           []\n",
       "1         [4\"]\n",
       "2           []\n",
       "3           []\n",
       "4        [2.5]\n",
       "5    [1.2, 5\"]\n",
       "Name: bloom, dtype: object"
      ]
     },
     "execution_count": 137,
     "metadata": {},
     "output_type": "execute_result"
    }
   ],
   "source": [
    "# Bu yukardaki çıktıdaki sayısal değerlerden hangileri çap değeri onları\n",
    "# .. versin istiyorum çıktım da\n",
    "df.bloom.str.findall('\\d+\\.\\d|\\d+\"') # digit de sol da 1 veya birden fazla tam sayı\n",
    "# noktanın sağ tarafında 1 veya 1 den fazla tam sayı olanları versin"
   ]
  },
  {
   "cell_type": "code",
   "execution_count": 138,
   "metadata": {},
   "outputs": [
    {
     "data": {
      "text/plain": [
       "0         []\n",
       "1       [4\"]\n",
       "2         []\n",
       "3         []\n",
       "4     [2.5\"]\n",
       "5    [1.25\"]\n",
       "Name: bloom, dtype: object"
      ]
     },
     "execution_count": 138,
     "metadata": {},
     "output_type": "execute_result"
    }
   ],
   "source": [
    "df.bloom.str.findall('\\d+\"|\\d+\\.\\d+\"')"
   ]
  },
  {
   "cell_type": "markdown",
   "metadata": {},
   "source": [
    "## ``pandas.Series.str.match(pat, case=True, flags=0, na=None)``\n",
    "\n",
    "Determine if each string starts with a match of a regular expression."
   ]
  },
  {
   "cell_type": "markdown",
   "metadata": {},
   "source": [
    "#### Find the rows of pink blooms (this information is available in the first words of the rows)"
   ]
  },
  {
   "cell_type": "code",
   "execution_count": 140,
   "metadata": {},
   "outputs": [
    {
     "data": {
      "text/plain": [
       "0     True\n",
       "1    False\n",
       "2     True\n",
       "3    False\n",
       "4     True\n",
       "5    False\n",
       "Name: bloom, dtype: bool"
      ]
     },
     "execution_count": 140,
     "metadata": {},
     "output_type": "execute_result"
    }
   ],
   "source": [
    "# starts with # Başta geçen carmine-pink, pink, light pink vs leri çekmek\n",
    "# .. istiyorum yani pink ile başlayan her türlüsünü\n",
    "# uzun yolu yapalım önce\n",
    "df.bloom.str.match(\"pink|\\w+-pink|\\w+ pink\")"
   ]
  },
  {
   "cell_type": "code",
   "execution_count": 141,
   "metadata": {},
   "outputs": [
    {
     "data": {
      "text/plain": [
       "0     True\n",
       "1    False\n",
       "2     True\n",
       "3    False\n",
       "4     True\n",
       "5    False\n",
       "Name: bloom, dtype: bool"
      ]
     },
     "execution_count": 141,
     "metadata": {},
     "output_type": "execute_result"
    }
   ],
   "source": [
    "df.bloom.str.match(\"pink|\\w+[- ]?pink\") # 2. yol"
   ]
  },
  {
   "cell_type": "code",
   "execution_count": 142,
   "metadata": {},
   "outputs": [
    {
     "data": {
      "text/plain": [
       "0     True\n",
       "1    False\n",
       "2     True\n",
       "3    False\n",
       "4     True\n",
       "5    False\n",
       "Name: bloom, dtype: bool"
      ]
     },
     "execution_count": 142,
     "metadata": {},
     "output_type": "execute_result"
    }
   ],
   "source": [
    "df.bloom.str.match(\".+pink\") # 3. yol"
   ]
  },
  {
   "cell_type": "markdown",
   "metadata": {},
   "source": [
    "## ``pandas.Series.str.split(pat=None, n=- 1, expand=False, *, regex=None)``\n",
    "\n",
    "Split strings around given separator/delimiter.\n",
    "\n",
    "Splits the string in the Series/Index from the beginning, at the specified delimiter string."
   ]
  },
  {
   "cell_type": "markdown",
   "metadata": {},
   "source": [
    "#### Split each rows of \"bloom\" feature from the dot character as sentences "
   ]
  },
  {
   "cell_type": "code",
   "execution_count": 143,
   "metadata": {},
   "outputs": [
    {
     "data": {
      "text/plain": [
       "0    [Carmine-pink, salmon-pink streaks, stripes, f...\n",
       "1    [Red,  Flowers velvety red,   Moderate fragran...\n",
       "2    [Orange-pink,  75 petals,  Large, very double ...\n",
       "3    [White or white blend,  None to mild fragrance...\n",
       "4    [Light pink, [Deep pink.]  Outer petals white,...\n",
       "5    [White, blush shading,  Mild, wild rose fragra...\n",
       "Name: bloom, dtype: object"
      ]
     },
     "execution_count": 143,
     "metadata": {},
     "output_type": "execute_result"
    }
   ],
   "source": [
    "# Cümle cümle bölmek istiyorum split ile açıklamaları\n",
    "df.bloom.str.split(\"\\. \") # noktadan bölecek\n",
    "# NOT: Noktadan sonrada hep boşluk var veride"
   ]
  },
  {
   "cell_type": "code",
   "execution_count": 144,
   "metadata": {},
   "outputs": [
    {
     "data": {
      "text/html": [
       "<div>\n",
       "<style scoped>\n",
       "    .dataframe tbody tr th:only-of-type {\n",
       "        vertical-align: middle;\n",
       "    }\n",
       "\n",
       "    .dataframe tbody tr th {\n",
       "        vertical-align: top;\n",
       "    }\n",
       "\n",
       "    .dataframe thead th {\n",
       "        text-align: right;\n",
       "    }\n",
       "</style>\n",
       "<table border=\"1\" class=\"dataframe\">\n",
       "  <thead>\n",
       "    <tr style=\"text-align: right;\">\n",
       "      <th></th>\n",
       "      <th>0</th>\n",
       "      <th>1</th>\n",
       "      <th>2</th>\n",
       "      <th>3</th>\n",
       "      <th>4</th>\n",
       "      <th>5</th>\n",
       "      <th>6</th>\n",
       "      <th>7</th>\n",
       "      <th>8</th>\n",
       "    </tr>\n",
       "  </thead>\n",
       "  <tbody>\n",
       "    <tr>\n",
       "      <th>0</th>\n",
       "      <td>Carmine-pink, salmon-pink streaks, stripes, fl...</td>\n",
       "      <td>Warm pink, clear carmine pink, rose pink shad...</td>\n",
       "      <td>Mild fragrance</td>\n",
       "      <td>Large, very double, in small clusters, high-c...</td>\n",
       "      <td>Blooms in flushes throughout the season.</td>\n",
       "      <td>None</td>\n",
       "      <td>None</td>\n",
       "      <td>None</td>\n",
       "      <td>None</td>\n",
       "    </tr>\n",
       "    <tr>\n",
       "      <th>1</th>\n",
       "      <td>Red</td>\n",
       "      <td>Flowers velvety red</td>\n",
       "      <td>Moderate fragrance</td>\n",
       "      <td>Average diameter 4\"</td>\n",
       "      <td>Medium-large, full (26-40 petals), borne most...</td>\n",
       "      <td>Blooms in flushes throughout the season.</td>\n",
       "      <td>None</td>\n",
       "      <td>None</td>\n",
       "      <td>None</td>\n",
       "    </tr>\n",
       "    <tr>\n",
       "      <th>2</th>\n",
       "      <td>Orange-pink</td>\n",
       "      <td>75 petals</td>\n",
       "      <td>Large, very double  bloom form</td>\n",
       "      <td>Blooms in flushes throughout the season.</td>\n",
       "      <td>None</td>\n",
       "      <td>None</td>\n",
       "      <td>None</td>\n",
       "      <td>None</td>\n",
       "      <td>None</td>\n",
       "    </tr>\n",
       "    <tr>\n",
       "      <th>3</th>\n",
       "      <td>White or white blend</td>\n",
       "      <td>None to mild fragrance</td>\n",
       "      <td>35 petals</td>\n",
       "      <td>Large, full (26-40 petals), high-centered blo...</td>\n",
       "      <td>Blooms in flushes throughout the season.</td>\n",
       "      <td>None</td>\n",
       "      <td>None</td>\n",
       "      <td>None</td>\n",
       "      <td>None</td>\n",
       "    </tr>\n",
       "    <tr>\n",
       "      <th>4</th>\n",
       "      <td>Light pink</td>\n",
       "      <td>[Deep pink.]  Outer petals white</td>\n",
       "      <td>Expand rarely</td>\n",
       "      <td>Mild fragrance</td>\n",
       "      <td>35 to 40 petals</td>\n",
       "      <td>Average diameter 2.5\"</td>\n",
       "      <td>Medium, double (17-25 petals), full (26-40 pe...</td>\n",
       "      <td>Prolific, once-blooming spring or summer</td>\n",
       "      <td>Glandular sepals, leafy sepals, long sepals b...</td>\n",
       "    </tr>\n",
       "    <tr>\n",
       "      <th>5</th>\n",
       "      <td>White, blush shading</td>\n",
       "      <td>Mild, wild rose fragrance</td>\n",
       "      <td>20 to 25 petals</td>\n",
       "      <td>Average diameter 1.25\"</td>\n",
       "      <td>Small, very double, cluster-flowered bloom form</td>\n",
       "      <td>Blooms in flushes throughout the season.</td>\n",
       "      <td>None</td>\n",
       "      <td>None</td>\n",
       "      <td>None</td>\n",
       "    </tr>\n",
       "  </tbody>\n",
       "</table>\n",
       "</div>"
      ],
      "text/plain": [
       "                                                   0  \\\n",
       "0  Carmine-pink, salmon-pink streaks, stripes, fl...   \n",
       "1                                                Red   \n",
       "2                                        Orange-pink   \n",
       "3                               White or white blend   \n",
       "4                                         Light pink   \n",
       "5                               White, blush shading   \n",
       "\n",
       "                                                   1  \\\n",
       "0   Warm pink, clear carmine pink, rose pink shad...   \n",
       "1                                Flowers velvety red   \n",
       "2                                          75 petals   \n",
       "3                             None to mild fragrance   \n",
       "4                   [Deep pink.]  Outer petals white   \n",
       "5                         Mild, wild rose fragrance    \n",
       "\n",
       "                                 2  \\\n",
       "0                   Mild fragrance   \n",
       "1               Moderate fragrance   \n",
       "2   Large, very double  bloom form   \n",
       "3                       35 petals    \n",
       "4                   Expand rarely    \n",
       "5                  20 to 25 petals   \n",
       "\n",
       "                                                   3  \\\n",
       "0   Large, very double, in small clusters, high-c...   \n",
       "1                                Average diameter 4\"   \n",
       "2           Blooms in flushes throughout the season.   \n",
       "3   Large, full (26-40 petals), high-centered blo...   \n",
       "4                                     Mild fragrance   \n",
       "5                             Average diameter 1.25\"   \n",
       "\n",
       "                                                   4  \\\n",
       "0           Blooms in flushes throughout the season.   \n",
       "1   Medium-large, full (26-40 petals), borne most...   \n",
       "2                                               None   \n",
       "3           Blooms in flushes throughout the season.   \n",
       "4                                    35 to 40 petals   \n",
       "5    Small, very double, cluster-flowered bloom form   \n",
       "\n",
       "                                           5  \\\n",
       "0                                       None   \n",
       "1   Blooms in flushes throughout the season.   \n",
       "2                                       None   \n",
       "3                                       None   \n",
       "4                      Average diameter 2.5\"   \n",
       "5   Blooms in flushes throughout the season.   \n",
       "\n",
       "                                                   6  \\\n",
       "0                                               None   \n",
       "1                                               None   \n",
       "2                                               None   \n",
       "3                                               None   \n",
       "4   Medium, double (17-25 petals), full (26-40 pe...   \n",
       "5                                               None   \n",
       "\n",
       "                                           7  \\\n",
       "0                                       None   \n",
       "1                                       None   \n",
       "2                                       None   \n",
       "3                                       None   \n",
       "4   Prolific, once-blooming spring or summer   \n",
       "5                                       None   \n",
       "\n",
       "                                                   8  \n",
       "0                                               None  \n",
       "1                                               None  \n",
       "2                                               None  \n",
       "3                                               None  \n",
       "4   Glandular sepals, leafy sepals, long sepals b...  \n",
       "5                                               None  "
      ]
     },
     "execution_count": 144,
     "metadata": {},
     "output_type": "execute_result"
    }
   ],
   "source": [
    "df.bloom.str.split(\"\\. \", expand = True) # Cümle cümle sütunda verdi"
   ]
  },
  {
   "cell_type": "code",
   "execution_count": 145,
   "metadata": {},
   "outputs": [
    {
     "data": {
      "text/plain": [
       "0    id:345, age:25, salary:1200\n",
       "1    id:346, age:32, salary:1500\n",
       "2    id:347, age:28, salary:1400\n",
       "dtype: object"
      ]
     },
     "execution_count": 145,
     "metadata": {},
     "output_type": "execute_result"
    }
   ],
   "source": [
    "info = [\"id:345, age:25, salary:1200\", \"id:346, age:32, salary:1500\", \"id:347, age:28, salary:1400\"]\n",
    "s = pd.Series(info)\n",
    "s"
   ]
  },
  {
   "cell_type": "markdown",
   "metadata": {},
   "source": [
    "#### Split the serie to create a dataframe consisting of \"id, age and salary\" columns."
   ]
  },
  {
   "cell_type": "code",
   "execution_count": 146,
   "metadata": {},
   "outputs": [
    {
     "data": {
      "text/html": [
       "<div>\n",
       "<style scoped>\n",
       "    .dataframe tbody tr th:only-of-type {\n",
       "        vertical-align: middle;\n",
       "    }\n",
       "\n",
       "    .dataframe tbody tr th {\n",
       "        vertical-align: top;\n",
       "    }\n",
       "\n",
       "    .dataframe thead th {\n",
       "        text-align: right;\n",
       "    }\n",
       "</style>\n",
       "<table border=\"1\" class=\"dataframe\">\n",
       "  <thead>\n",
       "    <tr style=\"text-align: right;\">\n",
       "      <th></th>\n",
       "      <th>0</th>\n",
       "      <th>1</th>\n",
       "      <th>2</th>\n",
       "      <th>3</th>\n",
       "    </tr>\n",
       "  </thead>\n",
       "  <tbody>\n",
       "    <tr>\n",
       "      <th>0</th>\n",
       "      <td></td>\n",
       "      <td>345</td>\n",
       "      <td>25</td>\n",
       "      <td>1200</td>\n",
       "    </tr>\n",
       "    <tr>\n",
       "      <th>1</th>\n",
       "      <td></td>\n",
       "      <td>346</td>\n",
       "      <td>32</td>\n",
       "      <td>1500</td>\n",
       "    </tr>\n",
       "    <tr>\n",
       "      <th>2</th>\n",
       "      <td></td>\n",
       "      <td>347</td>\n",
       "      <td>28</td>\n",
       "      <td>1400</td>\n",
       "    </tr>\n",
       "  </tbody>\n",
       "</table>\n",
       "</div>"
      ],
      "text/plain": [
       "  0    1   2     3\n",
       "0    345  25  1200\n",
       "1    346  32  1500\n",
       "2    347  28  1400"
      ]
     },
     "execution_count": 146,
     "metadata": {},
     "output_type": "execute_result"
    }
   ],
   "source": [
    "# df e dönüştürelim serimizi\n",
    "s.str.split(\"\\D+\", expand=True) # Nümerik olmayanlardan bölmesini isteyelim\n",
    "# Baş tarafta splitten dolayı extra sütun oluştu. Onu atalım"
   ]
  },
  {
   "cell_type": "code",
   "execution_count": 149,
   "metadata": {},
   "outputs": [],
   "source": [
    "df = s.str.split(\"\\D+\", expand = True).iloc[:,1:]"
   ]
  },
  {
   "cell_type": "code",
   "execution_count": 150,
   "metadata": {},
   "outputs": [
    {
     "data": {
      "text/html": [
       "<div>\n",
       "<style scoped>\n",
       "    .dataframe tbody tr th:only-of-type {\n",
       "        vertical-align: middle;\n",
       "    }\n",
       "\n",
       "    .dataframe tbody tr th {\n",
       "        vertical-align: top;\n",
       "    }\n",
       "\n",
       "    .dataframe thead th {\n",
       "        text-align: right;\n",
       "    }\n",
       "</style>\n",
       "<table border=\"1\" class=\"dataframe\">\n",
       "  <thead>\n",
       "    <tr style=\"text-align: right;\">\n",
       "      <th></th>\n",
       "      <th>id</th>\n",
       "      <th>age</th>\n",
       "      <th>salary</th>\n",
       "    </tr>\n",
       "  </thead>\n",
       "  <tbody>\n",
       "    <tr>\n",
       "      <th>0</th>\n",
       "      <td>345</td>\n",
       "      <td>25</td>\n",
       "      <td>1200</td>\n",
       "    </tr>\n",
       "    <tr>\n",
       "      <th>1</th>\n",
       "      <td>346</td>\n",
       "      <td>32</td>\n",
       "      <td>1500</td>\n",
       "    </tr>\n",
       "    <tr>\n",
       "      <th>2</th>\n",
       "      <td>347</td>\n",
       "      <td>28</td>\n",
       "      <td>1400</td>\n",
       "    </tr>\n",
       "  </tbody>\n",
       "</table>\n",
       "</div>"
      ],
      "text/plain": [
       "    id age salary\n",
       "0  345  25   1200\n",
       "1  346  32   1500\n",
       "2  347  28   1400"
      ]
     },
     "execution_count": 150,
     "metadata": {},
     "output_type": "execute_result"
    }
   ],
   "source": [
    "df.columns = [\"id\",\"age\",\"salary\"]\n",
    "df # istediğim şekle geldi"
   ]
  },
  {
   "cell_type": "markdown",
   "metadata": {},
   "source": [
    "## ``pandas.Series.str.extract(pat, flags=0, expand=True)``\n",
    "\n",
    "Extract capture groups in the regex pat as columns in a DataFrame.\n",
    "\n",
    "For each subject string in the Series, extract groups from the first match of regular expression pat."
   ]
  },
  {
   "cell_type": "markdown",
   "metadata": {
    "id": "_1kItwoRdUjL"
   },
   "source": [
    "#### Extract just numbers"
   ]
  },
  {
   "cell_type": "code",
   "execution_count": 152,
   "metadata": {},
   "outputs": [
    {
     "data": {
      "text/plain": [
       "0    a3aa\n",
       "1    b4aa\n",
       "2    c5aa\n",
       "dtype: object"
      ]
     },
     "execution_count": 152,
     "metadata": {},
     "output_type": "execute_result"
    }
   ],
   "source": [
    "# En çok kullanacağımız şey extract\n",
    "# - Parantez içinde yazdığımız şeyleri döndürür\n",
    "# - Gruplar ile çalışmalıyız bunda\n",
    "# - Df döndürür\n",
    "s = pd.Series(['a3aa', 'b4aa', 'c5aa'])\n",
    "s"
   ]
  },
  {
   "cell_type": "code",
   "execution_count": 155,
   "metadata": {},
   "outputs": [
    {
     "data": {
      "text/html": [
       "<div>\n",
       "<style scoped>\n",
       "    .dataframe tbody tr th:only-of-type {\n",
       "        vertical-align: middle;\n",
       "    }\n",
       "\n",
       "    .dataframe tbody tr th {\n",
       "        vertical-align: top;\n",
       "    }\n",
       "\n",
       "    .dataframe thead th {\n",
       "        text-align: right;\n",
       "    }\n",
       "</style>\n",
       "<table border=\"1\" class=\"dataframe\">\n",
       "  <thead>\n",
       "    <tr style=\"text-align: right;\">\n",
       "      <th></th>\n",
       "      <th>0</th>\n",
       "    </tr>\n",
       "  </thead>\n",
       "  <tbody>\n",
       "    <tr>\n",
       "      <th>0</th>\n",
       "      <td>3</td>\n",
       "    </tr>\n",
       "    <tr>\n",
       "      <th>1</th>\n",
       "      <td>4</td>\n",
       "    </tr>\n",
       "    <tr>\n",
       "      <th>2</th>\n",
       "      <td>5</td>\n",
       "    </tr>\n",
       "  </tbody>\n",
       "</table>\n",
       "</div>"
      ],
      "text/plain": [
       "   0\n",
       "0  3\n",
       "1  4\n",
       "2  5"
      ]
     },
     "execution_count": 155,
     "metadata": {},
     "output_type": "execute_result"
    }
   ],
   "source": [
    "# s.str.extract(\"\\d+\") # HATA. Çünkü extract kullanırken gruplarla çalışmamız lazım\n",
    "s.str.extract(\"(\\d+)\") # seriyi df e çevirdi. Parantezlerle yaptığım her grup\n",
    "# .. bize satır olarak döndü"
   ]
  },
  {
   "cell_type": "markdown",
   "metadata": {
    "id": "ihTzCERldUjN"
   },
   "source": [
    "#### Extract just letters"
   ]
  },
  {
   "cell_type": "code",
   "execution_count": null,
   "metadata": {},
   "outputs": [],
   "source": [
    "# a, b, c bir sütunda , aa, aa, aa farklı sütunda olsun(Rakamın solu ve sağı)"
   ]
  },
  {
   "cell_type": "code",
   "execution_count": 157,
   "metadata": {},
   "outputs": [
    {
     "data": {
      "text/html": [
       "<div>\n",
       "<style scoped>\n",
       "    .dataframe tbody tr th:only-of-type {\n",
       "        vertical-align: middle;\n",
       "    }\n",
       "\n",
       "    .dataframe tbody tr th {\n",
       "        vertical-align: top;\n",
       "    }\n",
       "\n",
       "    .dataframe thead th {\n",
       "        text-align: right;\n",
       "    }\n",
       "</style>\n",
       "<table border=\"1\" class=\"dataframe\">\n",
       "  <thead>\n",
       "    <tr style=\"text-align: right;\">\n",
       "      <th></th>\n",
       "      <th>0</th>\n",
       "      <th>1</th>\n",
       "    </tr>\n",
       "  </thead>\n",
       "  <tbody>\n",
       "    <tr>\n",
       "      <th>0</th>\n",
       "      <td>a</td>\n",
       "      <td>aa</td>\n",
       "    </tr>\n",
       "    <tr>\n",
       "      <th>1</th>\n",
       "      <td>b</td>\n",
       "      <td>aa</td>\n",
       "    </tr>\n",
       "    <tr>\n",
       "      <th>2</th>\n",
       "      <td>c</td>\n",
       "      <td>aa</td>\n",
       "    </tr>\n",
       "  </tbody>\n",
       "</table>\n",
       "</div>"
      ],
      "text/plain": [
       "   0   1\n",
       "0  a  aa\n",
       "1  b  aa\n",
       "2  c  aa"
      ]
     },
     "execution_count": 157,
     "metadata": {},
     "output_type": "execute_result"
    }
   ],
   "source": [
    "s.str.extract(\"(\\D+)\\d(\\D+)\") # \\d : Arada nümerik değeri istemediğim için ekledim\n",
    "# .. araya"
   ]
  },
  {
   "cell_type": "code",
   "execution_count": 159,
   "metadata": {},
   "outputs": [
    {
     "data": {
      "text/html": [
       "<div>\n",
       "<style scoped>\n",
       "    .dataframe tbody tr th:only-of-type {\n",
       "        vertical-align: middle;\n",
       "    }\n",
       "\n",
       "    .dataframe tbody tr th {\n",
       "        vertical-align: top;\n",
       "    }\n",
       "\n",
       "    .dataframe thead th {\n",
       "        text-align: right;\n",
       "    }\n",
       "</style>\n",
       "<table border=\"1\" class=\"dataframe\">\n",
       "  <thead>\n",
       "    <tr style=\"text-align: right;\">\n",
       "      <th></th>\n",
       "      <th>0</th>\n",
       "      <th>1</th>\n",
       "      <th>2</th>\n",
       "    </tr>\n",
       "  </thead>\n",
       "  <tbody>\n",
       "    <tr>\n",
       "      <th>0</th>\n",
       "      <td>a</td>\n",
       "      <td>a</td>\n",
       "      <td>a</td>\n",
       "    </tr>\n",
       "    <tr>\n",
       "      <th>1</th>\n",
       "      <td>b</td>\n",
       "      <td>a</td>\n",
       "      <td>a</td>\n",
       "    </tr>\n",
       "    <tr>\n",
       "      <th>2</th>\n",
       "      <td>c</td>\n",
       "      <td>a</td>\n",
       "      <td>a</td>\n",
       "    </tr>\n",
       "  </tbody>\n",
       "</table>\n",
       "</div>"
      ],
      "text/plain": [
       "   0  1  2\n",
       "0  a  a  a\n",
       "1  b  a  a\n",
       "2  c  a  a"
      ]
     },
     "execution_count": 159,
     "metadata": {},
     "output_type": "execute_result"
    }
   ],
   "source": [
    "# 3 ayrı grup isteseydim\n",
    "s.str.extract(\"(\\D+)\\d(\\D)(\\D+)\")"
   ]
  },
  {
   "cell_type": "code",
   "execution_count": 161,
   "metadata": {},
   "outputs": [
    {
     "data": {
      "text/html": [
       "<div>\n",
       "<style scoped>\n",
       "    .dataframe tbody tr th:only-of-type {\n",
       "        vertical-align: middle;\n",
       "    }\n",
       "\n",
       "    .dataframe tbody tr th {\n",
       "        vertical-align: top;\n",
       "    }\n",
       "\n",
       "    .dataframe thead th {\n",
       "        text-align: right;\n",
       "    }\n",
       "</style>\n",
       "<table border=\"1\" class=\"dataframe\">\n",
       "  <thead>\n",
       "    <tr style=\"text-align: right;\">\n",
       "      <th></th>\n",
       "      <th>0</th>\n",
       "    </tr>\n",
       "  </thead>\n",
       "  <tbody>\n",
       "    <tr>\n",
       "      <th>0</th>\n",
       "      <td>a3aa</td>\n",
       "    </tr>\n",
       "    <tr>\n",
       "      <th>1</th>\n",
       "      <td>b4aa</td>\n",
       "    </tr>\n",
       "    <tr>\n",
       "      <th>2</th>\n",
       "      <td>c5aa</td>\n",
       "    </tr>\n",
       "  </tbody>\n",
       "</table>\n",
       "</div>"
      ],
      "text/plain": [
       "      0\n",
       "0  a3aa\n",
       "1  b4aa\n",
       "2  c5aa"
      ]
     },
     "execution_count": 161,
     "metadata": {},
     "output_type": "execute_result"
    }
   ],
   "source": [
    "s.str.extract(\"(\\D+\\d\\D+)\")"
   ]
  },
  {
   "cell_type": "markdown",
   "metadata": {},
   "source": [
    "#### Extract \"id, age and salary\" values to create a dataframe consisting of \"id, age and salary\" columns."
   ]
  },
  {
   "cell_type": "code",
   "execution_count": 162,
   "metadata": {},
   "outputs": [
    {
     "data": {
      "text/plain": [
       "0    id:345, age:25, salary:1200\n",
       "1    id:346, age:32, salary:1500\n",
       "2    id:347, age:28, salary:1400\n",
       "dtype: object"
      ]
     },
     "execution_count": 162,
     "metadata": {},
     "output_type": "execute_result"
    }
   ],
   "source": [
    "info = [\"id:345, age:25, salary:1200\", \"id:346, age:32, salary:1500\", \"id:347, age:28, salary:1400\"]\n",
    "s = pd.Series(info)\n",
    "s"
   ]
  },
  {
   "cell_type": "code",
   "execution_count": 165,
   "metadata": {},
   "outputs": [
    {
     "data": {
      "text/html": [
       "<div>\n",
       "<style scoped>\n",
       "    .dataframe tbody tr th:only-of-type {\n",
       "        vertical-align: middle;\n",
       "    }\n",
       "\n",
       "    .dataframe tbody tr th {\n",
       "        vertical-align: top;\n",
       "    }\n",
       "\n",
       "    .dataframe thead th {\n",
       "        text-align: right;\n",
       "    }\n",
       "</style>\n",
       "<table border=\"1\" class=\"dataframe\">\n",
       "  <thead>\n",
       "    <tr style=\"text-align: right;\">\n",
       "      <th></th>\n",
       "      <th>0</th>\n",
       "      <th>1</th>\n",
       "      <th>2</th>\n",
       "    </tr>\n",
       "  </thead>\n",
       "  <tbody>\n",
       "    <tr>\n",
       "      <th>0</th>\n",
       "      <td>345</td>\n",
       "      <td>25</td>\n",
       "      <td>1200</td>\n",
       "    </tr>\n",
       "    <tr>\n",
       "      <th>1</th>\n",
       "      <td>346</td>\n",
       "      <td>32</td>\n",
       "      <td>1500</td>\n",
       "    </tr>\n",
       "    <tr>\n",
       "      <th>2</th>\n",
       "      <td>347</td>\n",
       "      <td>28</td>\n",
       "      <td>1400</td>\n",
       "    </tr>\n",
       "  </tbody>\n",
       "</table>\n",
       "</div>"
      ],
      "text/plain": [
       "     0   1     2\n",
       "0  345  25  1200\n",
       "1  346  32  1500\n",
       "2  347  28  1400"
      ]
     },
     "execution_count": 165,
     "metadata": {},
     "output_type": "execute_result"
    }
   ],
   "source": [
    "# Bunu split ile yapmıştık, extract ile yapalım şimdi\n",
    "df = s.str.extract(\"(\\d+)\\D+(\\d+)\\D+(\\d+)\") # \\D+ : digit olmayanları almadık\n",
    "df # split e göre daha mantıklı"
   ]
  },
  {
   "cell_type": "code",
   "execution_count": null,
   "metadata": {},
   "outputs": [],
   "source": []
  },
  {
   "cell_type": "code",
   "execution_count": null,
   "metadata": {},
   "outputs": [],
   "source": []
  },
  {
   "cell_type": "markdown",
   "metadata": {
    "id": "O10GpuGmdUjP"
   },
   "source": [
    "#### Extract first number"
   ]
  },
  {
   "cell_type": "code",
   "execution_count": 166,
   "metadata": {
    "id": "bisP5kkOdUjQ"
   },
   "outputs": [
    {
     "data": {
      "text/plain": [
       "0       40 l/100 km (comb)\n",
       "1       38 l/100 km (comb)\n",
       "2      6.4 l/100 km (comb)\n",
       "3     8.3 kg/100 km (comb)\n",
       "4     5.1 kg/100 km (comb)\n",
       "5      5.4 l/100 km (comb)\n",
       "6      6.7 l/100 km (comb)\n",
       "7      6.2 l/100 km (comb)\n",
       "8      7.3 l/100 km (comb)\n",
       "9      6.3 l/100 km (comb)\n",
       "10     5.7 l/100 km (comb)\n",
       "11     6.1 l/100 km (comb)\n",
       "12     6.8 l/100 km (comb)\n",
       "13     7.5 l/100 km (comb)\n",
       "14     7.4 l/100 km (comb)\n",
       "15    3.6 kg/100 km (comb)\n",
       "16       0 l/100 km (comb)\n",
       "17     7.8 l/100 km (comb)\n",
       "dtype: object"
      ]
     },
     "execution_count": 166,
     "metadata": {},
     "output_type": "execute_result"
    }
   ],
   "source": [
    "s= pd.Series(['40 l/100 km (comb)', \n",
    "        '38 l/100 km (comb)', '6.4 l/100 km (comb)',\n",
    "       '8.3 kg/100 km (comb)', '5.1 kg/100 km (comb)',\n",
    "       '5.4 l/100 km (comb)', '6.7 l/100 km (comb)',\n",
    "       '6.2 l/100 km (comb)', '7.3 l/100 km (comb)',\n",
    "       '6.3 l/100 km (comb)', '5.7 l/100 km (comb)',\n",
    "       '6.1 l/100 km (comb)', '6.8 l/100 km (comb)',\n",
    "       '7.5 l/100 km (comb)', '7.4 l/100 km (comb)',\n",
    "       '3.6 kg/100 km (comb)', '0 l/100 km (comb)', \n",
    "       '7.8 l/100 km (comb)'])\n",
    "s"
   ]
  },
  {
   "cell_type": "code",
   "execution_count": 169,
   "metadata": {},
   "outputs": [
    {
     "data": {
      "text/html": [
       "<div>\n",
       "<style scoped>\n",
       "    .dataframe tbody tr th:only-of-type {\n",
       "        vertical-align: middle;\n",
       "    }\n",
       "\n",
       "    .dataframe tbody tr th {\n",
       "        vertical-align: top;\n",
       "    }\n",
       "\n",
       "    .dataframe thead th {\n",
       "        text-align: right;\n",
       "    }\n",
       "</style>\n",
       "<table border=\"1\" class=\"dataframe\">\n",
       "  <thead>\n",
       "    <tr style=\"text-align: right;\">\n",
       "      <th></th>\n",
       "      <th>0</th>\n",
       "    </tr>\n",
       "  </thead>\n",
       "  <tbody>\n",
       "    <tr>\n",
       "      <th>0</th>\n",
       "      <td>40</td>\n",
       "    </tr>\n",
       "    <tr>\n",
       "      <th>1</th>\n",
       "      <td>38</td>\n",
       "    </tr>\n",
       "    <tr>\n",
       "      <th>2</th>\n",
       "      <td>6.4</td>\n",
       "    </tr>\n",
       "    <tr>\n",
       "      <th>3</th>\n",
       "      <td>8.3</td>\n",
       "    </tr>\n",
       "    <tr>\n",
       "      <th>4</th>\n",
       "      <td>5.1</td>\n",
       "    </tr>\n",
       "    <tr>\n",
       "      <th>5</th>\n",
       "      <td>5.4</td>\n",
       "    </tr>\n",
       "    <tr>\n",
       "      <th>6</th>\n",
       "      <td>6.7</td>\n",
       "    </tr>\n",
       "    <tr>\n",
       "      <th>7</th>\n",
       "      <td>6.2</td>\n",
       "    </tr>\n",
       "    <tr>\n",
       "      <th>8</th>\n",
       "      <td>7.3</td>\n",
       "    </tr>\n",
       "    <tr>\n",
       "      <th>9</th>\n",
       "      <td>6.3</td>\n",
       "    </tr>\n",
       "    <tr>\n",
       "      <th>10</th>\n",
       "      <td>5.7</td>\n",
       "    </tr>\n",
       "    <tr>\n",
       "      <th>11</th>\n",
       "      <td>6.1</td>\n",
       "    </tr>\n",
       "    <tr>\n",
       "      <th>12</th>\n",
       "      <td>6.8</td>\n",
       "    </tr>\n",
       "    <tr>\n",
       "      <th>13</th>\n",
       "      <td>7.5</td>\n",
       "    </tr>\n",
       "    <tr>\n",
       "      <th>14</th>\n",
       "      <td>7.4</td>\n",
       "    </tr>\n",
       "    <tr>\n",
       "      <th>15</th>\n",
       "      <td>3.6</td>\n",
       "    </tr>\n",
       "    <tr>\n",
       "      <th>16</th>\n",
       "      <td>0</td>\n",
       "    </tr>\n",
       "    <tr>\n",
       "      <th>17</th>\n",
       "      <td>7.8</td>\n",
       "    </tr>\n",
       "  </tbody>\n",
       "</table>\n",
       "</div>"
      ],
      "text/plain": [
       "      0\n",
       "0    40\n",
       "1    38\n",
       "2   6.4\n",
       "3   8.3\n",
       "4   5.1\n",
       "5   5.4\n",
       "6   6.7\n",
       "7   6.2\n",
       "8   7.3\n",
       "9   6.3\n",
       "10  5.7\n",
       "11  6.1\n",
       "12  6.8\n",
       "13  7.5\n",
       "14  7.4\n",
       "15  3.6\n",
       "16    0\n",
       "17  7.8"
      ]
     },
     "execution_count": 169,
     "metadata": {},
     "output_type": "execute_result"
    }
   ],
   "source": [
    "# s.str.extract(\"(\\d+\\.\\d+|\\d+)\") # 1. yol\n",
    "# s.str.extract(\"(\\d*\\.?\\d+\\d*)\") #  \\d* : 1 veya daha fazla digit olsun , .?: nokta olsun veya olmasın\n",
    "s.str.extract(\"(\\S+)\") # (\\S+) wide space i görene kadar her şeyi aldı # 3. yol"
   ]
  },
  {
   "cell_type": "markdown",
   "metadata": {
    "id": "sXgABgETdUjS"
   },
   "source": [
    "#### Extract first and second number"
   ]
  },
  {
   "cell_type": "code",
   "execution_count": 170,
   "metadata": {},
   "outputs": [
    {
     "data": {
      "text/plain": [
       "0       40 l/100 km (comb)\n",
       "1       38 l/100 km (comb)\n",
       "2      6.4 l/100 km (comb)\n",
       "3     8.3 kg/100 km (comb)\n",
       "4     5.1 kg/100 km (comb)\n",
       "5      5.4 l/100 km (comb)\n",
       "6      6.7 l/100 km (comb)\n",
       "7      6.2 l/100 km (comb)\n",
       "8      7.3 l/100 km (comb)\n",
       "9      6.3 l/100 km (comb)\n",
       "10     5.7 l/100 km (comb)\n",
       "11     6.1 l/100 km (comb)\n",
       "12     6.8 l/100 km (comb)\n",
       "13     7.5 l/100 km (comb)\n",
       "14     7.4 l/100 km (comb)\n",
       "15    3.6 kg/100 km (comb)\n",
       "16       0 l/100 km (comb)\n",
       "17     7.8 l/100 km (comb)\n",
       "dtype: object"
      ]
     },
     "execution_count": 170,
     "metadata": {},
     "output_type": "execute_result"
    }
   ],
   "source": [
    "s"
   ]
  },
  {
   "cell_type": "code",
   "execution_count": 171,
   "metadata": {},
   "outputs": [
    {
     "data": {
      "text/html": [
       "<div>\n",
       "<style scoped>\n",
       "    .dataframe tbody tr th:only-of-type {\n",
       "        vertical-align: middle;\n",
       "    }\n",
       "\n",
       "    .dataframe tbody tr th {\n",
       "        vertical-align: top;\n",
       "    }\n",
       "\n",
       "    .dataframe thead th {\n",
       "        text-align: right;\n",
       "    }\n",
       "</style>\n",
       "<table border=\"1\" class=\"dataframe\">\n",
       "  <thead>\n",
       "    <tr style=\"text-align: right;\">\n",
       "      <th></th>\n",
       "      <th>0</th>\n",
       "      <th>1</th>\n",
       "    </tr>\n",
       "  </thead>\n",
       "  <tbody>\n",
       "    <tr>\n",
       "      <th>0</th>\n",
       "      <td>40</td>\n",
       "      <td>100</td>\n",
       "    </tr>\n",
       "    <tr>\n",
       "      <th>1</th>\n",
       "      <td>38</td>\n",
       "      <td>100</td>\n",
       "    </tr>\n",
       "    <tr>\n",
       "      <th>2</th>\n",
       "      <td>6.4</td>\n",
       "      <td>100</td>\n",
       "    </tr>\n",
       "    <tr>\n",
       "      <th>3</th>\n",
       "      <td>8.3</td>\n",
       "      <td>100</td>\n",
       "    </tr>\n",
       "    <tr>\n",
       "      <th>4</th>\n",
       "      <td>5.1</td>\n",
       "      <td>100</td>\n",
       "    </tr>\n",
       "    <tr>\n",
       "      <th>5</th>\n",
       "      <td>5.4</td>\n",
       "      <td>100</td>\n",
       "    </tr>\n",
       "    <tr>\n",
       "      <th>6</th>\n",
       "      <td>6.7</td>\n",
       "      <td>100</td>\n",
       "    </tr>\n",
       "    <tr>\n",
       "      <th>7</th>\n",
       "      <td>6.2</td>\n",
       "      <td>100</td>\n",
       "    </tr>\n",
       "    <tr>\n",
       "      <th>8</th>\n",
       "      <td>7.3</td>\n",
       "      <td>100</td>\n",
       "    </tr>\n",
       "    <tr>\n",
       "      <th>9</th>\n",
       "      <td>6.3</td>\n",
       "      <td>100</td>\n",
       "    </tr>\n",
       "    <tr>\n",
       "      <th>10</th>\n",
       "      <td>5.7</td>\n",
       "      <td>100</td>\n",
       "    </tr>\n",
       "    <tr>\n",
       "      <th>11</th>\n",
       "      <td>6.1</td>\n",
       "      <td>100</td>\n",
       "    </tr>\n",
       "    <tr>\n",
       "      <th>12</th>\n",
       "      <td>6.8</td>\n",
       "      <td>100</td>\n",
       "    </tr>\n",
       "    <tr>\n",
       "      <th>13</th>\n",
       "      <td>7.5</td>\n",
       "      <td>100</td>\n",
       "    </tr>\n",
       "    <tr>\n",
       "      <th>14</th>\n",
       "      <td>7.4</td>\n",
       "      <td>100</td>\n",
       "    </tr>\n",
       "    <tr>\n",
       "      <th>15</th>\n",
       "      <td>3.6</td>\n",
       "      <td>100</td>\n",
       "    </tr>\n",
       "    <tr>\n",
       "      <th>16</th>\n",
       "      <td>0</td>\n",
       "      <td>100</td>\n",
       "    </tr>\n",
       "    <tr>\n",
       "      <th>17</th>\n",
       "      <td>7.8</td>\n",
       "      <td>100</td>\n",
       "    </tr>\n",
       "  </tbody>\n",
       "</table>\n",
       "</div>"
      ],
      "text/plain": [
       "      0    1\n",
       "0   40   100\n",
       "1   38   100\n",
       "2   6.4  100\n",
       "3   8.3  100\n",
       "4   5.1  100\n",
       "5   5.4  100\n",
       "6   6.7  100\n",
       "7   6.2  100\n",
       "8   7.3  100\n",
       "9   6.3  100\n",
       "10  5.7  100\n",
       "11  6.1  100\n",
       "12  6.8  100\n",
       "13  7.5  100\n",
       "14  7.4  100\n",
       "15  3.6  100\n",
       "16   0   100\n",
       "17  7.8  100"
      ]
     },
     "execution_count": 171,
     "metadata": {},
     "output_type": "execute_result"
    }
   ],
   "source": [
    "s.str.extract('(\\d*.\\d*).+/(\\d*)')"
   ]
  },
  {
   "cell_type": "markdown",
   "metadata": {
    "id": "Pic_ApcgdUjU"
   },
   "source": [
    "#### Extract date as month and year separately"
   ]
  },
  {
   "cell_type": "code",
   "execution_count": 172,
   "metadata": {
    "id": "p6mWmQ9tdUjV"
   },
   "outputs": [
    {
     "data": {
      "text/plain": [
       "0     06/2020\\n\\n4.9 l/100 km (comb)\n",
       "1     11/2020\\n\\n166 g CO2/km (comb)\n",
       "2     10/2019\\n\\n5.3 l/100 km (comb)\n",
       "3     05/2022\\n\\n6.3 l/100 km (comb)\n",
       "4     07/2019\\n\\n128 g CO2/km (comb)\n",
       "5     06/2022\\n\\n112 g CO2/km (comb)\n",
       "6     01/2022\\n\\n5.8 l/100 km (comb)\n",
       "7     11/2020\\n\\n106 g CO2/km (comb)\n",
       "8     04/2019\\n\\n105 g CO2/km (comb)\n",
       "9     08/2020\\n\\n133 g CO2/km (comb)\n",
       "10    04/2022\\n\\n133 g CO2/km (comb)\n",
       "dtype: object"
      ]
     },
     "execution_count": 172,
     "metadata": {},
     "output_type": "execute_result"
    }
   ],
   "source": [
    "s = pd.Series(['06/2020\\n\\n4.9 l/100 km (comb)',\n",
    "'11/2020\\n\\n166 g CO2/km (comb)',                                 \n",
    "'10/2019\\n\\n5.3 l/100 km (comb)',\n",
    "'05/2022\\n\\n6.3 l/100 km (comb)',\n",
    "'07/2019\\n\\n128 g CO2/km (comb)',\n",
    "'06/2022\\n\\n112 g CO2/km (comb)',                                                 \n",
    "'01/2022\\n\\n5.8 l/100 km (comb)',\n",
    "'11/2020\\n\\n106 g CO2/km (comb)',\n",
    "'04/2019\\n\\n105 g CO2/km (comb)',\n",
    "'08/2020\\n\\n133 g CO2/km (comb)',\n",
    "'04/2022\\n\\n133 g CO2/km (comb)'])\n",
    "s"
   ]
  },
  {
   "cell_type": "code",
   "execution_count": 173,
   "metadata": {},
   "outputs": [
    {
     "data": {
      "text/html": [
       "<div>\n",
       "<style scoped>\n",
       "    .dataframe tbody tr th:only-of-type {\n",
       "        vertical-align: middle;\n",
       "    }\n",
       "\n",
       "    .dataframe tbody tr th {\n",
       "        vertical-align: top;\n",
       "    }\n",
       "\n",
       "    .dataframe thead th {\n",
       "        text-align: right;\n",
       "    }\n",
       "</style>\n",
       "<table border=\"1\" class=\"dataframe\">\n",
       "  <thead>\n",
       "    <tr style=\"text-align: right;\">\n",
       "      <th></th>\n",
       "      <th>0</th>\n",
       "      <th>1</th>\n",
       "    </tr>\n",
       "  </thead>\n",
       "  <tbody>\n",
       "    <tr>\n",
       "      <th>0</th>\n",
       "      <td>06</td>\n",
       "      <td>2020</td>\n",
       "    </tr>\n",
       "    <tr>\n",
       "      <th>1</th>\n",
       "      <td>11</td>\n",
       "      <td>2020</td>\n",
       "    </tr>\n",
       "    <tr>\n",
       "      <th>2</th>\n",
       "      <td>10</td>\n",
       "      <td>2019</td>\n",
       "    </tr>\n",
       "    <tr>\n",
       "      <th>3</th>\n",
       "      <td>05</td>\n",
       "      <td>2022</td>\n",
       "    </tr>\n",
       "    <tr>\n",
       "      <th>4</th>\n",
       "      <td>07</td>\n",
       "      <td>2019</td>\n",
       "    </tr>\n",
       "    <tr>\n",
       "      <th>5</th>\n",
       "      <td>06</td>\n",
       "      <td>2022</td>\n",
       "    </tr>\n",
       "    <tr>\n",
       "      <th>6</th>\n",
       "      <td>01</td>\n",
       "      <td>2022</td>\n",
       "    </tr>\n",
       "    <tr>\n",
       "      <th>7</th>\n",
       "      <td>11</td>\n",
       "      <td>2020</td>\n",
       "    </tr>\n",
       "    <tr>\n",
       "      <th>8</th>\n",
       "      <td>04</td>\n",
       "      <td>2019</td>\n",
       "    </tr>\n",
       "    <tr>\n",
       "      <th>9</th>\n",
       "      <td>08</td>\n",
       "      <td>2020</td>\n",
       "    </tr>\n",
       "    <tr>\n",
       "      <th>10</th>\n",
       "      <td>04</td>\n",
       "      <td>2022</td>\n",
       "    </tr>\n",
       "  </tbody>\n",
       "</table>\n",
       "</div>"
      ],
      "text/plain": [
       "     0     1\n",
       "0   06  2020\n",
       "1   11  2020\n",
       "2   10  2019\n",
       "3   05  2022\n",
       "4   07  2019\n",
       "5   06  2022\n",
       "6   01  2022\n",
       "7   11  2020\n",
       "8   04  2019\n",
       "9   08  2020\n",
       "10  04  2022"
      ]
     },
     "execution_count": 173,
     "metadata": {},
     "output_type": "execute_result"
    }
   ],
   "source": [
    "s.str.extract(\"(\\d\\d).(\\d\\d\\d\\d)\")\n",
    "#s.str.extract(\"(\\d{2}).(\\d{4})\")\n",
    "#s.str.extract(\"(\\d*).(\\d*)\")\n",
    "#s.str.extract(\"(\\d\\d)/(\\d*)\")\n",
    "#s.str.extract(\"(\\d\\d)/(\\d\\d\\d\\d)\")\n",
    "#s.str.extract(\"(\\d+).(\\d+)\")\n",
    "#s.str.extract(\"(\\S+)/(\\S+)\")"
   ]
  },
  {
   "cell_type": "markdown",
   "metadata": {
    "id": "QpV_XrLDdUjc"
   },
   "source": [
    "#### Extract date and comsuption value -> 4.9"
   ]
  },
  {
   "cell_type": "code",
   "execution_count": 175,
   "metadata": {},
   "outputs": [
    {
     "data": {
      "text/plain": [
       "0     06/2020\\n\\n4.9 l/100 km (comb)\n",
       "1     11/2020\\n\\n166 g CO2/km (comb)\n",
       "2     10/2019\\n\\n5.3 l/100 km (comb)\n",
       "3     05/2022\\n\\n6.3 l/100 km (comb)\n",
       "4     07/2019\\n\\n128 g CO2/km (comb)\n",
       "5     06/2022\\n\\n112 g CO2/km (comb)\n",
       "6     01/2022\\n\\n5.8 l/100 km (comb)\n",
       "7     11/2020\\n\\n106 g CO2/km (comb)\n",
       "8     04/2019\\n\\n105 g CO2/km (comb)\n",
       "9     08/2020\\n\\n133 g CO2/km (comb)\n",
       "10    04/2022\\n\\n133 g CO2/km (comb)\n",
       "dtype: object"
      ]
     },
     "execution_count": 175,
     "metadata": {},
     "output_type": "execute_result"
    }
   ],
   "source": [
    "s"
   ]
  },
  {
   "cell_type": "code",
   "execution_count": 174,
   "metadata": {},
   "outputs": [
    {
     "data": {
      "text/html": [
       "<div>\n",
       "<style scoped>\n",
       "    .dataframe tbody tr th:only-of-type {\n",
       "        vertical-align: middle;\n",
       "    }\n",
       "\n",
       "    .dataframe tbody tr th {\n",
       "        vertical-align: top;\n",
       "    }\n",
       "\n",
       "    .dataframe thead th {\n",
       "        text-align: right;\n",
       "    }\n",
       "</style>\n",
       "<table border=\"1\" class=\"dataframe\">\n",
       "  <thead>\n",
       "    <tr style=\"text-align: right;\">\n",
       "      <th></th>\n",
       "      <th>0</th>\n",
       "      <th>1</th>\n",
       "    </tr>\n",
       "  </thead>\n",
       "  <tbody>\n",
       "    <tr>\n",
       "      <th>0</th>\n",
       "      <td>06/2020</td>\n",
       "      <td>4.9</td>\n",
       "    </tr>\n",
       "    <tr>\n",
       "      <th>1</th>\n",
       "      <td>11/2020</td>\n",
       "      <td>166</td>\n",
       "    </tr>\n",
       "    <tr>\n",
       "      <th>2</th>\n",
       "      <td>10/2019</td>\n",
       "      <td>5.3</td>\n",
       "    </tr>\n",
       "    <tr>\n",
       "      <th>3</th>\n",
       "      <td>05/2022</td>\n",
       "      <td>6.3</td>\n",
       "    </tr>\n",
       "    <tr>\n",
       "      <th>4</th>\n",
       "      <td>07/2019</td>\n",
       "      <td>128</td>\n",
       "    </tr>\n",
       "    <tr>\n",
       "      <th>5</th>\n",
       "      <td>06/2022</td>\n",
       "      <td>112</td>\n",
       "    </tr>\n",
       "    <tr>\n",
       "      <th>6</th>\n",
       "      <td>01/2022</td>\n",
       "      <td>5.8</td>\n",
       "    </tr>\n",
       "    <tr>\n",
       "      <th>7</th>\n",
       "      <td>11/2020</td>\n",
       "      <td>106</td>\n",
       "    </tr>\n",
       "    <tr>\n",
       "      <th>8</th>\n",
       "      <td>04/2019</td>\n",
       "      <td>105</td>\n",
       "    </tr>\n",
       "    <tr>\n",
       "      <th>9</th>\n",
       "      <td>08/2020</td>\n",
       "      <td>133</td>\n",
       "    </tr>\n",
       "    <tr>\n",
       "      <th>10</th>\n",
       "      <td>04/2022</td>\n",
       "      <td>133</td>\n",
       "    </tr>\n",
       "  </tbody>\n",
       "</table>\n",
       "</div>"
      ],
      "text/plain": [
       "          0    1\n",
       "0   06/2020  4.9\n",
       "1   11/2020  166\n",
       "2   10/2019  5.3\n",
       "3   05/2022  6.3\n",
       "4   07/2019  128\n",
       "5   06/2022  112\n",
       "6   01/2022  5.8\n",
       "7   11/2020  106\n",
       "8   04/2019  105\n",
       "9   08/2020  133\n",
       "10  04/2022  133"
      ]
     },
     "execution_count": 174,
     "metadata": {},
     "output_type": "execute_result"
    }
   ],
   "source": [
    "s.str.extract('(\\d+/\\d+)\\s+(\\d+.\\d+|\\d+)') # (\\d+/\\d+) : tarihi aldı, \n",
    "# .. \\s+: new_line ı aldı,\n",
    "# .. (\\d+.\\d+|\\d+): rakamı aldı"
   ]
  },
  {
   "cell_type": "markdown",
   "metadata": {
    "id": "Pic_ApcgdUjU"
   },
   "source": [
    "#### Extract date as month and year separately"
   ]
  },
  {
   "cell_type": "code",
   "execution_count": 176,
   "metadata": {
    "id": "IMuUZcTgdUjd"
   },
   "outputs": [
    {
     "data": {
      "text/plain": [
       "0    \\n\\n4.9 06/2020 l/100 km (comb)\n",
       "1    \\n\\n166 11/2020 g CO2/km (comb)\n",
       "2    \\n\\n5.3 10/2019 l/100 km (comb)\n",
       "3    \\n\\n6.3 05/2022 l/100 km (comb)\n",
       "4    \\n\\n128 07/2019 g CO2/km (comb)\n",
       "5    \\n\\n112 06/2022 g CO2/km (comb)\n",
       "6    \\n\\n5.8 01/2022 l/100 km (comb)\n",
       "dtype: object"
      ]
     },
     "execution_count": 176,
     "metadata": {},
     "output_type": "execute_result"
    }
   ],
   "source": [
    "s = pd.Series(['\\n\\n4.9 06/2020 l/100 km (comb)',\n",
    "'\\n\\n166 11/2020 g CO2/km (comb)',                                 \n",
    "'\\n\\n5.3 10/2019 l/100 km (comb)',\n",
    "'\\n\\n6.3 05/2022 l/100 km (comb)',\n",
    "'\\n\\n128 07/2019 g CO2/km (comb)',\n",
    "'\\n\\n112 06/2022 g CO2/km (comb)',                                                 \n",
    "'\\n\\n5.8 01/2022 l/100 km (comb)'])\n",
    "s"
   ]
  },
  {
   "cell_type": "code",
   "execution_count": 178,
   "metadata": {},
   "outputs": [
    {
     "data": {
      "text/html": [
       "<div>\n",
       "<style scoped>\n",
       "    .dataframe tbody tr th:only-of-type {\n",
       "        vertical-align: middle;\n",
       "    }\n",
       "\n",
       "    .dataframe tbody tr th {\n",
       "        vertical-align: top;\n",
       "    }\n",
       "\n",
       "    .dataframe thead th {\n",
       "        text-align: right;\n",
       "    }\n",
       "</style>\n",
       "<table border=\"1\" class=\"dataframe\">\n",
       "  <thead>\n",
       "    <tr style=\"text-align: right;\">\n",
       "      <th></th>\n",
       "      <th>0</th>\n",
       "      <th>1</th>\n",
       "    </tr>\n",
       "  </thead>\n",
       "  <tbody>\n",
       "    <tr>\n",
       "      <th>0</th>\n",
       "      <td>06</td>\n",
       "      <td>2020</td>\n",
       "    </tr>\n",
       "    <tr>\n",
       "      <th>1</th>\n",
       "      <td>11</td>\n",
       "      <td>2020</td>\n",
       "    </tr>\n",
       "    <tr>\n",
       "      <th>2</th>\n",
       "      <td>10</td>\n",
       "      <td>2019</td>\n",
       "    </tr>\n",
       "    <tr>\n",
       "      <th>3</th>\n",
       "      <td>05</td>\n",
       "      <td>2022</td>\n",
       "    </tr>\n",
       "    <tr>\n",
       "      <th>4</th>\n",
       "      <td>07</td>\n",
       "      <td>2019</td>\n",
       "    </tr>\n",
       "    <tr>\n",
       "      <th>5</th>\n",
       "      <td>06</td>\n",
       "      <td>2022</td>\n",
       "    </tr>\n",
       "    <tr>\n",
       "      <th>6</th>\n",
       "      <td>01</td>\n",
       "      <td>2022</td>\n",
       "    </tr>\n",
       "  </tbody>\n",
       "</table>\n",
       "</div>"
      ],
      "text/plain": [
       "    0     1\n",
       "0  06  2020\n",
       "1  11  2020\n",
       "2  10  2019\n",
       "3  05  2022\n",
       "4  07  2019\n",
       "5  06  2022\n",
       "6  01  2022"
      ]
     },
     "execution_count": 178,
     "metadata": {},
     "output_type": "execute_result"
    }
   ],
   "source": [
    "# 06/2020 olan sütuna ulaşmak istiyorum\n",
    "# s.str.extract(\"\\S+\\s(\\d+)/(\\d+)\")\n",
    "s.str.extract(\"(\\d+)/(\\d+)\")"
   ]
  },
  {
   "cell_type": "markdown",
   "metadata": {},
   "source": [
    "## <p style=\"background-color:#FDFEFE; font-family:newtimeroman; color:#9d4f8c; font-size:150%; text-align:center; border-radius:10px 10px;\">The End of The Session - 11 (Part - 01)</p>\n",
    "\n",
    "<a id=\"5\"></a>\n",
    "<a href=\"#toc\" class=\"btn btn-primary btn-sm\" role=\"button\" aria-pressed=\"true\" \n",
    "style=\"color:blue; background-color:#dfa8e4\" data-toggle=\"popover\">Content</a>"
   ]
  },
  {
   "cell_type": "markdown",
   "metadata": {
    "id": "Pe34nWhUdUje"
   },
   "source": [
    "<p style=\"text-align: center;\"><img src=\"https://docs.google.com/uc?id=1lY0Uj5R04yMY3-ZppPWxqCr5pvBLYPnV\" class=\"img-fluid\" \n",
    "alt=\"CLRSWY\"></p>\n",
    "\n",
    "## <p style=\"background-color:#FDFEFE; font-family:newtimeroman; color:#9d4f8c; font-size:100%; text-align:center; border-radius:10px 10px;\">WAY TO REINVENT YOURSELF</p>\n",
    "\n",
    "____"
   ]
  }
 ],
 "metadata": {
  "colab": {
   "collapsed_sections": [],
   "name": "Regex-LabSession-5(Student).ipynb",
   "provenance": []
  },
  "kernelspec": {
   "display_name": "Python 3 (ipykernel)",
   "language": "python",
   "name": "python3"
  },
  "language_info": {
   "codemirror_mode": {
    "name": "ipython",
    "version": 3
   },
   "file_extension": ".py",
   "mimetype": "text/x-python",
   "name": "python",
   "nbconvert_exporter": "python",
   "pygments_lexer": "ipython3",
   "version": "3.8.5"
  },
  "toc": {
   "base_numbering": 1,
   "nav_menu": {},
   "number_sections": false,
   "sideBar": true,
   "skip_h1_title": false,
   "title_cell": "Table of Contents",
   "title_sidebar": "Contents",
   "toc_cell": false,
   "toc_position": {},
   "toc_section_display": true,
   "toc_window_display": false
  }
 },
 "nbformat": 4,
 "nbformat_minor": 4
}
