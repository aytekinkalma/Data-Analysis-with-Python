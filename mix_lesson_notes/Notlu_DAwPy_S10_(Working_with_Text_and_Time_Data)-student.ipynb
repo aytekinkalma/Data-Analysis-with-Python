{
 "cells": [
  {
   "cell_type": "markdown",
   "metadata": {
    "id": "l1oCSsSKAgaw"
   },
   "source": [
    "___\n",
    "\n",
    "<p style=\"text-align: center;\"><img src=\"https://docs.google.com/uc?id=1lY0Uj5R04yMY3-ZppPWxqCr5pvBLYPnV\" class=\"img-fluid\" \n",
    "alt=\"CLRSWY\"></p>\n",
    "\n",
    "## <p style=\"background-color:#FDFEFE; font-family:newtimeroman; color:#9d4f8c; font-size:120%; text-align:center; border-radius:10px 10px;\">Way to Reinvent Yourself</p>"
   ]
  },
  {
   "cell_type": "markdown",
   "metadata": {
    "id": "Y9hFsTV0Aga2"
   },
   "source": [
    "<img src=https://i.ibb.co/6gCsHd6/1200px-Pandas-logo-svg.png width=\"700\" height=\"200\">\n",
    "\n",
    "## <p style=\"background-color:#FDFEFE; font-family:newtimeroman; color:#060108; font-size:200%; text-align:center; border-radius:10px 10px;\">Data Analysis with Python</p>\n",
    "\n",
    "## <p style=\"background-color:#FDFEFE; font-family:newtimeroman; color:#060108; font-size:150%; text-align:center; border-radius:10px 10px;\">Session - 10</p>\n",
    "\n",
    "## <p style=\"background-color:#FDFEFE; font-family:newtimeroman; color:#4d77cf; font-size:200%; text-align:center; border-radius:10px 10px;\">Working with Text & Time Data</p>"
   ]
  },
  {
   "cell_type": "markdown",
   "metadata": {},
   "source": [
    "<a id=\"toc\"></a>\n",
    "\n",
    "## <p style=\"background-color:#9d4f8c; font-family:newtimeroman; color:#FFF9ED; font-size:175%; text-align:center; border-radius:10px 10px;\">Content</p>\n",
    "\n",
    "* [WORKING WITH TEXT DATA](#0)\n",
    "* [IMPORTING LIBRARIES NEEDED IN THIS NOTEBOOK](#00)\n",
    "* [WORKING WITH TIME DATA](#1)\n",
    "    * [String Methods](#1.1)\n",
    "    * [Most Usefull String Methods](#1.2)\n",
    "    * [Dummy Operations](#1.3)\n",
    "* [WORKING WITH TIME DATA](#2)\n",
    "    * [pd.to_datetime()](#2.1)\n",
    "    * [Series.dt()](#2.2)\n",
    "    * [Datetime Module](#2.3)\n",
    "    * [Series.dt()](#2.4)\n",
    "* [OPERATION WITH DATETIME OBJECT](#3)\n",
    "* [THE END OF THE SESSION](#4)"
   ]
  },
  {
   "cell_type": "markdown",
   "metadata": {},
   "source": [
    "## <p style=\"background-color:#9d4f8c; font-family:newtimeroman; color:#FFF9ED; font-size:150%; text-align:center; border-radius:10px 10px;\">Importing Libraries Needed in This Notebook</p>\n",
    "\n",
    "<a id=\"00\"></a>\n",
    "<a href=\"#toc\" class=\"btn btn-primary btn-sm\" role=\"button\" aria-pressed=\"true\" \n",
    "style=\"color:blue; background-color:#dfa8e4\" data-toggle=\"popover\">Content</a>"
   ]
  },
  {
   "cell_type": "code",
   "execution_count": 312,
   "metadata": {
    "id": "tloWtpz4Aga4"
   },
   "outputs": [],
   "source": [
    "import numpy as np\n",
    "import pandas as pd\n",
    "import seaborn as sns"
   ]
  },
  {
   "cell_type": "markdown",
   "metadata": {},
   "source": [
    "## <p style=\"background-color:#9d4f8c; font-family:newtimeroman; color:#FFF9ED; font-size:175%; text-align:center; border-radius:10px 10px;\">Working with Text Data</p>\n",
    "\n",
    "<a id=\"1\"></a>\n",
    "<a href=\"#toc\" class=\"btn btn-primary btn-sm\" role=\"button\" aria-pressed=\"true\" \n",
    "style=\"color:blue; background-color:#dfa8e4\" data-toggle=\"popover\">Content</a>\n",
    "\n",
    "In this notebook, we will first discuss the string operations with our basic Series/Index and learn how to apply these string functions on the DataFrame.\n",
    "\n",
    "Pandas provides a set of string functions which make it easy to operate on string data. Most importantly, these functions ignore (or exclude) missing/NaN values. Almost, all of these methods work with Python string functions [Refer To Official Python Documentation]( https://docs.python.org/3/library/stdtypes.html#string-methods). So, while studying with the Series Object, convert it to String Object and then perform the operation.\n",
    "\n",
    "In addition, according to [Pandas Official Document](https://pandas.pydata.org/pandas-docs/stable/user_guide/text.html), there are two ways to store text data in pandas:\n",
    "- object -dtype NumPy array.\n",
    "- StringDtype extension type.\n",
    "\n",
    "Pandas recommend using StringDtype to store text data.\n",
    "\n",
    "[SOURCE01](https://pandas.pydata.org/pandas-docs/stable/user_guide/text.html), [SOURCE02](https://www.w3schools.com/python/python_ref_string.asp)"
   ]
  },
  {
   "cell_type": "code",
   "execution_count": 313,
   "metadata": {},
   "outputs": [],
   "source": [
    "# Text Data Types\n",
    "# 1.\"object\"-dtype NumPy array\n",
    "# 2.\"StringDtype\" extension type\n",
    "# We recommend using \"StringDtype\" to store text data\n",
    "# Prior to pandas 1.0, object was the only option.\n",
    "# .. This was unfortunate for many reasons\n",
    "# 1.You can accidentally store a mixture of strings and non-strings in an\n",
    "# .. \"object\" dtype array.It's better to have a dedicated\n",
    "# 2.\"object\" dtype breaks dtype-specific operations like \n",
    "# .. \"DataFrame.select_dtypes()\". There isn't a clear way to slect just\n",
    "# .. text while exculiding non-text but still objec-dtype columns\n",
    "# 3. When reading code, the contents of and \"object\" dtype array is less clear\n",
    "# .. than \"string\"\n",
    "\n",
    "# String Methods\n",
    "# 1.Python built-in string methods\n",
    "# 2.Pandas string methods\n",
    "# -\"Series and index\" are equipped with a set of \"string processing methods\" that\n",
    "# .. make it easy to operate on each element of the array\n",
    "# -Perhaps most importantly, these methods \"exclude missing/NA values\" \n",
    "# .. automatically\n",
    "# -These are accessed via the \"str\" .......\n",
    "\n",
    "# String Methods --> pandas.Series.str.string_method\n",
    "# df[\"Column_name\"].str.split()\n",
    "# df[\"Column_name\"].str.split().str[0]                      # str den sonra split uyguladık sonra tekrar str yazıp 0. elemanını al diyebilirim\n",
    "# df[\"Column_name\"].str.split().str[0].str.replace(\"-\",\"&\") # Burada da yine \"str\" leri araya koyarak sıralayabiliriz\n",
    "\n",
    "# String Methods\n",
    "# -Return boolean\n",
    "# -Changing upper/lower case\n",
    "\n",
    "# Dummy Operation\n",
    "# Daha sonra bakacağız"
   ]
  },
  {
   "cell_type": "markdown",
   "metadata": {},
   "source": [
    "### <p style=\"background-color:#9d4f8c; font-family:newtimeroman; color:#FFF9ED; font-size:150%; text-align:LEFT; border-radius:10px 10px;\">String Methods</p>\n",
    "\n",
    "<a id=\"1.1\"></a>\n",
    "<a href=\"#toc\" class=\"btn btn-primary btn-sm\" role=\"button\" aria-pressed=\"true\" \n",
    "style=\"color:blue; background-color:#dfa8e4\" data-toggle=\"popover\">Content</a>\n",
    "\n",
    "Strings implement all of the common sequence operations, along with the additional methods described at [the official documentation](https://docs.python.org/3/library/stdtypes.html#string-methods).\n",
    "\n",
    "Strings also support two styles of string formatting, one providing a large degree of flexibility and customization (**Please see the information about** [str.format()](https://docs.python.org/3/library/stdtypes.html#str.format), [Format String Syntax](https://docs.python.org/3/library/string.html#formatstrings) and [Custom String Formatting](https://docs.python.org/3/library/string.html#string-formatting)) and the other based on C printf style formatting that handles a narrower range of types and is slightly harder to use correctly, but is often faster for the cases it can handle ([printf-style String Formatting](https://docs.python.org/3/library/stdtypes.html#old-string-formatting)).\n",
    "\n",
    "The [Text Processing Services](https://docs.python.org/3/library/text.html#textservices) section of the standard library covers a number of other modules that provide various text related utilities (including regular expression support in the [re](https://docs.python.org/3/library/re.html#module-re) module).\n",
    "\n",
    "Please watch [**``Video Source``**](https://www.youtube.com/watch?v=6JNwK6hEneg) for enhancing your understanding of working with Text Data in Pandas.  \n",
    "\n",
    "**What are these String Methods? Now let us examine some of the most common and usefull String Methods and dig into them one by one:**"
   ]
  },
  {
   "cell_type": "code",
   "execution_count": 314,
   "metadata": {
    "id": "Wcou4rZ3Aga6",
    "outputId": "b1002003-cccc-4cb2-b592-4988a8e220d3",
    "scrolled": true
   },
   "outputs": [
    {
     "data": {
      "text/html": [
       "<div>\n",
       "<style scoped>\n",
       "    .dataframe tbody tr th:only-of-type {\n",
       "        vertical-align: middle;\n",
       "    }\n",
       "\n",
       "    .dataframe tbody tr th {\n",
       "        vertical-align: top;\n",
       "    }\n",
       "\n",
       "    .dataframe thead th {\n",
       "        text-align: right;\n",
       "    }\n",
       "</style>\n",
       "<table border=\"1\" class=\"dataframe\">\n",
       "  <thead>\n",
       "    <tr style=\"text-align: right;\">\n",
       "      <th></th>\n",
       "      <th>id</th>\n",
       "      <th>staff</th>\n",
       "      <th>department</th>\n",
       "      <th>job</th>\n",
       "      <th>salary</th>\n",
       "      <th>age</th>\n",
       "    </tr>\n",
       "  </thead>\n",
       "  <tbody>\n",
       "    <tr>\n",
       "      <th>0</th>\n",
       "      <td>M0001</td>\n",
       "      <td>Tom BLUE</td>\n",
       "      <td>HR</td>\n",
       "      <td>manager</td>\n",
       "      <td>\"$150,000\"</td>\n",
       "      <td>52</td>\n",
       "    </tr>\n",
       "    <tr>\n",
       "      <th>1</th>\n",
       "      <td>M0002</td>\n",
       "      <td>JOHN BLACK</td>\n",
       "      <td>IT</td>\n",
       "      <td>manager</td>\n",
       "      <td>\"$180,000\"</td>\n",
       "      <td>48</td>\n",
       "    </tr>\n",
       "    <tr>\n",
       "      <th>2</th>\n",
       "      <td>E0001</td>\n",
       "      <td>Micheal Brown</td>\n",
       "      <td>IT</td>\n",
       "      <td>data scientist</td>\n",
       "      <td>\"$150,000\"</td>\n",
       "      <td>35</td>\n",
       "    </tr>\n",
       "    <tr>\n",
       "      <th>3</th>\n",
       "      <td>E0002</td>\n",
       "      <td>jason walker</td>\n",
       "      <td>HR</td>\n",
       "      <td>recruiter</td>\n",
       "      <td>130000dolar</td>\n",
       "      <td>38</td>\n",
       "    </tr>\n",
       "    <tr>\n",
       "      <th>4</th>\n",
       "      <td>E0003</td>\n",
       "      <td>Alex Green</td>\n",
       "      <td>IT</td>\n",
       "      <td>backend developer</td>\n",
       "      <td>\"$110,000\"</td>\n",
       "      <td>-</td>\n",
       "    </tr>\n",
       "    <tr>\n",
       "      <th>5</th>\n",
       "      <td>E0004</td>\n",
       "      <td>OSCAR SMİTH</td>\n",
       "      <td>IT</td>\n",
       "      <td>frontend developer</td>\n",
       "      <td>\"$120,000\"</td>\n",
       "      <td>32</td>\n",
       "    </tr>\n",
       "    <tr>\n",
       "      <th>6</th>\n",
       "      <td>E0005</td>\n",
       "      <td>Adrian STAR</td>\n",
       "      <td>IT</td>\n",
       "      <td>data scientist</td>\n",
       "      <td>\"$135,000\"</td>\n",
       "      <td>40</td>\n",
       "    </tr>\n",
       "    <tr>\n",
       "      <th>7</th>\n",
       "      <td>E0006</td>\n",
       "      <td>Albert simon</td>\n",
       "      <td>IT</td>\n",
       "      <td>data scientist</td>\n",
       "      <td>125000dolar</td>\n",
       "      <td>35</td>\n",
       "    </tr>\n",
       "  </tbody>\n",
       "</table>\n",
       "</div>"
      ],
      "text/plain": [
       "      id          staff department                 job       salary age\n",
       "0  M0001       Tom BLUE         HR             manager   \"$150,000\"  52\n",
       "1  M0002     JOHN BLACK         IT             manager   \"$180,000\"  48\n",
       "2  E0001  Micheal Brown         IT      data scientist   \"$150,000\"  35\n",
       "3  E0002   jason walker         HR           recruiter  130000dolar  38\n",
       "4  E0003     Alex Green         IT   backend developer   \"$110,000\"   -\n",
       "5  E0004    OSCAR SMİTH         IT  frontend developer   \"$120,000\"  32\n",
       "6  E0005    Adrian STAR         IT      data scientist   \"$135,000\"  40\n",
       "7  E0006   Albert simon         IT      data scientist  125000dolar  35"
      ]
     },
     "execution_count": 314,
     "metadata": {},
     "output_type": "execute_result"
    }
   ],
   "source": [
    "df = pd.read_excel(\"text_exercise.xlsx\") \n",
    "df\n",
    "# read_excel, read_csv ile aynı görevi xlsx için yapıyor"
   ]
  },
  {
   "cell_type": "code",
   "execution_count": 315,
   "metadata": {},
   "outputs": [
    {
     "name": "stdout",
     "output_type": "stream",
     "text": [
      "<class 'pandas.core.frame.DataFrame'>\n",
      "RangeIndex: 8 entries, 0 to 7\n",
      "Data columns (total 6 columns):\n",
      " #   Column      Non-Null Count  Dtype \n",
      "---  ------      --------------  ----- \n",
      " 0   id          8 non-null      object\n",
      " 1   staff       8 non-null      object\n",
      " 2   department  8 non-null      object\n",
      " 3   job         8 non-null      object\n",
      " 4   salary      8 non-null      object\n",
      " 5   age         8 non-null      object\n",
      "dtypes: object(6)\n",
      "memory usage: 512.0+ bytes\n"
     ]
    }
   ],
   "source": [
    "df.info() # Sıkıntı var gibi veride\n",
    "# \"-\" işareti var ama \"NaN\" olarak gözükmüyor ve sütunun tipini \n",
    "# .. \"object\" e çevirmiş"
   ]
  },
  {
   "cell_type": "markdown",
   "metadata": {
    "id": "wjdf9RVrAga8"
   },
   "source": [
    "### <p style=\"background-color:#9d4f8c; font-family:newtimeroman; color:#FFF9ED; font-size:150%; text-align:LEFT; border-radius:10px 10px;\">Most Usefull String Methods</p>\n",
    "\n",
    "<a id=\"1.2\"></a>\n",
    "<a href=\"#toc\" class=\"btn btn-primary btn-sm\" role=\"button\" aria-pressed=\"true\" \n",
    "style=\"color:blue; background-color:#dfa8e4\" data-toggle=\"popover\">Content</a>"
   ]
  },
  {
   "cell_type": "markdown",
   "metadata": {
    "id": "7WlezG_wAga9"
   },
   "source": [
    "- **str.lower() =>** Converts a string into lower case\n",
    "- **str.upper() =>** Converts a string into upper case\n",
    "- **str.capitalize() =>** Converts the first character to upper case\n",
    "- **str.title() =>** Converts the first character of each word to upper case\n",
    "- **str.swapcase() =>** Swaps the case lower/upper\n",
    "\n",
    "[SOURCE01](https://www.tutorialspoint.com/python_pandas/python_pandas_working_with_text_data.htm)\n",
    "[SOURCE02](https://www.aboutdatablog.com/post/10-most-useful-string-functions-in-pandas)\n",
    "[SOURCE03](https://towardsdatascience.com/5-must-know-pandas-operations-on-strings-4f88ca6b8e25)\n",
    "[SOURCE04](https://towardsdatascience.com/pandas-string-operations-explained-fdfab7602fb4)\n",
    "[SOURCE05](https://blog.devgenius.io/string-operations-on-pandas-dataframe-88af220439d1)\n",
    "[SOURCE06](https://www.geeksforgeeks.org/string-manipulations-in-pandas-dataframe/)"
   ]
  },
  {
   "cell_type": "markdown",
   "metadata": {
    "id": "8Fq8bdAMAga9"
   },
   "source": [
    "___"
   ]
  },
  {
   "cell_type": "code",
   "execution_count": 316,
   "metadata": {},
   "outputs": [],
   "source": [
    "# df.staff.lower() # HATA. Çünkü seri ile beraber python ın built-in lower \n",
    "# .. fonksiyonunu çalıştıramam böyle. Çözüm için;"
   ]
  },
  {
   "cell_type": "code",
   "execution_count": 317,
   "metadata": {},
   "outputs": [
    {
     "data": {
      "text/plain": [
       "0         tom blue\n",
       "1       john black\n",
       "2    micheal brown\n",
       "3     jason walker\n",
       "4       alex green\n",
       "5     oscar smi̇th\n",
       "6      adrian star\n",
       "7     albert simon\n",
       "Name: staff, dtype: object"
      ]
     },
     "execution_count": 317,
     "metadata": {},
     "output_type": "execute_result"
    }
   ],
   "source": [
    "df.staff.str.lower() # Tüm harfleri küçük yaptı"
   ]
  },
  {
   "cell_type": "code",
   "execution_count": 318,
   "metadata": {},
   "outputs": [
    {
     "data": {
      "text/plain": [
       "0         TOM BLUE\n",
       "1       JOHN BLACK\n",
       "2    MICHEAL BROWN\n",
       "3     JASON WALKER\n",
       "4       ALEX GREEN\n",
       "5      OSCAR SMİTH\n",
       "6      ADRIAN STAR\n",
       "7     ALBERT SIMON\n",
       "Name: staff, dtype: object"
      ]
     },
     "execution_count": 318,
     "metadata": {},
     "output_type": "execute_result"
    }
   ],
   "source": [
    "df.staff.str.upper() # Tüm harfleri büyük yaptı"
   ]
  },
  {
   "cell_type": "code",
   "execution_count": 319,
   "metadata": {},
   "outputs": [
    {
     "data": {
      "text/plain": [
       "0         Tom blue\n",
       "1       John black\n",
       "2    Micheal brown\n",
       "3     Jason walker\n",
       "4       Alex green\n",
       "5     Oscar smi̇th\n",
       "6      Adrian star\n",
       "7     Albert simon\n",
       "Name: staff, dtype: object"
      ]
     },
     "execution_count": 319,
     "metadata": {},
     "output_type": "execute_result"
    }
   ],
   "source": [
    "df.staff.str.capitalize() # Sadece ilk harfi büyük yaptı"
   ]
  },
  {
   "cell_type": "code",
   "execution_count": 320,
   "metadata": {},
   "outputs": [
    {
     "data": {
      "text/plain": [
       "0         Tom Blue\n",
       "1       John Black\n",
       "2    Micheal Brown\n",
       "3     Jason Walker\n",
       "4       Alex Green\n",
       "5     Oscar Smi̇th\n",
       "6      Adrian Star\n",
       "7     Albert Simon\n",
       "Name: staff, dtype: object"
      ]
     },
     "execution_count": 320,
     "metadata": {},
     "output_type": "execute_result"
    }
   ],
   "source": [
    "df.staff.str.title()   # Kelimelerin baş harflerini büyük yaptı"
   ]
  },
  {
   "cell_type": "code",
   "execution_count": 321,
   "metadata": {},
   "outputs": [
    {
     "data": {
      "text/plain": [
       "0         tOM blue\n",
       "1       john black\n",
       "2    mICHEAL bROWN\n",
       "3     JASON WALKER\n",
       "4       aLEX gREEN\n",
       "5     oscar smi̇th\n",
       "6      aDRIAN star\n",
       "7     aLBERT SIMON\n",
       "Name: staff, dtype: object"
      ]
     },
     "execution_count": 321,
     "metadata": {},
     "output_type": "execute_result"
    }
   ],
   "source": [
    "df.staff.str.swapcase() # Büyük gördüğünü küçük, küçük gördüğünü büyük yaptı"
   ]
  },
  {
   "cell_type": "code",
   "execution_count": 322,
   "metadata": {},
   "outputs": [],
   "source": [
    "# Not:Bunlar kalıcı değil. Bunu sütuna işletmeniz gerekli\n",
    "# ..inplace=True YOK burada"
   ]
  },
  {
   "cell_type": "markdown",
   "metadata": {
    "id": "s2Ak2zZlAgbD"
   },
   "source": [
    "- **str.isalpha()     =>** Returns True if all characters in the string are in the alphabet\n",
    "- **str.isnumeric()   =>** Returns True if all characters in the string are numeric\n",
    "- **str.isalnum()     =>** Returns True if all characters in the string are alphanumeric\n",
    "- **str.endswith()\t  =>** Returns true if the string ends with the specified value\n",
    "- **str.startswith()  =>** Returns true if the string starts with the specified value\n",
    "- **str.contains()\t  =>** Returns a Boolean value True for each element if the substring contains in the element, else False.\n",
    "\n",
    "[SOURCE01](https://careerkarma.com/blog/python-isalpha-isnumeric-isalnum/)\n",
    "[SOURCE02](https://careerkarma.com/blog/python-startswith-and-endswith/)\n",
    "[SOURCE03](https://www.geeksforgeeks.org/python-startswith-endswidth-function/)\n",
    "[SOURCE04](https://towardsdatascience.com/check-for-a-substring-in-a-pandas-dataframe-column-4b949f64852#:~:text=The%20contains%20method%20in%20Pandas,str.)"
   ]
  },
  {
   "cell_type": "code",
   "execution_count": 323,
   "metadata": {},
   "outputs": [
    {
     "data": {
      "text/plain": [
       "0               manager\n",
       "1               manager\n",
       "2        data scientist\n",
       "3             recruiter\n",
       "4     backend developer\n",
       "5    frontend developer\n",
       "6        data scientist\n",
       "7        data scientist\n",
       "Name: job, dtype: object"
      ]
     },
     "execution_count": 323,
     "metadata": {},
     "output_type": "execute_result"
    }
   ],
   "source": [
    "df.job"
   ]
  },
  {
   "cell_type": "markdown",
   "metadata": {
    "id": "_UhyMqLDAgbE"
   },
   "source": [
    "___"
   ]
  },
  {
   "cell_type": "markdown",
   "metadata": {},
   "source": [
    "**isalpha()** Function in pandas python checks whether the string consists of alphabetic characters only. It returns True when alphabetic value is present and it returns False when the alphabetic value is not present."
   ]
  },
  {
   "cell_type": "code",
   "execution_count": 324,
   "metadata": {},
   "outputs": [
    {
     "data": {
      "text/plain": [
       "0     True\n",
       "1     True\n",
       "2    False\n",
       "3     True\n",
       "4    False\n",
       "5    False\n",
       "6    False\n",
       "7    False\n",
       "Name: job, dtype: bool"
      ]
     },
     "execution_count": 324,
     "metadata": {},
     "output_type": "execute_result"
    }
   ],
   "source": [
    "df.job.str.isalpha() # Alfabetik değer mevcut olduğunda True döndürür ve \n",
    "# .. alfabetik değer mevcut olmadığında False döndürür"
   ]
  },
  {
   "cell_type": "code",
   "execution_count": null,
   "metadata": {},
   "outputs": [],
   "source": []
  },
  {
   "cell_type": "markdown",
   "metadata": {},
   "source": [
    "**isnumeric()** checks whether all characters in each string are numeric. This is equivalent to running the Python string method str. isnumeric() for each element of the Series/Index."
   ]
  },
  {
   "cell_type": "code",
   "execution_count": 325,
   "metadata": {},
   "outputs": [
    {
     "data": {
      "text/plain": [
       "0      NaN\n",
       "1      NaN\n",
       "2      NaN\n",
       "3      NaN\n",
       "4    False\n",
       "5      NaN\n",
       "6      NaN\n",
       "7      NaN\n",
       "Name: age, dtype: object"
      ]
     },
     "execution_count": 325,
     "metadata": {},
     "output_type": "execute_result"
    }
   ],
   "source": [
    "df.age.str.isnumeric() # Tireyi False döndürdü, Nümerik değerler neden NaN geldi\n",
    "# .. Çünkü elemanlara tek tek bakacak olursak dtype integer gelecek ama\n",
    "# .. sütun tipi object ti. Bunu düzeltmek için ne yapmalıyım?\n",
    "# .. age in dtype ını değiştirmem gerekli \"string olarak\""
   ]
  },
  {
   "cell_type": "code",
   "execution_count": 326,
   "metadata": {},
   "outputs": [
    {
     "data": {
      "text/plain": [
       "0     True\n",
       "1     True\n",
       "2     True\n",
       "3     True\n",
       "4    False\n",
       "5     True\n",
       "6     True\n",
       "7     True\n",
       "Name: age, dtype: bool"
      ]
     },
     "execution_count": 326,
     "metadata": {},
     "output_type": "execute_result"
    }
   ],
   "source": [
    "df.age.astype(\"str\").str.isnumeric()"
   ]
  },
  {
   "cell_type": "markdown",
   "metadata": {},
   "source": [
    "**isalnum()** Function in python checks whether the string consists of alphanumeric characters. It returns True when alphanumeric value is present and it returns False when the alphanumeric value is not present. Alphanumeric means a character that is either a letter or a number."
   ]
  },
  {
   "cell_type": "code",
   "execution_count": 327,
   "metadata": {},
   "outputs": [
    {
     "data": {
      "text/plain": [
       "0    False\n",
       "1    False\n",
       "2    False\n",
       "3     True\n",
       "4    False\n",
       "5    False\n",
       "6    False\n",
       "7     True\n",
       "Name: salary, dtype: bool"
      ]
     },
     "execution_count": 327,
     "metadata": {},
     "output_type": "execute_result"
    }
   ],
   "source": [
    "df.salary.str.isalnum() # Sadece harf veya sayılardan oluşanlar True gelecek"
   ]
  },
  {
   "cell_type": "markdown",
   "metadata": {},
   "source": [
    "Pandas **startswith()** tests if the start of each string element matches a pattern. It is yet another method to search and filter text data in Series or Data Frame. This method is Similar to Python’s startswith() method, but has different parameters and it works on Pandas objects only. Hence .str has to be prefixed everytime before calling this method, so that the compiler knows that it’s different from default function."
   ]
  },
  {
   "cell_type": "code",
   "execution_count": 328,
   "metadata": {},
   "outputs": [
    {
     "data": {
      "text/plain": [
       "0    False\n",
       "1    False\n",
       "2     True\n",
       "3    False\n",
       "4    False\n",
       "5    False\n",
       "6     True\n",
       "7     True\n",
       "Name: job, dtype: bool"
      ]
     },
     "execution_count": 328,
     "metadata": {},
     "output_type": "execute_result"
    }
   ],
   "source": [
    "df.job.str.startswith(\"data\") # \"data\" ile başlayan satırlar True\n",
    "# Not: df[df.job.str.startswith(\"data\")] # df olarak görmek istersek"
   ]
  },
  {
   "cell_type": "markdown",
   "metadata": {},
   "source": [
    "Pandas **endswith()** method is a built-in function that determines whether the given string ends with a specific sequence of characters."
   ]
  },
  {
   "cell_type": "code",
   "execution_count": 329,
   "metadata": {},
   "outputs": [
    {
     "data": {
      "text/plain": [
       "0    False\n",
       "1    False\n",
       "2    False\n",
       "3    False\n",
       "4     True\n",
       "5     True\n",
       "6    False\n",
       "7    False\n",
       "Name: job, dtype: bool"
      ]
     },
     "execution_count": 329,
     "metadata": {},
     "output_type": "execute_result"
    }
   ],
   "source": [
    "df.job.str.endswith(\"per\") # \"per\" ile biten satırlar True"
   ]
  },
  {
   "cell_type": "markdown",
   "metadata": {},
   "source": [
    "The **contains()** method in Pandas allows you to search a column for a specific substring. The contains method returns boolean values for the Series with True for if the original Series value contains the substring and False if not [SOURCE](https://towardsdatascience.com/check-for-a-substring-in-a-pandas-dataframe-column-4b949f64852#:~:text=The%20contains%20method%20in%20Pandas,str.)."
   ]
  },
  {
   "cell_type": "code",
   "execution_count": 330,
   "metadata": {},
   "outputs": [
    {
     "data": {
      "text/plain": [
       "0    False\n",
       "1    False\n",
       "2     True\n",
       "3    False\n",
       "4    False\n",
       "5    False\n",
       "6     True\n",
       "7     True\n",
       "Name: job, dtype: bool"
      ]
     },
     "execution_count": 330,
     "metadata": {},
     "output_type": "execute_result"
    }
   ],
   "source": [
    "df.job.str.contains(\"data\") # içinde \"data\" geçenler True\n",
    "# Bunu \"regex\" ile kullanabiliriz"
   ]
  },
  {
   "cell_type": "code",
   "execution_count": 331,
   "metadata": {},
   "outputs": [
    {
     "data": {
      "text/html": [
       "<div>\n",
       "<style scoped>\n",
       "    .dataframe tbody tr th:only-of-type {\n",
       "        vertical-align: middle;\n",
       "    }\n",
       "\n",
       "    .dataframe tbody tr th {\n",
       "        vertical-align: top;\n",
       "    }\n",
       "\n",
       "    .dataframe thead th {\n",
       "        text-align: right;\n",
       "    }\n",
       "</style>\n",
       "<table border=\"1\" class=\"dataframe\">\n",
       "  <thead>\n",
       "    <tr style=\"text-align: right;\">\n",
       "      <th></th>\n",
       "      <th>id</th>\n",
       "      <th>staff</th>\n",
       "      <th>department</th>\n",
       "      <th>job</th>\n",
       "      <th>salary</th>\n",
       "      <th>age</th>\n",
       "    </tr>\n",
       "  </thead>\n",
       "  <tbody>\n",
       "    <tr>\n",
       "      <th>0</th>\n",
       "      <td>M0001</td>\n",
       "      <td>Tom BLUE</td>\n",
       "      <td>HR</td>\n",
       "      <td>manager</td>\n",
       "      <td>\"$150,000\"</td>\n",
       "      <td>52</td>\n",
       "    </tr>\n",
       "    <tr>\n",
       "      <th>1</th>\n",
       "      <td>M0002</td>\n",
       "      <td>JOHN BLACK</td>\n",
       "      <td>IT</td>\n",
       "      <td>manager</td>\n",
       "      <td>\"$180,000\"</td>\n",
       "      <td>48</td>\n",
       "    </tr>\n",
       "    <tr>\n",
       "      <th>2</th>\n",
       "      <td>E0001</td>\n",
       "      <td>Micheal Brown</td>\n",
       "      <td>IT</td>\n",
       "      <td>data scientist</td>\n",
       "      <td>\"$150,000\"</td>\n",
       "      <td>35</td>\n",
       "    </tr>\n",
       "    <tr>\n",
       "      <th>3</th>\n",
       "      <td>E0002</td>\n",
       "      <td>jason walker</td>\n",
       "      <td>HR</td>\n",
       "      <td>recruiter</td>\n",
       "      <td>130000dolar</td>\n",
       "      <td>38</td>\n",
       "    </tr>\n",
       "    <tr>\n",
       "      <th>4</th>\n",
       "      <td>E0003</td>\n",
       "      <td>Alex Green</td>\n",
       "      <td>IT</td>\n",
       "      <td>backend developer</td>\n",
       "      <td>\"$110,000\"</td>\n",
       "      <td>-</td>\n",
       "    </tr>\n",
       "    <tr>\n",
       "      <th>5</th>\n",
       "      <td>E0004</td>\n",
       "      <td>OSCAR SMİTH</td>\n",
       "      <td>IT</td>\n",
       "      <td>frontend developer</td>\n",
       "      <td>\"$120,000\"</td>\n",
       "      <td>32</td>\n",
       "    </tr>\n",
       "    <tr>\n",
       "      <th>6</th>\n",
       "      <td>E0005</td>\n",
       "      <td>Adrian STAR</td>\n",
       "      <td>IT</td>\n",
       "      <td>data scientist</td>\n",
       "      <td>\"$135,000\"</td>\n",
       "      <td>40</td>\n",
       "    </tr>\n",
       "    <tr>\n",
       "      <th>7</th>\n",
       "      <td>E0006</td>\n",
       "      <td>Albert simon</td>\n",
       "      <td>IT</td>\n",
       "      <td>data scientist</td>\n",
       "      <td>125000dolar</td>\n",
       "      <td>35</td>\n",
       "    </tr>\n",
       "  </tbody>\n",
       "</table>\n",
       "</div>"
      ],
      "text/plain": [
       "      id          staff department                 job       salary age\n",
       "0  M0001       Tom BLUE         HR             manager   \"$150,000\"  52\n",
       "1  M0002     JOHN BLACK         IT             manager   \"$180,000\"  48\n",
       "2  E0001  Micheal Brown         IT      data scientist   \"$150,000\"  35\n",
       "3  E0002   jason walker         HR           recruiter  130000dolar  38\n",
       "4  E0003     Alex Green         IT   backend developer   \"$110,000\"   -\n",
       "5  E0004    OSCAR SMİTH         IT  frontend developer   \"$120,000\"  32\n",
       "6  E0005    Adrian STAR         IT      data scientist   \"$135,000\"  40\n",
       "7  E0006   Albert simon         IT      data scientist  125000dolar  35"
      ]
     },
     "execution_count": 331,
     "metadata": {},
     "output_type": "execute_result"
    }
   ],
   "source": [
    "df"
   ]
  },
  {
   "cell_type": "code",
   "execution_count": 332,
   "metadata": {},
   "outputs": [
    {
     "data": {
      "text/plain": [
       "0    False\n",
       "1    False\n",
       "2    False\n",
       "3     True\n",
       "4    False\n",
       "5    False\n",
       "6    False\n",
       "7     True\n",
       "Name: salary, dtype: bool"
      ]
     },
     "execution_count": 332,
     "metadata": {},
     "output_type": "execute_result"
    }
   ],
   "source": [
    "df.salary.str.contains(\"[a-z]+\") # içinde \"a\" dan \"z\" ye kadar herhangi bir tane harf geçenler geçenler"
   ]
  },
  {
   "cell_type": "markdown",
   "metadata": {
    "id": "GEVc2lH1AgbI"
   },
   "source": [
    "we can use these string methods which returning boolean expression for creating condition and so selecting relative rows"
   ]
  },
  {
   "cell_type": "code",
   "execution_count": 333,
   "metadata": {},
   "outputs": [
    {
     "data": {
      "text/html": [
       "<div>\n",
       "<style scoped>\n",
       "    .dataframe tbody tr th:only-of-type {\n",
       "        vertical-align: middle;\n",
       "    }\n",
       "\n",
       "    .dataframe tbody tr th {\n",
       "        vertical-align: top;\n",
       "    }\n",
       "\n",
       "    .dataframe thead th {\n",
       "        text-align: right;\n",
       "    }\n",
       "</style>\n",
       "<table border=\"1\" class=\"dataframe\">\n",
       "  <thead>\n",
       "    <tr style=\"text-align: right;\">\n",
       "      <th></th>\n",
       "      <th>id</th>\n",
       "      <th>staff</th>\n",
       "      <th>department</th>\n",
       "      <th>job</th>\n",
       "      <th>salary</th>\n",
       "      <th>age</th>\n",
       "    </tr>\n",
       "  </thead>\n",
       "  <tbody>\n",
       "    <tr>\n",
       "      <th>2</th>\n",
       "      <td>E0001</td>\n",
       "      <td>Micheal Brown</td>\n",
       "      <td>IT</td>\n",
       "      <td>data scientist</td>\n",
       "      <td>\"$150,000\"</td>\n",
       "      <td>35</td>\n",
       "    </tr>\n",
       "    <tr>\n",
       "      <th>6</th>\n",
       "      <td>E0005</td>\n",
       "      <td>Adrian STAR</td>\n",
       "      <td>IT</td>\n",
       "      <td>data scientist</td>\n",
       "      <td>\"$135,000\"</td>\n",
       "      <td>40</td>\n",
       "    </tr>\n",
       "    <tr>\n",
       "      <th>7</th>\n",
       "      <td>E0006</td>\n",
       "      <td>Albert simon</td>\n",
       "      <td>IT</td>\n",
       "      <td>data scientist</td>\n",
       "      <td>125000dolar</td>\n",
       "      <td>35</td>\n",
       "    </tr>\n",
       "  </tbody>\n",
       "</table>\n",
       "</div>"
      ],
      "text/plain": [
       "      id          staff department             job       salary age\n",
       "2  E0001  Micheal Brown         IT  data scientist   \"$150,000\"  35\n",
       "6  E0005    Adrian STAR         IT  data scientist   \"$135,000\"  40\n",
       "7  E0006   Albert simon         IT  data scientist  125000dolar  35"
      ]
     },
     "execution_count": 333,
     "metadata": {},
     "output_type": "execute_result"
    }
   ],
   "source": [
    "df.loc[df.job.str.contains(\"data\")]"
   ]
  },
  {
   "cell_type": "code",
   "execution_count": 334,
   "metadata": {},
   "outputs": [
    {
     "data": {
      "text/html": [
       "<div>\n",
       "<style scoped>\n",
       "    .dataframe tbody tr th:only-of-type {\n",
       "        vertical-align: middle;\n",
       "    }\n",
       "\n",
       "    .dataframe tbody tr th {\n",
       "        vertical-align: top;\n",
       "    }\n",
       "\n",
       "    .dataframe thead th {\n",
       "        text-align: right;\n",
       "    }\n",
       "</style>\n",
       "<table border=\"1\" class=\"dataframe\">\n",
       "  <thead>\n",
       "    <tr style=\"text-align: right;\">\n",
       "      <th></th>\n",
       "      <th>id</th>\n",
       "      <th>staff</th>\n",
       "      <th>department</th>\n",
       "      <th>job</th>\n",
       "      <th>salary</th>\n",
       "      <th>age</th>\n",
       "    </tr>\n",
       "  </thead>\n",
       "  <tbody>\n",
       "    <tr>\n",
       "      <th>0</th>\n",
       "      <td>M0001</td>\n",
       "      <td>Tom BLUE</td>\n",
       "      <td>HR</td>\n",
       "      <td>manager</td>\n",
       "      <td>\"$150,000\"</td>\n",
       "      <td>52</td>\n",
       "    </tr>\n",
       "    <tr>\n",
       "      <th>1</th>\n",
       "      <td>M0002</td>\n",
       "      <td>JOHN BLACK</td>\n",
       "      <td>IT</td>\n",
       "      <td>manager</td>\n",
       "      <td>\"$180,000\"</td>\n",
       "      <td>48</td>\n",
       "    </tr>\n",
       "    <tr>\n",
       "      <th>2</th>\n",
       "      <td>E0001</td>\n",
       "      <td>Micheal Brown</td>\n",
       "      <td>DS</td>\n",
       "      <td>data scientist</td>\n",
       "      <td>\"$150,000\"</td>\n",
       "      <td>35</td>\n",
       "    </tr>\n",
       "    <tr>\n",
       "      <th>3</th>\n",
       "      <td>E0002</td>\n",
       "      <td>jason walker</td>\n",
       "      <td>HR</td>\n",
       "      <td>recruiter</td>\n",
       "      <td>130000dolar</td>\n",
       "      <td>38</td>\n",
       "    </tr>\n",
       "    <tr>\n",
       "      <th>4</th>\n",
       "      <td>E0003</td>\n",
       "      <td>Alex Green</td>\n",
       "      <td>IT</td>\n",
       "      <td>backend developer</td>\n",
       "      <td>\"$110,000\"</td>\n",
       "      <td>-</td>\n",
       "    </tr>\n",
       "    <tr>\n",
       "      <th>5</th>\n",
       "      <td>E0004</td>\n",
       "      <td>OSCAR SMİTH</td>\n",
       "      <td>IT</td>\n",
       "      <td>frontend developer</td>\n",
       "      <td>\"$120,000\"</td>\n",
       "      <td>32</td>\n",
       "    </tr>\n",
       "    <tr>\n",
       "      <th>6</th>\n",
       "      <td>E0005</td>\n",
       "      <td>Adrian STAR</td>\n",
       "      <td>DS</td>\n",
       "      <td>data scientist</td>\n",
       "      <td>\"$135,000\"</td>\n",
       "      <td>40</td>\n",
       "    </tr>\n",
       "    <tr>\n",
       "      <th>7</th>\n",
       "      <td>E0006</td>\n",
       "      <td>Albert simon</td>\n",
       "      <td>DS</td>\n",
       "      <td>data scientist</td>\n",
       "      <td>125000dolar</td>\n",
       "      <td>35</td>\n",
       "    </tr>\n",
       "  </tbody>\n",
       "</table>\n",
       "</div>"
      ],
      "text/plain": [
       "      id          staff department                 job       salary age\n",
       "0  M0001       Tom BLUE         HR             manager   \"$150,000\"  52\n",
       "1  M0002     JOHN BLACK         IT             manager   \"$180,000\"  48\n",
       "2  E0001  Micheal Brown         DS      data scientist   \"$150,000\"  35\n",
       "3  E0002   jason walker         HR           recruiter  130000dolar  38\n",
       "4  E0003     Alex Green         IT   backend developer   \"$110,000\"   -\n",
       "5  E0004    OSCAR SMİTH         IT  frontend developer   \"$120,000\"  32\n",
       "6  E0005    Adrian STAR         DS      data scientist   \"$135,000\"  40\n",
       "7  E0006   Albert simon         DS      data scientist  125000dolar  35"
      ]
     },
     "execution_count": 334,
     "metadata": {},
     "output_type": "execute_result"
    }
   ],
   "source": [
    "df.loc[df.job.str.contains(\"data\"), \"department\"] =\"DS\" \n",
    "df\n",
    "# \"data\" içerenlerin department kısımlarını \"DS\" e çevirdik"
   ]
  },
  {
   "cell_type": "code",
   "execution_count": 335,
   "metadata": {},
   "outputs": [
    {
     "data": {
      "text/html": [
       "<div>\n",
       "<style scoped>\n",
       "    .dataframe tbody tr th:only-of-type {\n",
       "        vertical-align: middle;\n",
       "    }\n",
       "\n",
       "    .dataframe tbody tr th {\n",
       "        vertical-align: top;\n",
       "    }\n",
       "\n",
       "    .dataframe thead th {\n",
       "        text-align: right;\n",
       "    }\n",
       "</style>\n",
       "<table border=\"1\" class=\"dataframe\">\n",
       "  <thead>\n",
       "    <tr style=\"text-align: right;\">\n",
       "      <th></th>\n",
       "      <th>id</th>\n",
       "      <th>staff</th>\n",
       "      <th>department</th>\n",
       "      <th>job</th>\n",
       "      <th>salary</th>\n",
       "      <th>age</th>\n",
       "    </tr>\n",
       "  </thead>\n",
       "  <tbody>\n",
       "    <tr>\n",
       "      <th>0</th>\n",
       "      <td>M0001</td>\n",
       "      <td>Tom BLUE</td>\n",
       "      <td>HR</td>\n",
       "      <td>manager</td>\n",
       "      <td>\"$150,000\"</td>\n",
       "      <td>52</td>\n",
       "    </tr>\n",
       "    <tr>\n",
       "      <th>1</th>\n",
       "      <td>M0002</td>\n",
       "      <td>JOHN BLACK</td>\n",
       "      <td>IT</td>\n",
       "      <td>manager</td>\n",
       "      <td>\"$180,000\"</td>\n",
       "      <td>48</td>\n",
       "    </tr>\n",
       "    <tr>\n",
       "      <th>2</th>\n",
       "      <td>E0001</td>\n",
       "      <td>Micheal Brown</td>\n",
       "      <td>IT</td>\n",
       "      <td>data scientist</td>\n",
       "      <td>\"$150,000\"</td>\n",
       "      <td>35</td>\n",
       "    </tr>\n",
       "    <tr>\n",
       "      <th>3</th>\n",
       "      <td>E0002</td>\n",
       "      <td>jason walker</td>\n",
       "      <td>HR</td>\n",
       "      <td>recruiter</td>\n",
       "      <td>130000dolar</td>\n",
       "      <td>38</td>\n",
       "    </tr>\n",
       "    <tr>\n",
       "      <th>4</th>\n",
       "      <td>E0003</td>\n",
       "      <td>Alex Green</td>\n",
       "      <td>IT</td>\n",
       "      <td>backend developer</td>\n",
       "      <td>\"$110,000\"</td>\n",
       "      <td>-</td>\n",
       "    </tr>\n",
       "    <tr>\n",
       "      <th>5</th>\n",
       "      <td>E0004</td>\n",
       "      <td>OSCAR SMİTH</td>\n",
       "      <td>IT</td>\n",
       "      <td>frontend developer</td>\n",
       "      <td>\"$120,000\"</td>\n",
       "      <td>32</td>\n",
       "    </tr>\n",
       "    <tr>\n",
       "      <th>6</th>\n",
       "      <td>E0005</td>\n",
       "      <td>Adrian STAR</td>\n",
       "      <td>IT</td>\n",
       "      <td>data scientist</td>\n",
       "      <td>\"$135,000\"</td>\n",
       "      <td>40</td>\n",
       "    </tr>\n",
       "    <tr>\n",
       "      <th>7</th>\n",
       "      <td>E0006</td>\n",
       "      <td>Albert simon</td>\n",
       "      <td>IT</td>\n",
       "      <td>data scientist</td>\n",
       "      <td>125000dolar</td>\n",
       "      <td>35</td>\n",
       "    </tr>\n",
       "  </tbody>\n",
       "</table>\n",
       "</div>"
      ],
      "text/plain": [
       "      id          staff department                 job       salary age\n",
       "0  M0001       Tom BLUE         HR             manager   \"$150,000\"  52\n",
       "1  M0002     JOHN BLACK         IT             manager   \"$180,000\"  48\n",
       "2  E0001  Micheal Brown         IT      data scientist   \"$150,000\"  35\n",
       "3  E0002   jason walker         HR           recruiter  130000dolar  38\n",
       "4  E0003     Alex Green         IT   backend developer   \"$110,000\"   -\n",
       "5  E0004    OSCAR SMİTH         IT  frontend developer   \"$120,000\"  32\n",
       "6  E0005    Adrian STAR         IT      data scientist   \"$135,000\"  40\n",
       "7  E0006   Albert simon         IT      data scientist  125000dolar  35"
      ]
     },
     "execution_count": 335,
     "metadata": {},
     "output_type": "execute_result"
    }
   ],
   "source": [
    "df.loc[df.job.str.contains(\"data\"), \"department\"] =\"IT\"\n",
    "df\n",
    "# Tekrar eski haline getirdik"
   ]
  },
  {
   "cell_type": "markdown",
   "metadata": {
    "id": "jhO17MPnAgbK"
   },
   "source": [
    "___"
   ]
  },
  {
   "cell_type": "markdown",
   "metadata": {
    "id": "B_vrLzLHAgbK"
   },
   "source": [
    "- **str.strip()\t=>** Returns a trimmed version of the string\n",
    "\n",
    "- **str.replace() =>** Returns a string where a specified value is replaced with a specified value\n",
    "\n",
    "- **str.split()\t=>** Splits the string at the specified separator, and returns a list\n",
    "\n",
    "- **str.find()\t=>** Searches the string for a specified value and returns the position of where it was found\n",
    "\n",
    "- **str.findall()\t=>** Returns a list of all occurrence of the pattern.\n",
    "\n",
    "- **str.join()\t=>** Converts the elements of an iterable into a string"
   ]
  },
  {
   "cell_type": "markdown",
   "metadata": {
    "id": "JzANi-kCAgbK"
   },
   "source": [
    "___"
   ]
  },
  {
   "cell_type": "code",
   "execution_count": 336,
   "metadata": {},
   "outputs": [
    {
     "data": {
      "text/html": [
       "<div>\n",
       "<style scoped>\n",
       "    .dataframe tbody tr th:only-of-type {\n",
       "        vertical-align: middle;\n",
       "    }\n",
       "\n",
       "    .dataframe tbody tr th {\n",
       "        vertical-align: top;\n",
       "    }\n",
       "\n",
       "    .dataframe thead th {\n",
       "        text-align: right;\n",
       "    }\n",
       "</style>\n",
       "<table border=\"1\" class=\"dataframe\">\n",
       "  <thead>\n",
       "    <tr style=\"text-align: right;\">\n",
       "      <th></th>\n",
       "      <th>id</th>\n",
       "      <th>staff</th>\n",
       "      <th>department</th>\n",
       "      <th>job</th>\n",
       "      <th>salary</th>\n",
       "      <th>age</th>\n",
       "    </tr>\n",
       "  </thead>\n",
       "  <tbody>\n",
       "    <tr>\n",
       "      <th>0</th>\n",
       "      <td>M0001</td>\n",
       "      <td>Tom BLUE</td>\n",
       "      <td>HR</td>\n",
       "      <td>manager</td>\n",
       "      <td>\"$150,000\"</td>\n",
       "      <td>52</td>\n",
       "    </tr>\n",
       "    <tr>\n",
       "      <th>1</th>\n",
       "      <td>M0002</td>\n",
       "      <td>JOHN BLACK</td>\n",
       "      <td>IT</td>\n",
       "      <td>manager</td>\n",
       "      <td>\"$180,000\"</td>\n",
       "      <td>48</td>\n",
       "    </tr>\n",
       "    <tr>\n",
       "      <th>2</th>\n",
       "      <td>E0001</td>\n",
       "      <td>Micheal Brown</td>\n",
       "      <td>IT</td>\n",
       "      <td>data scientist</td>\n",
       "      <td>\"$150,000\"</td>\n",
       "      <td>35</td>\n",
       "    </tr>\n",
       "    <tr>\n",
       "      <th>3</th>\n",
       "      <td>E0002</td>\n",
       "      <td>jason walker</td>\n",
       "      <td>HR</td>\n",
       "      <td>recruiter</td>\n",
       "      <td>130000dolar</td>\n",
       "      <td>38</td>\n",
       "    </tr>\n",
       "    <tr>\n",
       "      <th>4</th>\n",
       "      <td>E0003</td>\n",
       "      <td>Alex Green</td>\n",
       "      <td>IT</td>\n",
       "      <td>backend developer</td>\n",
       "      <td>\"$110,000\"</td>\n",
       "      <td>-</td>\n",
       "    </tr>\n",
       "    <tr>\n",
       "      <th>5</th>\n",
       "      <td>E0004</td>\n",
       "      <td>OSCAR SMİTH</td>\n",
       "      <td>IT</td>\n",
       "      <td>frontend developer</td>\n",
       "      <td>\"$120,000\"</td>\n",
       "      <td>32</td>\n",
       "    </tr>\n",
       "    <tr>\n",
       "      <th>6</th>\n",
       "      <td>E0005</td>\n",
       "      <td>Adrian STAR</td>\n",
       "      <td>IT</td>\n",
       "      <td>data scientist</td>\n",
       "      <td>\"$135,000\"</td>\n",
       "      <td>40</td>\n",
       "    </tr>\n",
       "    <tr>\n",
       "      <th>7</th>\n",
       "      <td>E0006</td>\n",
       "      <td>Albert simon</td>\n",
       "      <td>IT</td>\n",
       "      <td>data scientist</td>\n",
       "      <td>125000dolar</td>\n",
       "      <td>35</td>\n",
       "    </tr>\n",
       "  </tbody>\n",
       "</table>\n",
       "</div>"
      ],
      "text/plain": [
       "      id          staff department                 job       salary age\n",
       "0  M0001       Tom BLUE         HR             manager   \"$150,000\"  52\n",
       "1  M0002     JOHN BLACK         IT             manager   \"$180,000\"  48\n",
       "2  E0001  Micheal Brown         IT      data scientist   \"$150,000\"  35\n",
       "3  E0002   jason walker         HR           recruiter  130000dolar  38\n",
       "4  E0003     Alex Green         IT   backend developer   \"$110,000\"   -\n",
       "5  E0004    OSCAR SMİTH         IT  frontend developer   \"$120,000\"  32\n",
       "6  E0005    Adrian STAR         IT      data scientist   \"$135,000\"  40\n",
       "7  E0006   Albert simon         IT      data scientist  125000dolar  35"
      ]
     },
     "execution_count": 336,
     "metadata": {},
     "output_type": "execute_result"
    }
   ],
   "source": [
    "df"
   ]
  },
  {
   "cell_type": "markdown",
   "metadata": {},
   "source": [
    "**NOTE:** For a better using and understanding of strip, please revise escape characters in python [Source01 for Escape Characters](https://www.python-ds.com/python-3-escape-sequences) & [Source02 for Escape Characters](https://www.w3schools.com/python/gloss_python_escape_characters.asp)"
   ]
  },
  {
   "cell_type": "code",
   "execution_count": 337,
   "metadata": {},
   "outputs": [],
   "source": [
    "# Salary yi tamamen sayısal hale getirmek istiyorum.(Not:regex le daha kolay)"
   ]
  },
  {
   "cell_type": "code",
   "execution_count": 338,
   "metadata": {},
   "outputs": [
    {
     "data": {
      "text/plain": [
       "0     \"$150,000\"\n",
       "1     \"$180,000\"\n",
       "2     \"$150,000\"\n",
       "3    130000dolar\n",
       "4     \"$110,000\"\n",
       "5     \"$120,000\"\n",
       "6     \"$135,000\"\n",
       "7    125000dolar\n",
       "Name: salary, dtype: object"
      ]
     },
     "execution_count": 338,
     "metadata": {},
     "output_type": "execute_result"
    }
   ],
   "source": [
    "df.salary.str.strip('') # Hem sağdaki hem soldaki tırnak işaretlerini götürdük "
   ]
  },
  {
   "cell_type": "code",
   "execution_count": 339,
   "metadata": {},
   "outputs": [
    {
     "data": {
      "text/plain": [
       "0       $150,000\n",
       "1       $180,000\n",
       "2       $150,000\n",
       "3    130000dolar\n",
       "4       $110,000\n",
       "5       $120,000\n",
       "6       $135,000\n",
       "7    125000dolar\n",
       "Name: salary, dtype: object"
      ]
     },
     "execution_count": 339,
     "metadata": {},
     "output_type": "execute_result"
    }
   ],
   "source": [
    "df.salary.str.strip(\"\\\"\") # Tırnakların içindeki tırnağı özel anlamı dışında \n",
    "# .. bir anlamla kullan"
   ]
  },
  {
   "cell_type": "code",
   "execution_count": 340,
   "metadata": {},
   "outputs": [
    {
     "data": {
      "text/plain": [
       "0    $150,000\n",
       "1    $180,000\n",
       "2    $150,000\n",
       "3      130000\n",
       "4    $110,000\n",
       "5    $120,000\n",
       "6    $135,000\n",
       "7      125000\n",
       "Name: salary, dtype: object"
      ]
     },
     "execution_count": 340,
     "metadata": {},
     "output_type": "execute_result"
    }
   ],
   "source": [
    "# Dolar ifadesinden kurtulmak istiyorum\n",
    "df.salary.str.strip(\"\\\"\").str.rstrip(\"dolar\") # \"dolar\" sadece sağda olduğu \n",
    "# .. için \"rstrip\" kullandık"
   ]
  },
  {
   "cell_type": "code",
   "execution_count": 341,
   "metadata": {},
   "outputs": [
    {
     "data": {
      "text/plain": [
       "0    150,000\n",
       "1    180,000\n",
       "2    150,000\n",
       "3     130000\n",
       "4    110,000\n",
       "5    120,000\n",
       "6    135,000\n",
       "7     125000\n",
       "Name: salary, dtype: object"
      ]
     },
     "execution_count": 341,
     "metadata": {},
     "output_type": "execute_result"
    }
   ],
   "source": [
    "df.salary.str.strip(\"\\\"\").str.rstrip(\"dolar\").str.lstrip(\"$\") # \"$\" işareti\n",
    "# .. sadece solda olduğu için lstrip de kullandık burada extradan"
   ]
  },
  {
   "cell_type": "code",
   "execution_count": 342,
   "metadata": {},
   "outputs": [
    {
     "data": {
      "text/plain": [
       "0    150,000\n",
       "1    180,000\n",
       "2    150,000\n",
       "3     130000\n",
       "4    110,000\n",
       "5    120,000\n",
       "6    135,000\n",
       "7     125000\n",
       "Name: salary, dtype: object"
      ]
     },
     "execution_count": 342,
     "metadata": {},
     "output_type": "execute_result"
    }
   ],
   "source": [
    "df.salary.str.strip(\"\\\"dolar$\") # 2. yol"
   ]
  },
  {
   "cell_type": "code",
   "execution_count": 343,
   "metadata": {},
   "outputs": [
    {
     "data": {
      "text/plain": [
       "0    150,000\n",
       "1    180,000\n",
       "2    150,000\n",
       "3     130000\n",
       "4    110,000\n",
       "5    120,000\n",
       "6    135,000\n",
       "7     125000\n",
       "Name: salary, dtype: object"
      ]
     },
     "execution_count": 343,
     "metadata": {},
     "output_type": "execute_result"
    }
   ],
   "source": [
    "# Sadece virgül ile alakalı bir sorun kaldı, onu da \"replace\" ile kaldıralım\n",
    "df.salary.str.strip(\"\\\"dolar$\").replace(\",\",\"\") # Virgüller kalkmadı.\n",
    "# Çözüm için yine araya \"str\" koymalıyız"
   ]
  },
  {
   "cell_type": "code",
   "execution_count": 344,
   "metadata": {},
   "outputs": [
    {
     "data": {
      "text/plain": [
       "0    150000\n",
       "1    180000\n",
       "2    150000\n",
       "3    130000\n",
       "4    110000\n",
       "5    120000\n",
       "6    135000\n",
       "7    125000\n",
       "Name: salary, dtype: object"
      ]
     },
     "execution_count": 344,
     "metadata": {},
     "output_type": "execute_result"
    }
   ],
   "source": [
    "df.salary.str.strip(\"\\\"dolar$\").str.replace(\",\",\"\")\n",
    "# str.replace: O sütuna gelir her bir string ifade arasında bir substring e\n",
    "# .. bakar. O satır komple bir stringti. O string altındaki\n",
    "# .. virgül bir substring tir.\n",
    "# replace; o sütuna gelir o satırın tamamına bakar. O yüzden değiştiremedi.\n",
    "# .. tek başına virgülle dolu olan bir satır olsaydı \"replace\" onu değiştirirdi"
   ]
  },
  {
   "cell_type": "code",
   "execution_count": 345,
   "metadata": {},
   "outputs": [
    {
     "data": {
      "text/plain": [
       "'\\nstr.replace() vs **.replace()\\nPurpose: Use str.replace for substring replacements on a single string column,\\nand replace for any general replacement on one or more columns.\\n\\nUsage: str.replace can replace one thing at a time. replace lets you perform \\nmultiple independent replacements, i.e., replace many things at once.\\n\\nDefault behavior: str.replace enables regex replacement by default. replace\\nonly performs a full match unless the regex=True switch is used.\\n'"
      ]
     },
     "execution_count": 345,
     "metadata": {},
     "output_type": "execute_result"
    }
   ],
   "source": [
    "\"\"\"\n",
    "str.replace() vs **.replace()\n",
    "Purpose: Use str.replace for substring replacements on a single string column,\n",
    "and replace for any general replacement on one or more columns.\n",
    "\n",
    "Usage: str.replace can replace one thing at a time. replace lets you perform \n",
    "multiple independent replacements, i.e., replace many things at once.\n",
    "\n",
    "Default behavior: str.replace enables regex replacement by default. replace\n",
    "only performs a full match unless the regex=True switch is used.\n",
    "\"\"\""
   ]
  },
  {
   "cell_type": "code",
   "execution_count": 346,
   "metadata": {},
   "outputs": [
    {
     "data": {
      "text/plain": [
       "0    150000\n",
       "1    180000\n",
       "2    150000\n",
       "3    130000\n",
       "4    110000\n",
       "5    120000\n",
       "6    135000\n",
       "7    125000\n",
       "Name: salary, dtype: int32"
      ]
     },
     "execution_count": 346,
     "metadata": {},
     "output_type": "execute_result"
    }
   ],
   "source": [
    "# Son sorunumuz da veri tipi idi onu da \"astype\" ile halledelim\n",
    "df.salary.str.strip(\"\\\"dolar$\").str.replace(\",\",\"\").astype(\"int\")\n",
    "# Bunu kalıcı yapalım"
   ]
  },
  {
   "cell_type": "code",
   "execution_count": 347,
   "metadata": {},
   "outputs": [],
   "source": [
    "df[\"salary\"] = df.salary.str.strip(\"\\\"dolar$\").str.replace(\",\",\"\").astype(\"int\")"
   ]
  },
  {
   "cell_type": "code",
   "execution_count": 348,
   "metadata": {},
   "outputs": [
    {
     "data": {
      "text/html": [
       "<div>\n",
       "<style scoped>\n",
       "    .dataframe tbody tr th:only-of-type {\n",
       "        vertical-align: middle;\n",
       "    }\n",
       "\n",
       "    .dataframe tbody tr th {\n",
       "        vertical-align: top;\n",
       "    }\n",
       "\n",
       "    .dataframe thead th {\n",
       "        text-align: right;\n",
       "    }\n",
       "</style>\n",
       "<table border=\"1\" class=\"dataframe\">\n",
       "  <thead>\n",
       "    <tr style=\"text-align: right;\">\n",
       "      <th></th>\n",
       "      <th>id</th>\n",
       "      <th>staff</th>\n",
       "      <th>department</th>\n",
       "      <th>job</th>\n",
       "      <th>salary</th>\n",
       "      <th>age</th>\n",
       "    </tr>\n",
       "  </thead>\n",
       "  <tbody>\n",
       "    <tr>\n",
       "      <th>0</th>\n",
       "      <td>M0001</td>\n",
       "      <td>Tom BLUE</td>\n",
       "      <td>HR</td>\n",
       "      <td>manager</td>\n",
       "      <td>150000</td>\n",
       "      <td>52</td>\n",
       "    </tr>\n",
       "    <tr>\n",
       "      <th>1</th>\n",
       "      <td>M0002</td>\n",
       "      <td>JOHN BLACK</td>\n",
       "      <td>IT</td>\n",
       "      <td>manager</td>\n",
       "      <td>180000</td>\n",
       "      <td>48</td>\n",
       "    </tr>\n",
       "    <tr>\n",
       "      <th>2</th>\n",
       "      <td>E0001</td>\n",
       "      <td>Micheal Brown</td>\n",
       "      <td>IT</td>\n",
       "      <td>data scientist</td>\n",
       "      <td>150000</td>\n",
       "      <td>35</td>\n",
       "    </tr>\n",
       "    <tr>\n",
       "      <th>3</th>\n",
       "      <td>E0002</td>\n",
       "      <td>jason walker</td>\n",
       "      <td>HR</td>\n",
       "      <td>recruiter</td>\n",
       "      <td>130000</td>\n",
       "      <td>38</td>\n",
       "    </tr>\n",
       "    <tr>\n",
       "      <th>4</th>\n",
       "      <td>E0003</td>\n",
       "      <td>Alex Green</td>\n",
       "      <td>IT</td>\n",
       "      <td>backend developer</td>\n",
       "      <td>110000</td>\n",
       "      <td>-</td>\n",
       "    </tr>\n",
       "    <tr>\n",
       "      <th>5</th>\n",
       "      <td>E0004</td>\n",
       "      <td>OSCAR SMİTH</td>\n",
       "      <td>IT</td>\n",
       "      <td>frontend developer</td>\n",
       "      <td>120000</td>\n",
       "      <td>32</td>\n",
       "    </tr>\n",
       "    <tr>\n",
       "      <th>6</th>\n",
       "      <td>E0005</td>\n",
       "      <td>Adrian STAR</td>\n",
       "      <td>IT</td>\n",
       "      <td>data scientist</td>\n",
       "      <td>135000</td>\n",
       "      <td>40</td>\n",
       "    </tr>\n",
       "    <tr>\n",
       "      <th>7</th>\n",
       "      <td>E0006</td>\n",
       "      <td>Albert simon</td>\n",
       "      <td>IT</td>\n",
       "      <td>data scientist</td>\n",
       "      <td>125000</td>\n",
       "      <td>35</td>\n",
       "    </tr>\n",
       "  </tbody>\n",
       "</table>\n",
       "</div>"
      ],
      "text/plain": [
       "      id          staff department                 job  salary age\n",
       "0  M0001       Tom BLUE         HR             manager  150000  52\n",
       "1  M0002     JOHN BLACK         IT             manager  180000  48\n",
       "2  E0001  Micheal Brown         IT      data scientist  150000  35\n",
       "3  E0002   jason walker         HR           recruiter  130000  38\n",
       "4  E0003     Alex Green         IT   backend developer  110000   -\n",
       "5  E0004    OSCAR SMİTH         IT  frontend developer  120000  32\n",
       "6  E0005    Adrian STAR         IT      data scientist  135000  40\n",
       "7  E0006   Albert simon         IT      data scientist  125000  35"
      ]
     },
     "execution_count": 348,
     "metadata": {},
     "output_type": "execute_result"
    }
   ],
   "source": [
    "df # \"salary\" sütunu düzgün sayısal bir ifade oldu artık"
   ]
  },
  {
   "cell_type": "code",
   "execution_count": 349,
   "metadata": {},
   "outputs": [
    {
     "data": {
      "text/plain": [
       "0    52.0\n",
       "1    48.0\n",
       "2    35.0\n",
       "3    38.0\n",
       "4     NaN\n",
       "5    32.0\n",
       "6    40.0\n",
       "7    35.0\n",
       "Name: age, dtype: float64"
      ]
     },
     "execution_count": 349,
     "metadata": {},
     "output_type": "execute_result"
    }
   ],
   "source": [
    "# Şimdi replace ile devam edelim \"age\" sütununa bakalım\n",
    "df.age.replace(\"-\",np.nan) # \"-\" yerin np.nan dedik.\n",
    "# Bunu str ile yapacak olsaydık bize hata verecekti çünkü np.nan ifadesini\n",
    "# .. string olarak isteyecekti. Alta bakalım\n",
    "# df.age.str.replace(\"-\",np.nan) # Hata\n",
    "# df.age.str.replace(\"-\",\"np.nan\") # Hata yok ama anlamsız böyle bir değişiklik"
   ]
  },
  {
   "cell_type": "code",
   "execution_count": 350,
   "metadata": {},
   "outputs": [],
   "source": [
    "# Bunu da kalıcı yapalım\n",
    "df[\"age\"] = df.age.replace(\"-\", np.nan)"
   ]
  },
  {
   "cell_type": "code",
   "execution_count": 351,
   "metadata": {},
   "outputs": [
    {
     "data": {
      "text/html": [
       "<div>\n",
       "<style scoped>\n",
       "    .dataframe tbody tr th:only-of-type {\n",
       "        vertical-align: middle;\n",
       "    }\n",
       "\n",
       "    .dataframe tbody tr th {\n",
       "        vertical-align: top;\n",
       "    }\n",
       "\n",
       "    .dataframe thead th {\n",
       "        text-align: right;\n",
       "    }\n",
       "</style>\n",
       "<table border=\"1\" class=\"dataframe\">\n",
       "  <thead>\n",
       "    <tr style=\"text-align: right;\">\n",
       "      <th></th>\n",
       "      <th>id</th>\n",
       "      <th>staff</th>\n",
       "      <th>department</th>\n",
       "      <th>job</th>\n",
       "      <th>salary</th>\n",
       "      <th>age</th>\n",
       "    </tr>\n",
       "  </thead>\n",
       "  <tbody>\n",
       "    <tr>\n",
       "      <th>0</th>\n",
       "      <td>M0001</td>\n",
       "      <td>Tom BLUE</td>\n",
       "      <td>HR</td>\n",
       "      <td>manager</td>\n",
       "      <td>150000</td>\n",
       "      <td>52.0</td>\n",
       "    </tr>\n",
       "    <tr>\n",
       "      <th>1</th>\n",
       "      <td>M0002</td>\n",
       "      <td>JOHN BLACK</td>\n",
       "      <td>IT</td>\n",
       "      <td>manager</td>\n",
       "      <td>180000</td>\n",
       "      <td>48.0</td>\n",
       "    </tr>\n",
       "    <tr>\n",
       "      <th>2</th>\n",
       "      <td>E0001</td>\n",
       "      <td>Micheal Brown</td>\n",
       "      <td>IT</td>\n",
       "      <td>data scientist</td>\n",
       "      <td>150000</td>\n",
       "      <td>35.0</td>\n",
       "    </tr>\n",
       "    <tr>\n",
       "      <th>3</th>\n",
       "      <td>E0002</td>\n",
       "      <td>jason walker</td>\n",
       "      <td>HR</td>\n",
       "      <td>recruiter</td>\n",
       "      <td>130000</td>\n",
       "      <td>38.0</td>\n",
       "    </tr>\n",
       "    <tr>\n",
       "      <th>4</th>\n",
       "      <td>E0003</td>\n",
       "      <td>Alex Green</td>\n",
       "      <td>IT</td>\n",
       "      <td>backend developer</td>\n",
       "      <td>110000</td>\n",
       "      <td>NaN</td>\n",
       "    </tr>\n",
       "    <tr>\n",
       "      <th>5</th>\n",
       "      <td>E0004</td>\n",
       "      <td>OSCAR SMİTH</td>\n",
       "      <td>IT</td>\n",
       "      <td>frontend developer</td>\n",
       "      <td>120000</td>\n",
       "      <td>32.0</td>\n",
       "    </tr>\n",
       "    <tr>\n",
       "      <th>6</th>\n",
       "      <td>E0005</td>\n",
       "      <td>Adrian STAR</td>\n",
       "      <td>IT</td>\n",
       "      <td>data scientist</td>\n",
       "      <td>135000</td>\n",
       "      <td>40.0</td>\n",
       "    </tr>\n",
       "    <tr>\n",
       "      <th>7</th>\n",
       "      <td>E0006</td>\n",
       "      <td>Albert simon</td>\n",
       "      <td>IT</td>\n",
       "      <td>data scientist</td>\n",
       "      <td>125000</td>\n",
       "      <td>35.0</td>\n",
       "    </tr>\n",
       "  </tbody>\n",
       "</table>\n",
       "</div>"
      ],
      "text/plain": [
       "      id          staff department                 job  salary   age\n",
       "0  M0001       Tom BLUE         HR             manager  150000  52.0\n",
       "1  M0002     JOHN BLACK         IT             manager  180000  48.0\n",
       "2  E0001  Micheal Brown         IT      data scientist  150000  35.0\n",
       "3  E0002   jason walker         HR           recruiter  130000  38.0\n",
       "4  E0003     Alex Green         IT   backend developer  110000   NaN\n",
       "5  E0004    OSCAR SMİTH         IT  frontend developer  120000  32.0\n",
       "6  E0005    Adrian STAR         IT      data scientist  135000  40.0\n",
       "7  E0006   Albert simon         IT      data scientist  125000  35.0"
      ]
     },
     "execution_count": 351,
     "metadata": {},
     "output_type": "execute_result"
    }
   ],
   "source": [
    "df"
   ]
  },
  {
   "cell_type": "markdown",
   "metadata": {
    "id": "9na0FTcNAgbO"
   },
   "source": [
    "### ``str.replace()`` vs **``.replace()``\n",
    "\n",
    "- **Purpose:** Use **str.replace** for substring replacements on a single string column, and **replace** for any general replacement on one or more columns.\n",
    "\n",
    "- **Usage:** **str.replace** can replace one thing at a time. **replace** lets you perform multiple independent replacements, i.e., replace many things at once.\n",
    "\n",
    "- **Default behavior:** **str.replace** enables regex replacement by default. **replace** only performs a full match unless the regex=True switch is used."
   ]
  },
  {
   "cell_type": "markdown",
   "metadata": {},
   "source": [
    "**Indexing with .str[]** \n",
    "\n",
    "You can use [] notation to directly index by position locations [SOURCE](https://pandas.pydata.org/pandas-docs/version/0.15/text.html). "
   ]
  },
  {
   "cell_type": "code",
   "execution_count": 352,
   "metadata": {},
   "outputs": [
    {
     "data": {
      "text/plain": [
       "0         Tom Blue\n",
       "1       John Black\n",
       "2    Micheal Brown\n",
       "3     Jason Walker\n",
       "4       Alex Green\n",
       "5     Oscar Smi̇th\n",
       "6      Adrian Star\n",
       "7     Albert Simon\n",
       "Name: staff, dtype: object"
      ]
     },
     "execution_count": 352,
     "metadata": {},
     "output_type": "execute_result"
    }
   ],
   "source": [
    "df.staff.str.title() # isimlerimi düzeltmesi için title uyguladık"
   ]
  },
  {
   "cell_type": "code",
   "execution_count": 353,
   "metadata": {},
   "outputs": [
    {
     "data": {
      "text/plain": [
       "0         [Tom, Blue]\n",
       "1       [John, Black]\n",
       "2    [Micheal, Brown]\n",
       "3     [Jason, Walker]\n",
       "4       [Alex, Green]\n",
       "5     [Oscar, Smi̇th]\n",
       "6      [Adrian, Star]\n",
       "7     [Albert, Simon]\n",
       "Name: staff, dtype: object"
      ]
     },
     "execution_count": 353,
     "metadata": {},
     "output_type": "execute_result"
    }
   ],
   "source": [
    "df.staff.str.title().str.split() # Otomatik olarak boşluklardan böldü.\n",
    "# Boşluklara göre 2 kelimeden oluşan isimleri liste içerisine aldık.\n",
    "# Diğer bir şekilde bunları;"
   ]
  },
  {
   "cell_type": "code",
   "execution_count": 354,
   "metadata": {},
   "outputs": [
    {
     "data": {
      "text/plain": [
       "0        Tom\n",
       "1       John\n",
       "2    Micheal\n",
       "3      Jason\n",
       "4       Alex\n",
       "5      Oscar\n",
       "6     Adrian\n",
       "7     Albert\n",
       "Name: staff, dtype: object"
      ]
     },
     "execution_count": 354,
     "metadata": {},
     "output_type": "execute_result"
    }
   ],
   "source": [
    "df.staff.str.title().str.split().str[0] # .. ve str[1] yaparak ayrı sütunlara\n",
    "# .. eşitleyerekte yapabilirim."
   ]
  },
  {
   "cell_type": "code",
   "execution_count": 355,
   "metadata": {},
   "outputs": [
    {
     "data": {
      "text/html": [
       "<div>\n",
       "<style scoped>\n",
       "    .dataframe tbody tr th:only-of-type {\n",
       "        vertical-align: middle;\n",
       "    }\n",
       "\n",
       "    .dataframe tbody tr th {\n",
       "        vertical-align: top;\n",
       "    }\n",
       "\n",
       "    .dataframe thead th {\n",
       "        text-align: right;\n",
       "    }\n",
       "</style>\n",
       "<table border=\"1\" class=\"dataframe\">\n",
       "  <thead>\n",
       "    <tr style=\"text-align: right;\">\n",
       "      <th></th>\n",
       "      <th>id</th>\n",
       "      <th>department</th>\n",
       "      <th>job</th>\n",
       "      <th>salary</th>\n",
       "      <th>age</th>\n",
       "      <th>first_name</th>\n",
       "      <th>last_name</th>\n",
       "    </tr>\n",
       "  </thead>\n",
       "  <tbody>\n",
       "    <tr>\n",
       "      <th>0</th>\n",
       "      <td>M0001</td>\n",
       "      <td>HR</td>\n",
       "      <td>manager</td>\n",
       "      <td>150000</td>\n",
       "      <td>52.0</td>\n",
       "      <td>Tom</td>\n",
       "      <td>Blue</td>\n",
       "    </tr>\n",
       "    <tr>\n",
       "      <th>1</th>\n",
       "      <td>M0002</td>\n",
       "      <td>IT</td>\n",
       "      <td>manager</td>\n",
       "      <td>180000</td>\n",
       "      <td>48.0</td>\n",
       "      <td>John</td>\n",
       "      <td>Black</td>\n",
       "    </tr>\n",
       "    <tr>\n",
       "      <th>2</th>\n",
       "      <td>E0001</td>\n",
       "      <td>IT</td>\n",
       "      <td>data scientist</td>\n",
       "      <td>150000</td>\n",
       "      <td>35.0</td>\n",
       "      <td>Micheal</td>\n",
       "      <td>Brown</td>\n",
       "    </tr>\n",
       "    <tr>\n",
       "      <th>3</th>\n",
       "      <td>E0002</td>\n",
       "      <td>HR</td>\n",
       "      <td>recruiter</td>\n",
       "      <td>130000</td>\n",
       "      <td>38.0</td>\n",
       "      <td>Jason</td>\n",
       "      <td>Walker</td>\n",
       "    </tr>\n",
       "    <tr>\n",
       "      <th>4</th>\n",
       "      <td>E0003</td>\n",
       "      <td>IT</td>\n",
       "      <td>backend developer</td>\n",
       "      <td>110000</td>\n",
       "      <td>NaN</td>\n",
       "      <td>Alex</td>\n",
       "      <td>Green</td>\n",
       "    </tr>\n",
       "    <tr>\n",
       "      <th>5</th>\n",
       "      <td>E0004</td>\n",
       "      <td>IT</td>\n",
       "      <td>frontend developer</td>\n",
       "      <td>120000</td>\n",
       "      <td>32.0</td>\n",
       "      <td>Oscar</td>\n",
       "      <td>Smi̇th</td>\n",
       "    </tr>\n",
       "    <tr>\n",
       "      <th>6</th>\n",
       "      <td>E0005</td>\n",
       "      <td>IT</td>\n",
       "      <td>data scientist</td>\n",
       "      <td>135000</td>\n",
       "      <td>40.0</td>\n",
       "      <td>Adrian</td>\n",
       "      <td>Star</td>\n",
       "    </tr>\n",
       "    <tr>\n",
       "      <th>7</th>\n",
       "      <td>E0006</td>\n",
       "      <td>IT</td>\n",
       "      <td>data scientist</td>\n",
       "      <td>125000</td>\n",
       "      <td>35.0</td>\n",
       "      <td>Albert</td>\n",
       "      <td>Simon</td>\n",
       "    </tr>\n",
       "  </tbody>\n",
       "</table>\n",
       "</div>"
      ],
      "text/plain": [
       "      id department                 job  salary   age first_name last_name\n",
       "0  M0001         HR             manager  150000  52.0        Tom      Blue\n",
       "1  M0002         IT             manager  180000  48.0       John     Black\n",
       "2  E0001         IT      data scientist  150000  35.0    Micheal     Brown\n",
       "3  E0002         HR           recruiter  130000  38.0      Jason    Walker\n",
       "4  E0003         IT   backend developer  110000   NaN       Alex     Green\n",
       "5  E0004         IT  frontend developer  120000  32.0      Oscar    Smi̇th\n",
       "6  E0005         IT      data scientist  135000  40.0     Adrian      Star\n",
       "7  E0006         IT      data scientist  125000  35.0     Albert     Simon"
      ]
     },
     "execution_count": 355,
     "metadata": {},
     "output_type": "execute_result"
    }
   ],
   "source": [
    "df[\"first_name\"] = df.staff.str.title().str.split().str[0]\n",
    "df[\"last_name\"] = df.staff.str.title().str.split().str[1]\n",
    "df.drop(\"staff\", axis=1, inplace=True)\n",
    "df"
   ]
  },
  {
   "cell_type": "markdown",
   "metadata": {},
   "source": [
    "**str.find** returns lowest indexes in each strings in the Series/Index. Each of returned indexes corresponds to the position where the substring is fully contained between [start:end]. Return -1 on failure. Equivalent to standard str.find().\n",
    "\n",
    "**str.rfind** returns highest indexes in each strings in the Series/Index. Each of returned indexes corresponds to the position where the substring is fully contained between [start:end]. Return -1 on failure. Equivalent to standard str.rfind()."
   ]
  },
  {
   "cell_type": "code",
   "execution_count": 356,
   "metadata": {},
   "outputs": [
    {
     "data": {
      "text/plain": [
       "0   -1\n",
       "1   -1\n",
       "2   -1\n",
       "3   -1\n",
       "4    8\n",
       "5    9\n",
       "6   -1\n",
       "7   -1\n",
       "Name: job, dtype: int64"
      ]
     },
     "execution_count": 356,
     "metadata": {},
     "output_type": "execute_result"
    }
   ],
   "source": [
    "df.job.str.find(\"developer\") # -1 olanlar \"developer\" geçmeyenler"
   ]
  },
  {
   "cell_type": "markdown",
   "metadata": {},
   "source": [
    "**str.findall** finds all occurrences of pattern or regular expression in the Series/Index [SOURCE](https://pandas.pydata.org/docs/reference/api/pandas.Series.str.findall.html)."
   ]
  },
  {
   "cell_type": "code",
   "execution_count": 357,
   "metadata": {},
   "outputs": [
    {
     "data": {
      "text/plain": [
       "0             []\n",
       "1             []\n",
       "2             []\n",
       "3             []\n",
       "4    [developer]\n",
       "5    [developer]\n",
       "6             []\n",
       "7             []\n",
       "Name: job, dtype: object"
      ]
     },
     "execution_count": 357,
     "metadata": {},
     "output_type": "execute_result"
    }
   ],
   "source": [
    "df.job.str.findall(\"developer\") # \"developer\" varsa o satırda o ifadeden kaç\n",
    "# .. tane varsa getirir. Örneğin;\n",
    "# df.job.str.findall(\"d\")\n",
    "# NOT: find ve findall çok kullanılmıyor"
   ]
  },
  {
   "cell_type": "code",
   "execution_count": 358,
   "metadata": {},
   "outputs": [
    {
     "data": {
      "text/plain": [
       "0    0\n",
       "1    0\n",
       "2    0\n",
       "3    0\n",
       "4    1\n",
       "5    1\n",
       "6    0\n",
       "7    0\n",
       "Name: job, dtype: int64"
      ]
     },
     "execution_count": 358,
     "metadata": {},
     "output_type": "execute_result"
    }
   ],
   "source": [
    "df.job.str.findall(\"developer\").apply(len) \n",
    "# O ifadeden kaç adet olduğunu gösterir"
   ]
  },
  {
   "cell_type": "code",
   "execution_count": 359,
   "metadata": {},
   "outputs": [
    {
     "data": {
      "text/html": [
       "<div>\n",
       "<style scoped>\n",
       "    .dataframe tbody tr th:only-of-type {\n",
       "        vertical-align: middle;\n",
       "    }\n",
       "\n",
       "    .dataframe tbody tr th {\n",
       "        vertical-align: top;\n",
       "    }\n",
       "\n",
       "    .dataframe thead th {\n",
       "        text-align: right;\n",
       "    }\n",
       "</style>\n",
       "<table border=\"1\" class=\"dataframe\">\n",
       "  <thead>\n",
       "    <tr style=\"text-align: right;\">\n",
       "      <th></th>\n",
       "      <th>id</th>\n",
       "      <th>department</th>\n",
       "      <th>job</th>\n",
       "      <th>salary</th>\n",
       "      <th>age</th>\n",
       "      <th>first_name</th>\n",
       "      <th>last_name</th>\n",
       "      <th>skills</th>\n",
       "      <th>Skills</th>\n",
       "    </tr>\n",
       "  </thead>\n",
       "  <tbody>\n",
       "    <tr>\n",
       "      <th>0</th>\n",
       "      <td>M0001</td>\n",
       "      <td>HR</td>\n",
       "      <td>manager</td>\n",
       "      <td>150000</td>\n",
       "      <td>52.0</td>\n",
       "      <td>Tom</td>\n",
       "      <td>Blue</td>\n",
       "      <td>[]</td>\n",
       "      <td>[]</td>\n",
       "    </tr>\n",
       "    <tr>\n",
       "      <th>1</th>\n",
       "      <td>M0002</td>\n",
       "      <td>IT</td>\n",
       "      <td>manager</td>\n",
       "      <td>180000</td>\n",
       "      <td>48.0</td>\n",
       "      <td>John</td>\n",
       "      <td>Black</td>\n",
       "      <td>[Java, C++]</td>\n",
       "      <td>Java,C++</td>\n",
       "    </tr>\n",
       "    <tr>\n",
       "      <th>2</th>\n",
       "      <td>E0001</td>\n",
       "      <td>IT</td>\n",
       "      <td>data scientist</td>\n",
       "      <td>150000</td>\n",
       "      <td>35.0</td>\n",
       "      <td>Micheal</td>\n",
       "      <td>Brown</td>\n",
       "      <td>[Python, Tableau, SQL]</td>\n",
       "      <td>[Python, Tableau, SQL]</td>\n",
       "    </tr>\n",
       "    <tr>\n",
       "      <th>3</th>\n",
       "      <td>E0002</td>\n",
       "      <td>HR</td>\n",
       "      <td>recruiter</td>\n",
       "      <td>130000</td>\n",
       "      <td>38.0</td>\n",
       "      <td>Jason</td>\n",
       "      <td>Walker</td>\n",
       "      <td>[]</td>\n",
       "      <td>[]</td>\n",
       "    </tr>\n",
       "    <tr>\n",
       "      <th>4</th>\n",
       "      <td>E0003</td>\n",
       "      <td>IT</td>\n",
       "      <td>backend developer</td>\n",
       "      <td>110000</td>\n",
       "      <td>NaN</td>\n",
       "      <td>Alex</td>\n",
       "      <td>Green</td>\n",
       "      <td>[React, Django]</td>\n",
       "      <td>[React, Django]</td>\n",
       "    </tr>\n",
       "    <tr>\n",
       "      <th>5</th>\n",
       "      <td>E0004</td>\n",
       "      <td>IT</td>\n",
       "      <td>frontend developer</td>\n",
       "      <td>120000</td>\n",
       "      <td>32.0</td>\n",
       "      <td>Oscar</td>\n",
       "      <td>Smi̇th</td>\n",
       "      <td>[JavaScript, Python]</td>\n",
       "      <td>[JavaScript, Python]</td>\n",
       "    </tr>\n",
       "    <tr>\n",
       "      <th>6</th>\n",
       "      <td>E0005</td>\n",
       "      <td>IT</td>\n",
       "      <td>data scientist</td>\n",
       "      <td>135000</td>\n",
       "      <td>40.0</td>\n",
       "      <td>Adrian</td>\n",
       "      <td>Star</td>\n",
       "      <td>[R, SQL]</td>\n",
       "      <td>[R, SQL]</td>\n",
       "    </tr>\n",
       "    <tr>\n",
       "      <th>7</th>\n",
       "      <td>E0006</td>\n",
       "      <td>IT</td>\n",
       "      <td>data scientist</td>\n",
       "      <td>125000</td>\n",
       "      <td>35.0</td>\n",
       "      <td>Albert</td>\n",
       "      <td>Simon</td>\n",
       "      <td>[SQL, Python]</td>\n",
       "      <td>[SQL, Python]</td>\n",
       "    </tr>\n",
       "  </tbody>\n",
       "</table>\n",
       "</div>"
      ],
      "text/plain": [
       "      id department                 job  salary   age first_name last_name  \\\n",
       "0  M0001         HR             manager  150000  52.0        Tom      Blue   \n",
       "1  M0002         IT             manager  180000  48.0       John     Black   \n",
       "2  E0001         IT      data scientist  150000  35.0    Micheal     Brown   \n",
       "3  E0002         HR           recruiter  130000  38.0      Jason    Walker   \n",
       "4  E0003         IT   backend developer  110000   NaN       Alex     Green   \n",
       "5  E0004         IT  frontend developer  120000  32.0      Oscar    Smi̇th   \n",
       "6  E0005         IT      data scientist  135000  40.0     Adrian      Star   \n",
       "7  E0006         IT      data scientist  125000  35.0     Albert     Simon   \n",
       "\n",
       "                   skills                  Skills  \n",
       "0                      []                      []  \n",
       "1             [Java, C++]                Java,C++  \n",
       "2  [Python, Tableau, SQL]  [Python, Tableau, SQL]  \n",
       "3                      []                      []  \n",
       "4         [React, Django]         [React, Django]  \n",
       "5    [JavaScript, Python]    [JavaScript, Python]  \n",
       "6                [R, SQL]                [R, SQL]  \n",
       "7           [SQL, Python]           [SQL, Python]  "
      ]
     },
     "execution_count": 359,
     "metadata": {},
     "output_type": "execute_result"
    }
   ],
   "source": [
    "# Şimdi df e 2 tane sütun ekleyelim\n",
    "df[\"skills\"] = [[],[\"Java\",\"C++\"],[\"Python\",\"Tableau\",\"SQL\"],[],[\"React\",\"Django\"],[\"JavaScript\",\"Python\"],[\"R\",\"SQL\"],[\"SQL\",\"Python\"]]\n",
    "df[\"Skills\"] = [[],[],[\"Python\",\"Tableau\",\"SQL\"],[],[\"React\",\"Django\"],[\"JavaScript\",\"Python\"],[\"R\",\"SQL\"],[\"SQL\",\"Python\"]]\n",
    "df.loc[1, \"Skills\"] = \"Java,C++\"\n",
    "df\n",
    "# İkisi arasındaki fark mesela 1. indexte \"Java, C++\" liste içinde diğeri değil"
   ]
  },
  {
   "cell_type": "markdown",
   "metadata": {},
   "source": [
    "If the elements of a Series are lists themselves, join the content of these lists using the delimiter passed to the function. This function is an equivalent to str.join() [SOURCE](https://pandas.pydata.org/docs/reference/api/pandas.Series.str.join.html).\n",
    "\n",
    "**Join** lists contained as elements in the Series/Index with passed delimiter."
   ]
  },
  {
   "cell_type": "code",
   "execution_count": 360,
   "metadata": {},
   "outputs": [
    {
     "data": {
      "text/plain": [
       "0                      \n",
       "1              Java,C++\n",
       "2    Python,Tableau,SQL\n",
       "3                      \n",
       "4          React,Django\n",
       "5     JavaScript,Python\n",
       "6                 R,SQL\n",
       "7            SQL,Python\n",
       "Name: skills, dtype: object"
      ]
     },
     "execution_count": 360,
     "metadata": {},
     "output_type": "execute_result"
    }
   ],
   "source": [
    "df.skills.str.join(\",\") # Liste içerisinde gördüğü elemanları virgül ile\n",
    "# ..birleştir ve tek bir string haline getir\n",
    "# df.skills.str.join(\"-\")\n",
    "# Not. Buradaki join pandas ın join metodu"
   ]
  },
  {
   "cell_type": "code",
   "execution_count": 361,
   "metadata": {},
   "outputs": [
    {
     "data": {
      "text/plain": [
       "0                      \n",
       "1       J,a,v,a,,,C,+,+\n",
       "2    Python,Tableau,SQL\n",
       "3                      \n",
       "4          React,Django\n",
       "5     JavaScript,Python\n",
       "6                 R,SQL\n",
       "7            SQL,Python\n",
       "Name: Skills, dtype: object"
      ]
     },
     "execution_count": 361,
     "metadata": {},
     "output_type": "execute_result"
    }
   ],
   "source": [
    "# Bunun aynısını diğer sütuna yapayım\n",
    "df.Skills.str.join(\",\") # Bu sefer 1. indexteki her bir ifade arasına virgül\n",
    "# .. koydu. Peki bunu nasıl çözeceğiz. Ya bu liste içinde mi değil mi diye\n",
    "# .. tek tek bakmak yerine;"
   ]
  },
  {
   "cell_type": "code",
   "execution_count": 363,
   "metadata": {},
   "outputs": [
    {
     "data": {
      "text/plain": [
       "0                      \n",
       "1              Java,C++\n",
       "2    Python,Tableau,SQL\n",
       "3                      \n",
       "4          React,Django\n",
       "5     JavaScript,Python\n",
       "6                 R,SQL\n",
       "7            SQL,Python\n",
       "Name: Skills, dtype: object"
      ]
     },
     "execution_count": 363,
     "metadata": {},
     "output_type": "execute_result"
    }
   ],
   "source": [
    "df.Skills.apply(lambda x: \",\".join(x) if type(x) == list else x) \n",
    "# Her bir satırın dtype i liste mi değil mi diye\n",
    "# .. kontrol ediyorum önce lambda daki fonksiyon ile if type(x)=list ise\n",
    "# virgül(,) ile birleştir ve joinle. liste değilse x i döndür.\n",
    "# NOT: Buradaki built in join üstteki join pandas ın join metoduydu"
   ]
  },
  {
   "cell_type": "code",
   "execution_count": 364,
   "metadata": {},
   "outputs": [
    {
     "data": {
      "text/plain": [
       "['',\n",
       " 'Java,C++',\n",
       " 'Python,Tableau,SQL',\n",
       " '',\n",
       " 'React,Django',\n",
       " 'JavaScript,Python',\n",
       " 'R,SQL',\n",
       " 'SQL,Python']"
      ]
     },
     "execution_count": 364,
     "metadata": {},
     "output_type": "execute_result"
    }
   ],
   "source": [
    "# Bunu list comprehension ile yapmak istersek, döngü için \"for\" kullanmalıyız\n",
    "[\",\".join(x) if type(x) == list else x for x in df.Skills]"
   ]
  },
  {
   "cell_type": "code",
   "execution_count": 365,
   "metadata": {},
   "outputs": [],
   "source": [
    "# Kalıcı yapalım\n",
    "df[\"Skills\"]= [\",\".join(x) if type(x) == list else x for x in df.Skills]"
   ]
  },
  {
   "cell_type": "code",
   "execution_count": 366,
   "metadata": {},
   "outputs": [
    {
     "data": {
      "text/html": [
       "<div>\n",
       "<style scoped>\n",
       "    .dataframe tbody tr th:only-of-type {\n",
       "        vertical-align: middle;\n",
       "    }\n",
       "\n",
       "    .dataframe tbody tr th {\n",
       "        vertical-align: top;\n",
       "    }\n",
       "\n",
       "    .dataframe thead th {\n",
       "        text-align: right;\n",
       "    }\n",
       "</style>\n",
       "<table border=\"1\" class=\"dataframe\">\n",
       "  <thead>\n",
       "    <tr style=\"text-align: right;\">\n",
       "      <th></th>\n",
       "      <th>id</th>\n",
       "      <th>department</th>\n",
       "      <th>job</th>\n",
       "      <th>salary</th>\n",
       "      <th>age</th>\n",
       "      <th>first_name</th>\n",
       "      <th>last_name</th>\n",
       "      <th>skills</th>\n",
       "      <th>Skills</th>\n",
       "    </tr>\n",
       "  </thead>\n",
       "  <tbody>\n",
       "    <tr>\n",
       "      <th>0</th>\n",
       "      <td>M0001</td>\n",
       "      <td>HR</td>\n",
       "      <td>manager</td>\n",
       "      <td>150000</td>\n",
       "      <td>52.0</td>\n",
       "      <td>Tom</td>\n",
       "      <td>Blue</td>\n",
       "      <td>[]</td>\n",
       "      <td></td>\n",
       "    </tr>\n",
       "    <tr>\n",
       "      <th>1</th>\n",
       "      <td>M0002</td>\n",
       "      <td>IT</td>\n",
       "      <td>manager</td>\n",
       "      <td>180000</td>\n",
       "      <td>48.0</td>\n",
       "      <td>John</td>\n",
       "      <td>Black</td>\n",
       "      <td>[Java, C++]</td>\n",
       "      <td>Java,C++</td>\n",
       "    </tr>\n",
       "    <tr>\n",
       "      <th>2</th>\n",
       "      <td>E0001</td>\n",
       "      <td>IT</td>\n",
       "      <td>data scientist</td>\n",
       "      <td>150000</td>\n",
       "      <td>35.0</td>\n",
       "      <td>Micheal</td>\n",
       "      <td>Brown</td>\n",
       "      <td>[Python, Tableau, SQL]</td>\n",
       "      <td>Python,Tableau,SQL</td>\n",
       "    </tr>\n",
       "    <tr>\n",
       "      <th>3</th>\n",
       "      <td>E0002</td>\n",
       "      <td>HR</td>\n",
       "      <td>recruiter</td>\n",
       "      <td>130000</td>\n",
       "      <td>38.0</td>\n",
       "      <td>Jason</td>\n",
       "      <td>Walker</td>\n",
       "      <td>[]</td>\n",
       "      <td></td>\n",
       "    </tr>\n",
       "    <tr>\n",
       "      <th>4</th>\n",
       "      <td>E0003</td>\n",
       "      <td>IT</td>\n",
       "      <td>backend developer</td>\n",
       "      <td>110000</td>\n",
       "      <td>NaN</td>\n",
       "      <td>Alex</td>\n",
       "      <td>Green</td>\n",
       "      <td>[React, Django]</td>\n",
       "      <td>React,Django</td>\n",
       "    </tr>\n",
       "    <tr>\n",
       "      <th>5</th>\n",
       "      <td>E0004</td>\n",
       "      <td>IT</td>\n",
       "      <td>frontend developer</td>\n",
       "      <td>120000</td>\n",
       "      <td>32.0</td>\n",
       "      <td>Oscar</td>\n",
       "      <td>Smi̇th</td>\n",
       "      <td>[JavaScript, Python]</td>\n",
       "      <td>JavaScript,Python</td>\n",
       "    </tr>\n",
       "    <tr>\n",
       "      <th>6</th>\n",
       "      <td>E0005</td>\n",
       "      <td>IT</td>\n",
       "      <td>data scientist</td>\n",
       "      <td>135000</td>\n",
       "      <td>40.0</td>\n",
       "      <td>Adrian</td>\n",
       "      <td>Star</td>\n",
       "      <td>[R, SQL]</td>\n",
       "      <td>R,SQL</td>\n",
       "    </tr>\n",
       "    <tr>\n",
       "      <th>7</th>\n",
       "      <td>E0006</td>\n",
       "      <td>IT</td>\n",
       "      <td>data scientist</td>\n",
       "      <td>125000</td>\n",
       "      <td>35.0</td>\n",
       "      <td>Albert</td>\n",
       "      <td>Simon</td>\n",
       "      <td>[SQL, Python]</td>\n",
       "      <td>SQL,Python</td>\n",
       "    </tr>\n",
       "  </tbody>\n",
       "</table>\n",
       "</div>"
      ],
      "text/plain": [
       "      id department                 job  salary   age first_name last_name  \\\n",
       "0  M0001         HR             manager  150000  52.0        Tom      Blue   \n",
       "1  M0002         IT             manager  180000  48.0       John     Black   \n",
       "2  E0001         IT      data scientist  150000  35.0    Micheal     Brown   \n",
       "3  E0002         HR           recruiter  130000  38.0      Jason    Walker   \n",
       "4  E0003         IT   backend developer  110000   NaN       Alex     Green   \n",
       "5  E0004         IT  frontend developer  120000  32.0      Oscar    Smi̇th   \n",
       "6  E0005         IT      data scientist  135000  40.0     Adrian      Star   \n",
       "7  E0006         IT      data scientist  125000  35.0     Albert     Simon   \n",
       "\n",
       "                   skills              Skills  \n",
       "0                      []                      \n",
       "1             [Java, C++]            Java,C++  \n",
       "2  [Python, Tableau, SQL]  Python,Tableau,SQL  \n",
       "3                      []                      \n",
       "4         [React, Django]        React,Django  \n",
       "5    [JavaScript, Python]   JavaScript,Python  \n",
       "6                [R, SQL]               R,SQL  \n",
       "7           [SQL, Python]          SQL,Python  "
      ]
     },
     "execution_count": 366,
     "metadata": {},
     "output_type": "execute_result"
    }
   ],
   "source": [
    "df"
   ]
  },
  {
   "cell_type": "markdown",
   "metadata": {
    "id": "S32AF3pOAgbW"
   },
   "source": [
    "### <p style=\"background-color:#9d4f8c; font-family:newtimeroman; color:#FFF9ED; font-size:150%; text-align:LEFT; border-radius:10px 10px;\">Dummy Operations</p>\n",
    "\n",
    "<a id=\"1.3\"></a>\n",
    "<a href=\"#toc\" class=\"btn btn-primary btn-sm\" role=\"button\" aria-pressed=\"true\" \n",
    "style=\"color:blue; background-color:#dfa8e4\" data-toggle=\"popover\">Content</a>\n",
    "\n",
    "A dataset may contain various type of values, sometimes it consists of categorical values. So, in-order to use those categorical value for programming efficiently we create dummy variables. A dummy variable is a binary variable that indicates whether a separate categorical variable takes on a specific value [SOURCE](https://www.geeksforgeeks.org/how-to-create-dummy-variables-in-python-with-pandas/).\n",
    "\n",
    "### get_dummies()\n",
    "\n",
    "**Syntax1:** ``pd.get_dummies(data, prefix=None, prefix_sep=\"_\",)``<br>\n",
    "            **OR**<br>\n",
    "**Syntax2:** ``df[\"col_name\"].get_dummies(sep = \",\")``\n",
    "\n",
    "**Parameters:**\n",
    "- data= input data i.e. it includes pandas data frame. list . set . numpy arrays etc.\n",
    "- prefix= Initial value\n",
    "- prefix_sep= Data values separation.\n",
    "- Return Type: Dummy variables."
   ]
  },
  {
   "cell_type": "code",
   "execution_count": null,
   "metadata": {},
   "outputs": [],
   "source": [
    "# Bir datasetini modele sokmadan önce değerlerimizin hepsi nümerik olmalı\n",
    "# .. Yani label encoding ve one-hot encoding yaparak kategorik sütunları\n",
    "# .. nümeric sütunlara çevirebiliyoruz.\n",
    "\"\"\"\n",
    "Series.str.get_dummies(sep= \"|\")\n",
    "pd.Series(['p|q','p','p|r']).str.get_dummies()\n",
    "    p  q  r\n",
    "0   1  1  0\n",
    "1   1  0  0\n",
    "2   1  0  1\n",
    "\"\"\"\n",
    "\"\"\"\n",
    "pd.get_dummies(arraylike)\n",
    "pd.get_dummies(Series)\n",
    "pd.get_dummies(DataFrames)\n",
    "\n",
    "Color \n",
    "                          Red Green Yellow \n",
    "Red                   0    1    0      0\n",
    "Red                   1    1    0      0\n",
    "Yellow                2    0    1      0\n",
    "Green                 3    0    0      1\n",
    "Yellow\n",
    "\"\"\""
   ]
  },
  {
   "cell_type": "code",
   "execution_count": 369,
   "metadata": {},
   "outputs": [
    {
     "data": {
      "text/plain": [
       "0    HR\n",
       "1    IT\n",
       "2    IT\n",
       "3    HR\n",
       "4    IT\n",
       "5    IT\n",
       "6    IT\n",
       "7    IT\n",
       "Name: department, dtype: object"
      ]
     },
     "execution_count": 369,
     "metadata": {},
     "output_type": "execute_result"
    }
   ],
   "source": [
    "df.department # Nominal olduğu için get_dummies uygulayabilirim"
   ]
  },
  {
   "cell_type": "code",
   "execution_count": 370,
   "metadata": {},
   "outputs": [
    {
     "data": {
      "text/html": [
       "<div>\n",
       "<style scoped>\n",
       "    .dataframe tbody tr th:only-of-type {\n",
       "        vertical-align: middle;\n",
       "    }\n",
       "\n",
       "    .dataframe tbody tr th {\n",
       "        vertical-align: top;\n",
       "    }\n",
       "\n",
       "    .dataframe thead th {\n",
       "        text-align: right;\n",
       "    }\n",
       "</style>\n",
       "<table border=\"1\" class=\"dataframe\">\n",
       "  <thead>\n",
       "    <tr style=\"text-align: right;\">\n",
       "      <th></th>\n",
       "      <th>HR</th>\n",
       "      <th>IT</th>\n",
       "    </tr>\n",
       "  </thead>\n",
       "  <tbody>\n",
       "    <tr>\n",
       "      <th>0</th>\n",
       "      <td>1</td>\n",
       "      <td>0</td>\n",
       "    </tr>\n",
       "    <tr>\n",
       "      <th>1</th>\n",
       "      <td>0</td>\n",
       "      <td>1</td>\n",
       "    </tr>\n",
       "    <tr>\n",
       "      <th>2</th>\n",
       "      <td>0</td>\n",
       "      <td>1</td>\n",
       "    </tr>\n",
       "    <tr>\n",
       "      <th>3</th>\n",
       "      <td>1</td>\n",
       "      <td>0</td>\n",
       "    </tr>\n",
       "    <tr>\n",
       "      <th>4</th>\n",
       "      <td>0</td>\n",
       "      <td>1</td>\n",
       "    </tr>\n",
       "    <tr>\n",
       "      <th>5</th>\n",
       "      <td>0</td>\n",
       "      <td>1</td>\n",
       "    </tr>\n",
       "    <tr>\n",
       "      <th>6</th>\n",
       "      <td>0</td>\n",
       "      <td>1</td>\n",
       "    </tr>\n",
       "    <tr>\n",
       "      <th>7</th>\n",
       "      <td>0</td>\n",
       "      <td>1</td>\n",
       "    </tr>\n",
       "  </tbody>\n",
       "</table>\n",
       "</div>"
      ],
      "text/plain": [
       "   HR  IT\n",
       "0   1   0\n",
       "1   0   1\n",
       "2   0   1\n",
       "3   1   0\n",
       "4   0   1\n",
       "5   0   1\n",
       "6   0   1\n",
       "7   0   1"
      ]
     },
     "execution_count": 370,
     "metadata": {},
     "output_type": "execute_result"
    }
   ],
   "source": [
    "pd.get_dummies(df.department)"
   ]
  },
  {
   "cell_type": "markdown",
   "metadata": {},
   "source": [
    "As you can see two(2) dummy variables are created for the three categorical values of the \"department\" attribute. We can create dummy variables in python using **``get_dummies()``** method."
   ]
  },
  {
   "cell_type": "markdown",
   "metadata": {},
   "source": [
    "Dummies with **``drop_first=True``** parameter can be used to drop the first column. drop_first=True is important to use, as it helps in reducing the extra column created during dummy variable creation. Hence it reduces the correlations created among dummy variables. In other words it drops the first dummy to avoid the creation of correlated features [SOURCE](https://stackoverflow.com/questions/63661560/drop-first-true-during-dummy-variable-creation-in-pandas#:~:text=1%20Answer,correlations%20created%20among%20dummy%20variables.)."
   ]
  },
  {
   "cell_type": "code",
   "execution_count": null,
   "metadata": {},
   "outputs": [],
   "source": [
    "pd.get_dummies(df.department, drop_first=True)\n",
    "# Bunu modelin biraz daha hızlı çalışması için drop_first yapmalıyız\n",
    "# Bilgi kaybı olmuyor yani sütunlardan hangisi düşerse düşsün(drop olsun)\n",
    "# .. modelin başarısı değişmez(\"RMSE\" veya \"Accuracy, Precision, Recall, F1\"))"
   ]
  },
  {
   "cell_type": "code",
   "execution_count": 371,
   "metadata": {},
   "outputs": [
    {
     "data": {
      "text/plain": [
       "0                      \n",
       "1              Java,C++\n",
       "2    Python,Tableau,SQL\n",
       "3                      \n",
       "4          React,Django\n",
       "5     JavaScript,Python\n",
       "6                 R,SQL\n",
       "7            SQL,Python\n",
       "Name: Skills, dtype: object"
      ]
     },
     "execution_count": 371,
     "metadata": {},
     "output_type": "execute_result"
    }
   ],
   "source": [
    "# Diğer sütunumuza bunu yapalım\n",
    "df.Skills # Çıktıda virgülle ayrılmış değerler var "
   ]
  },
  {
   "cell_type": "code",
   "execution_count": 372,
   "metadata": {},
   "outputs": [
    {
     "data": {
      "text/html": [
       "<div>\n",
       "<style scoped>\n",
       "    .dataframe tbody tr th:only-of-type {\n",
       "        vertical-align: middle;\n",
       "    }\n",
       "\n",
       "    .dataframe tbody tr th {\n",
       "        vertical-align: top;\n",
       "    }\n",
       "\n",
       "    .dataframe thead th {\n",
       "        text-align: right;\n",
       "    }\n",
       "</style>\n",
       "<table border=\"1\" class=\"dataframe\">\n",
       "  <thead>\n",
       "    <tr style=\"text-align: right;\">\n",
       "      <th></th>\n",
       "      <th>C++</th>\n",
       "      <th>Django</th>\n",
       "      <th>Java</th>\n",
       "      <th>JavaScript</th>\n",
       "      <th>Python</th>\n",
       "      <th>R</th>\n",
       "      <th>React</th>\n",
       "      <th>SQL</th>\n",
       "      <th>Tableau</th>\n",
       "    </tr>\n",
       "  </thead>\n",
       "  <tbody>\n",
       "    <tr>\n",
       "      <th>0</th>\n",
       "      <td>0</td>\n",
       "      <td>0</td>\n",
       "      <td>0</td>\n",
       "      <td>0</td>\n",
       "      <td>0</td>\n",
       "      <td>0</td>\n",
       "      <td>0</td>\n",
       "      <td>0</td>\n",
       "      <td>0</td>\n",
       "    </tr>\n",
       "    <tr>\n",
       "      <th>1</th>\n",
       "      <td>1</td>\n",
       "      <td>0</td>\n",
       "      <td>1</td>\n",
       "      <td>0</td>\n",
       "      <td>0</td>\n",
       "      <td>0</td>\n",
       "      <td>0</td>\n",
       "      <td>0</td>\n",
       "      <td>0</td>\n",
       "    </tr>\n",
       "    <tr>\n",
       "      <th>2</th>\n",
       "      <td>0</td>\n",
       "      <td>0</td>\n",
       "      <td>0</td>\n",
       "      <td>0</td>\n",
       "      <td>1</td>\n",
       "      <td>0</td>\n",
       "      <td>0</td>\n",
       "      <td>1</td>\n",
       "      <td>1</td>\n",
       "    </tr>\n",
       "    <tr>\n",
       "      <th>3</th>\n",
       "      <td>0</td>\n",
       "      <td>0</td>\n",
       "      <td>0</td>\n",
       "      <td>0</td>\n",
       "      <td>0</td>\n",
       "      <td>0</td>\n",
       "      <td>0</td>\n",
       "      <td>0</td>\n",
       "      <td>0</td>\n",
       "    </tr>\n",
       "    <tr>\n",
       "      <th>4</th>\n",
       "      <td>0</td>\n",
       "      <td>1</td>\n",
       "      <td>0</td>\n",
       "      <td>0</td>\n",
       "      <td>0</td>\n",
       "      <td>0</td>\n",
       "      <td>1</td>\n",
       "      <td>0</td>\n",
       "      <td>0</td>\n",
       "    </tr>\n",
       "    <tr>\n",
       "      <th>5</th>\n",
       "      <td>0</td>\n",
       "      <td>0</td>\n",
       "      <td>0</td>\n",
       "      <td>1</td>\n",
       "      <td>1</td>\n",
       "      <td>0</td>\n",
       "      <td>0</td>\n",
       "      <td>0</td>\n",
       "      <td>0</td>\n",
       "    </tr>\n",
       "    <tr>\n",
       "      <th>6</th>\n",
       "      <td>0</td>\n",
       "      <td>0</td>\n",
       "      <td>0</td>\n",
       "      <td>0</td>\n",
       "      <td>0</td>\n",
       "      <td>1</td>\n",
       "      <td>0</td>\n",
       "      <td>1</td>\n",
       "      <td>0</td>\n",
       "    </tr>\n",
       "    <tr>\n",
       "      <th>7</th>\n",
       "      <td>0</td>\n",
       "      <td>0</td>\n",
       "      <td>0</td>\n",
       "      <td>0</td>\n",
       "      <td>1</td>\n",
       "      <td>0</td>\n",
       "      <td>0</td>\n",
       "      <td>1</td>\n",
       "      <td>0</td>\n",
       "    </tr>\n",
       "  </tbody>\n",
       "</table>\n",
       "</div>"
      ],
      "text/plain": [
       "   C++  Django  Java  JavaScript  Python  R  React  SQL  Tableau\n",
       "0    0       0     0           0       0  0      0    0        0\n",
       "1    1       0     1           0       0  0      0    0        0\n",
       "2    0       0     0           0       1  0      0    1        1\n",
       "3    0       0     0           0       0  0      0    0        0\n",
       "4    0       1     0           0       0  0      1    0        0\n",
       "5    0       0     0           1       1  0      0    0        0\n",
       "6    0       0     0           0       0  1      0    1        0\n",
       "7    0       0     0           0       1  0      0    1        0"
      ]
     },
     "execution_count": 372,
     "metadata": {},
     "output_type": "execute_result"
    }
   ],
   "source": [
    "df.Skills.str.get_dummies(sep=\",\")"
   ]
  },
  {
   "cell_type": "code",
   "execution_count": 373,
   "metadata": {},
   "outputs": [
    {
     "data": {
      "text/html": [
       "<div>\n",
       "<style scoped>\n",
       "    .dataframe tbody tr th:only-of-type {\n",
       "        vertical-align: middle;\n",
       "    }\n",
       "\n",
       "    .dataframe tbody tr th {\n",
       "        vertical-align: top;\n",
       "    }\n",
       "\n",
       "    .dataframe thead th {\n",
       "        text-align: right;\n",
       "    }\n",
       "</style>\n",
       "<table border=\"1\" class=\"dataframe\">\n",
       "  <thead>\n",
       "    <tr style=\"text-align: right;\">\n",
       "      <th></th>\n",
       "      <th>Skills_C++</th>\n",
       "      <th>Skills_Django</th>\n",
       "      <th>Skills_Java</th>\n",
       "      <th>Skills_JavaScript</th>\n",
       "      <th>Skills_Python</th>\n",
       "      <th>Skills_R</th>\n",
       "      <th>Skills_React</th>\n",
       "      <th>Skills_SQL</th>\n",
       "      <th>Skills_Tableau</th>\n",
       "    </tr>\n",
       "  </thead>\n",
       "  <tbody>\n",
       "    <tr>\n",
       "      <th>0</th>\n",
       "      <td>0</td>\n",
       "      <td>0</td>\n",
       "      <td>0</td>\n",
       "      <td>0</td>\n",
       "      <td>0</td>\n",
       "      <td>0</td>\n",
       "      <td>0</td>\n",
       "      <td>0</td>\n",
       "      <td>0</td>\n",
       "    </tr>\n",
       "    <tr>\n",
       "      <th>1</th>\n",
       "      <td>1</td>\n",
       "      <td>0</td>\n",
       "      <td>1</td>\n",
       "      <td>0</td>\n",
       "      <td>0</td>\n",
       "      <td>0</td>\n",
       "      <td>0</td>\n",
       "      <td>0</td>\n",
       "      <td>0</td>\n",
       "    </tr>\n",
       "    <tr>\n",
       "      <th>2</th>\n",
       "      <td>0</td>\n",
       "      <td>0</td>\n",
       "      <td>0</td>\n",
       "      <td>0</td>\n",
       "      <td>1</td>\n",
       "      <td>0</td>\n",
       "      <td>0</td>\n",
       "      <td>1</td>\n",
       "      <td>1</td>\n",
       "    </tr>\n",
       "    <tr>\n",
       "      <th>3</th>\n",
       "      <td>0</td>\n",
       "      <td>0</td>\n",
       "      <td>0</td>\n",
       "      <td>0</td>\n",
       "      <td>0</td>\n",
       "      <td>0</td>\n",
       "      <td>0</td>\n",
       "      <td>0</td>\n",
       "      <td>0</td>\n",
       "    </tr>\n",
       "    <tr>\n",
       "      <th>4</th>\n",
       "      <td>0</td>\n",
       "      <td>1</td>\n",
       "      <td>0</td>\n",
       "      <td>0</td>\n",
       "      <td>0</td>\n",
       "      <td>0</td>\n",
       "      <td>1</td>\n",
       "      <td>0</td>\n",
       "      <td>0</td>\n",
       "    </tr>\n",
       "    <tr>\n",
       "      <th>5</th>\n",
       "      <td>0</td>\n",
       "      <td>0</td>\n",
       "      <td>0</td>\n",
       "      <td>1</td>\n",
       "      <td>1</td>\n",
       "      <td>0</td>\n",
       "      <td>0</td>\n",
       "      <td>0</td>\n",
       "      <td>0</td>\n",
       "    </tr>\n",
       "    <tr>\n",
       "      <th>6</th>\n",
       "      <td>0</td>\n",
       "      <td>0</td>\n",
       "      <td>0</td>\n",
       "      <td>0</td>\n",
       "      <td>0</td>\n",
       "      <td>1</td>\n",
       "      <td>0</td>\n",
       "      <td>1</td>\n",
       "      <td>0</td>\n",
       "    </tr>\n",
       "    <tr>\n",
       "      <th>7</th>\n",
       "      <td>0</td>\n",
       "      <td>0</td>\n",
       "      <td>0</td>\n",
       "      <td>0</td>\n",
       "      <td>1</td>\n",
       "      <td>0</td>\n",
       "      <td>0</td>\n",
       "      <td>1</td>\n",
       "      <td>0</td>\n",
       "    </tr>\n",
       "  </tbody>\n",
       "</table>\n",
       "</div>"
      ],
      "text/plain": [
       "   Skills_C++  Skills_Django  Skills_Java  Skills_JavaScript  Skills_Python  \\\n",
       "0           0              0            0                  0              0   \n",
       "1           1              0            1                  0              0   \n",
       "2           0              0            0                  0              1   \n",
       "3           0              0            0                  0              0   \n",
       "4           0              1            0                  0              0   \n",
       "5           0              0            0                  1              1   \n",
       "6           0              0            0                  0              0   \n",
       "7           0              0            0                  0              1   \n",
       "\n",
       "   Skills_R  Skills_React  Skills_SQL  Skills_Tableau  \n",
       "0         0             0           0               0  \n",
       "1         0             0           0               0  \n",
       "2         0             0           1               1  \n",
       "3         0             0           0               0  \n",
       "4         0             1           0               0  \n",
       "5         0             0           0               0  \n",
       "6         1             0           1               0  \n",
       "7         0             0           1               0  "
      ]
     },
     "execution_count": 373,
     "metadata": {},
     "output_type": "execute_result"
    }
   ],
   "source": [
    "# Birden fazla sütuna get_dummy yapmak zorunda kalırsam, add_prefix() ile\n",
    "# .. o dummy nin hangi sütundan geldiğini görebilirim\n",
    "df.Skills.str.get_dummies(sep=\",\").add_prefix(\"Skills_\")"
   ]
  },
  {
   "cell_type": "code",
   "execution_count": 374,
   "metadata": {},
   "outputs": [],
   "source": [
    "# Bunu bir değişkene atalım. Birazdan bunu df in yanına ekleyeceğiz\n",
    "skill_dummy = df.Skills.str.get_dummies(sep=\",\").add_prefix(\"Skills_\")"
   ]
  },
  {
   "cell_type": "code",
   "execution_count": 376,
   "metadata": {},
   "outputs": [
    {
     "data": {
      "text/html": [
       "<div>\n",
       "<style scoped>\n",
       "    .dataframe tbody tr th:only-of-type {\n",
       "        vertical-align: middle;\n",
       "    }\n",
       "\n",
       "    .dataframe tbody tr th {\n",
       "        vertical-align: top;\n",
       "    }\n",
       "\n",
       "    .dataframe thead th {\n",
       "        text-align: right;\n",
       "    }\n",
       "</style>\n",
       "<table border=\"1\" class=\"dataframe\">\n",
       "  <thead>\n",
       "    <tr style=\"text-align: right;\">\n",
       "      <th></th>\n",
       "      <th>department</th>\n",
       "      <th>job</th>\n",
       "      <th>salary</th>\n",
       "      <th>Skills</th>\n",
       "    </tr>\n",
       "  </thead>\n",
       "  <tbody>\n",
       "    <tr>\n",
       "      <th>0</th>\n",
       "      <td>HR</td>\n",
       "      <td>manager</td>\n",
       "      <td>150000</td>\n",
       "      <td></td>\n",
       "    </tr>\n",
       "    <tr>\n",
       "      <th>1</th>\n",
       "      <td>IT</td>\n",
       "      <td>manager</td>\n",
       "      <td>180000</td>\n",
       "      <td>Java,C++</td>\n",
       "    </tr>\n",
       "    <tr>\n",
       "      <th>2</th>\n",
       "      <td>IT</td>\n",
       "      <td>data scientist</td>\n",
       "      <td>150000</td>\n",
       "      <td>Python,Tableau,SQL</td>\n",
       "    </tr>\n",
       "    <tr>\n",
       "      <th>3</th>\n",
       "      <td>HR</td>\n",
       "      <td>recruiter</td>\n",
       "      <td>130000</td>\n",
       "      <td></td>\n",
       "    </tr>\n",
       "    <tr>\n",
       "      <th>4</th>\n",
       "      <td>IT</td>\n",
       "      <td>backend developer</td>\n",
       "      <td>110000</td>\n",
       "      <td>React,Django</td>\n",
       "    </tr>\n",
       "    <tr>\n",
       "      <th>5</th>\n",
       "      <td>IT</td>\n",
       "      <td>frontend developer</td>\n",
       "      <td>120000</td>\n",
       "      <td>JavaScript,Python</td>\n",
       "    </tr>\n",
       "    <tr>\n",
       "      <th>6</th>\n",
       "      <td>IT</td>\n",
       "      <td>data scientist</td>\n",
       "      <td>135000</td>\n",
       "      <td>R,SQL</td>\n",
       "    </tr>\n",
       "    <tr>\n",
       "      <th>7</th>\n",
       "      <td>IT</td>\n",
       "      <td>data scientist</td>\n",
       "      <td>125000</td>\n",
       "      <td>SQL,Python</td>\n",
       "    </tr>\n",
       "  </tbody>\n",
       "</table>\n",
       "</div>"
      ],
      "text/plain": [
       "  department                 job  salary              Skills\n",
       "0         HR             manager  150000                    \n",
       "1         IT             manager  180000            Java,C++\n",
       "2         IT      data scientist  150000  Python,Tableau,SQL\n",
       "3         HR           recruiter  130000                    \n",
       "4         IT   backend developer  110000        React,Django\n",
       "5         IT  frontend developer  120000   JavaScript,Python\n",
       "6         IT      data scientist  135000               R,SQL\n",
       "7         IT      data scientist  125000          SQL,Python"
      ]
     },
     "execution_count": 376,
     "metadata": {},
     "output_type": "execute_result"
    }
   ],
   "source": [
    "# Bazı sütunları get_dummy yapmak istemiyorum çünkü örneğin \"id\" sütunu\n",
    "# .. modeli açıklamak için bir anlam ifade etmeyeceği için onu almayacağız gibi\n",
    "# İşe yarar sütunlarımızı seçelim\n",
    "df_final = df[[\"department\",\"job\",\"salary\",\"Skills\"]]\n",
    "df_final"
   ]
  },
  {
   "cell_type": "code",
   "execution_count": 377,
   "metadata": {},
   "outputs": [
    {
     "data": {
      "text/html": [
       "<div>\n",
       "<style scoped>\n",
       "    .dataframe tbody tr th:only-of-type {\n",
       "        vertical-align: middle;\n",
       "    }\n",
       "\n",
       "    .dataframe tbody tr th {\n",
       "        vertical-align: top;\n",
       "    }\n",
       "\n",
       "    .dataframe thead th {\n",
       "        text-align: right;\n",
       "    }\n",
       "</style>\n",
       "<table border=\"1\" class=\"dataframe\">\n",
       "  <thead>\n",
       "    <tr style=\"text-align: right;\">\n",
       "      <th></th>\n",
       "      <th>department</th>\n",
       "      <th>job</th>\n",
       "      <th>salary</th>\n",
       "      <th>Skills</th>\n",
       "      <th>Skills_C++</th>\n",
       "      <th>Skills_Django</th>\n",
       "      <th>Skills_Java</th>\n",
       "      <th>Skills_JavaScript</th>\n",
       "      <th>Skills_Python</th>\n",
       "      <th>Skills_R</th>\n",
       "      <th>Skills_React</th>\n",
       "      <th>Skills_SQL</th>\n",
       "      <th>Skills_Tableau</th>\n",
       "    </tr>\n",
       "  </thead>\n",
       "  <tbody>\n",
       "    <tr>\n",
       "      <th>0</th>\n",
       "      <td>HR</td>\n",
       "      <td>manager</td>\n",
       "      <td>150000</td>\n",
       "      <td></td>\n",
       "      <td>0</td>\n",
       "      <td>0</td>\n",
       "      <td>0</td>\n",
       "      <td>0</td>\n",
       "      <td>0</td>\n",
       "      <td>0</td>\n",
       "      <td>0</td>\n",
       "      <td>0</td>\n",
       "      <td>0</td>\n",
       "    </tr>\n",
       "    <tr>\n",
       "      <th>1</th>\n",
       "      <td>IT</td>\n",
       "      <td>manager</td>\n",
       "      <td>180000</td>\n",
       "      <td>Java,C++</td>\n",
       "      <td>1</td>\n",
       "      <td>0</td>\n",
       "      <td>1</td>\n",
       "      <td>0</td>\n",
       "      <td>0</td>\n",
       "      <td>0</td>\n",
       "      <td>0</td>\n",
       "      <td>0</td>\n",
       "      <td>0</td>\n",
       "    </tr>\n",
       "    <tr>\n",
       "      <th>2</th>\n",
       "      <td>IT</td>\n",
       "      <td>data scientist</td>\n",
       "      <td>150000</td>\n",
       "      <td>Python,Tableau,SQL</td>\n",
       "      <td>0</td>\n",
       "      <td>0</td>\n",
       "      <td>0</td>\n",
       "      <td>0</td>\n",
       "      <td>1</td>\n",
       "      <td>0</td>\n",
       "      <td>0</td>\n",
       "      <td>1</td>\n",
       "      <td>1</td>\n",
       "    </tr>\n",
       "    <tr>\n",
       "      <th>3</th>\n",
       "      <td>HR</td>\n",
       "      <td>recruiter</td>\n",
       "      <td>130000</td>\n",
       "      <td></td>\n",
       "      <td>0</td>\n",
       "      <td>0</td>\n",
       "      <td>0</td>\n",
       "      <td>0</td>\n",
       "      <td>0</td>\n",
       "      <td>0</td>\n",
       "      <td>0</td>\n",
       "      <td>0</td>\n",
       "      <td>0</td>\n",
       "    </tr>\n",
       "    <tr>\n",
       "      <th>4</th>\n",
       "      <td>IT</td>\n",
       "      <td>backend developer</td>\n",
       "      <td>110000</td>\n",
       "      <td>React,Django</td>\n",
       "      <td>0</td>\n",
       "      <td>1</td>\n",
       "      <td>0</td>\n",
       "      <td>0</td>\n",
       "      <td>0</td>\n",
       "      <td>0</td>\n",
       "      <td>1</td>\n",
       "      <td>0</td>\n",
       "      <td>0</td>\n",
       "    </tr>\n",
       "    <tr>\n",
       "      <th>5</th>\n",
       "      <td>IT</td>\n",
       "      <td>frontend developer</td>\n",
       "      <td>120000</td>\n",
       "      <td>JavaScript,Python</td>\n",
       "      <td>0</td>\n",
       "      <td>0</td>\n",
       "      <td>0</td>\n",
       "      <td>1</td>\n",
       "      <td>1</td>\n",
       "      <td>0</td>\n",
       "      <td>0</td>\n",
       "      <td>0</td>\n",
       "      <td>0</td>\n",
       "    </tr>\n",
       "    <tr>\n",
       "      <th>6</th>\n",
       "      <td>IT</td>\n",
       "      <td>data scientist</td>\n",
       "      <td>135000</td>\n",
       "      <td>R,SQL</td>\n",
       "      <td>0</td>\n",
       "      <td>0</td>\n",
       "      <td>0</td>\n",
       "      <td>0</td>\n",
       "      <td>0</td>\n",
       "      <td>1</td>\n",
       "      <td>0</td>\n",
       "      <td>1</td>\n",
       "      <td>0</td>\n",
       "    </tr>\n",
       "    <tr>\n",
       "      <th>7</th>\n",
       "      <td>IT</td>\n",
       "      <td>data scientist</td>\n",
       "      <td>125000</td>\n",
       "      <td>SQL,Python</td>\n",
       "      <td>0</td>\n",
       "      <td>0</td>\n",
       "      <td>0</td>\n",
       "      <td>0</td>\n",
       "      <td>1</td>\n",
       "      <td>0</td>\n",
       "      <td>0</td>\n",
       "      <td>1</td>\n",
       "      <td>0</td>\n",
       "    </tr>\n",
       "  </tbody>\n",
       "</table>\n",
       "</div>"
      ],
      "text/plain": [
       "  department                 job  salary              Skills  Skills_C++  \\\n",
       "0         HR             manager  150000                               0   \n",
       "1         IT             manager  180000            Java,C++           1   \n",
       "2         IT      data scientist  150000  Python,Tableau,SQL           0   \n",
       "3         HR           recruiter  130000                               0   \n",
       "4         IT   backend developer  110000        React,Django           0   \n",
       "5         IT  frontend developer  120000   JavaScript,Python           0   \n",
       "6         IT      data scientist  135000               R,SQL           0   \n",
       "7         IT      data scientist  125000          SQL,Python           0   \n",
       "\n",
       "   Skills_Django  Skills_Java  Skills_JavaScript  Skills_Python  Skills_R  \\\n",
       "0              0            0                  0              0         0   \n",
       "1              0            1                  0              0         0   \n",
       "2              0            0                  0              1         0   \n",
       "3              0            0                  0              0         0   \n",
       "4              1            0                  0              0         0   \n",
       "5              0            0                  1              1         0   \n",
       "6              0            0                  0              0         1   \n",
       "7              0            0                  0              1         0   \n",
       "\n",
       "   Skills_React  Skills_SQL  Skills_Tableau  \n",
       "0             0           0               0  \n",
       "1             0           0               0  \n",
       "2             0           1               1  \n",
       "3             0           0               0  \n",
       "4             1           0               0  \n",
       "5             0           0               0  \n",
       "6             0           1               0  \n",
       "7             0           1               0  "
      ]
     },
     "execution_count": 377,
     "metadata": {},
     "output_type": "execute_result"
    }
   ],
   "source": [
    "# df in yanına dummy yaptığım kısmı ekleyebilirim\n",
    "df_final.join(skill_dummy)"
   ]
  },
  {
   "cell_type": "code",
   "execution_count": 378,
   "metadata": {},
   "outputs": [
    {
     "data": {
      "text/html": [
       "<div>\n",
       "<style scoped>\n",
       "    .dataframe tbody tr th:only-of-type {\n",
       "        vertical-align: middle;\n",
       "    }\n",
       "\n",
       "    .dataframe tbody tr th {\n",
       "        vertical-align: top;\n",
       "    }\n",
       "\n",
       "    .dataframe thead th {\n",
       "        text-align: right;\n",
       "    }\n",
       "</style>\n",
       "<table border=\"1\" class=\"dataframe\">\n",
       "  <thead>\n",
       "    <tr style=\"text-align: right;\">\n",
       "      <th></th>\n",
       "      <th>department</th>\n",
       "      <th>job</th>\n",
       "      <th>salary</th>\n",
       "      <th>Skills_C++</th>\n",
       "      <th>Skills_Django</th>\n",
       "      <th>Skills_Java</th>\n",
       "      <th>Skills_JavaScript</th>\n",
       "      <th>Skills_Python</th>\n",
       "      <th>Skills_R</th>\n",
       "      <th>Skills_React</th>\n",
       "      <th>Skills_SQL</th>\n",
       "      <th>Skills_Tableau</th>\n",
       "    </tr>\n",
       "  </thead>\n",
       "  <tbody>\n",
       "    <tr>\n",
       "      <th>0</th>\n",
       "      <td>HR</td>\n",
       "      <td>manager</td>\n",
       "      <td>150000</td>\n",
       "      <td>0</td>\n",
       "      <td>0</td>\n",
       "      <td>0</td>\n",
       "      <td>0</td>\n",
       "      <td>0</td>\n",
       "      <td>0</td>\n",
       "      <td>0</td>\n",
       "      <td>0</td>\n",
       "      <td>0</td>\n",
       "    </tr>\n",
       "    <tr>\n",
       "      <th>1</th>\n",
       "      <td>IT</td>\n",
       "      <td>manager</td>\n",
       "      <td>180000</td>\n",
       "      <td>1</td>\n",
       "      <td>0</td>\n",
       "      <td>1</td>\n",
       "      <td>0</td>\n",
       "      <td>0</td>\n",
       "      <td>0</td>\n",
       "      <td>0</td>\n",
       "      <td>0</td>\n",
       "      <td>0</td>\n",
       "    </tr>\n",
       "    <tr>\n",
       "      <th>2</th>\n",
       "      <td>IT</td>\n",
       "      <td>data scientist</td>\n",
       "      <td>150000</td>\n",
       "      <td>0</td>\n",
       "      <td>0</td>\n",
       "      <td>0</td>\n",
       "      <td>0</td>\n",
       "      <td>1</td>\n",
       "      <td>0</td>\n",
       "      <td>0</td>\n",
       "      <td>1</td>\n",
       "      <td>1</td>\n",
       "    </tr>\n",
       "    <tr>\n",
       "      <th>3</th>\n",
       "      <td>HR</td>\n",
       "      <td>recruiter</td>\n",
       "      <td>130000</td>\n",
       "      <td>0</td>\n",
       "      <td>0</td>\n",
       "      <td>0</td>\n",
       "      <td>0</td>\n",
       "      <td>0</td>\n",
       "      <td>0</td>\n",
       "      <td>0</td>\n",
       "      <td>0</td>\n",
       "      <td>0</td>\n",
       "    </tr>\n",
       "    <tr>\n",
       "      <th>4</th>\n",
       "      <td>IT</td>\n",
       "      <td>backend developer</td>\n",
       "      <td>110000</td>\n",
       "      <td>0</td>\n",
       "      <td>1</td>\n",
       "      <td>0</td>\n",
       "      <td>0</td>\n",
       "      <td>0</td>\n",
       "      <td>0</td>\n",
       "      <td>1</td>\n",
       "      <td>0</td>\n",
       "      <td>0</td>\n",
       "    </tr>\n",
       "    <tr>\n",
       "      <th>5</th>\n",
       "      <td>IT</td>\n",
       "      <td>frontend developer</td>\n",
       "      <td>120000</td>\n",
       "      <td>0</td>\n",
       "      <td>0</td>\n",
       "      <td>0</td>\n",
       "      <td>1</td>\n",
       "      <td>1</td>\n",
       "      <td>0</td>\n",
       "      <td>0</td>\n",
       "      <td>0</td>\n",
       "      <td>0</td>\n",
       "    </tr>\n",
       "    <tr>\n",
       "      <th>6</th>\n",
       "      <td>IT</td>\n",
       "      <td>data scientist</td>\n",
       "      <td>135000</td>\n",
       "      <td>0</td>\n",
       "      <td>0</td>\n",
       "      <td>0</td>\n",
       "      <td>0</td>\n",
       "      <td>0</td>\n",
       "      <td>1</td>\n",
       "      <td>0</td>\n",
       "      <td>1</td>\n",
       "      <td>0</td>\n",
       "    </tr>\n",
       "    <tr>\n",
       "      <th>7</th>\n",
       "      <td>IT</td>\n",
       "      <td>data scientist</td>\n",
       "      <td>125000</td>\n",
       "      <td>0</td>\n",
       "      <td>0</td>\n",
       "      <td>0</td>\n",
       "      <td>0</td>\n",
       "      <td>1</td>\n",
       "      <td>0</td>\n",
       "      <td>0</td>\n",
       "      <td>1</td>\n",
       "      <td>0</td>\n",
       "    </tr>\n",
       "  </tbody>\n",
       "</table>\n",
       "</div>"
      ],
      "text/plain": [
       "  department                 job  salary  Skills_C++  Skills_Django  \\\n",
       "0         HR             manager  150000           0              0   \n",
       "1         IT             manager  180000           1              0   \n",
       "2         IT      data scientist  150000           0              0   \n",
       "3         HR           recruiter  130000           0              0   \n",
       "4         IT   backend developer  110000           0              1   \n",
       "5         IT  frontend developer  120000           0              0   \n",
       "6         IT      data scientist  135000           0              0   \n",
       "7         IT      data scientist  125000           0              0   \n",
       "\n",
       "   Skills_Java  Skills_JavaScript  Skills_Python  Skills_R  Skills_React  \\\n",
       "0            0                  0              0         0             0   \n",
       "1            1                  0              0         0             0   \n",
       "2            0                  0              1         0             0   \n",
       "3            0                  0              0         0             0   \n",
       "4            0                  0              0         0             1   \n",
       "5            0                  1              1         0             0   \n",
       "6            0                  0              0         1             0   \n",
       "7            0                  0              1         0             0   \n",
       "\n",
       "   Skills_SQL  Skills_Tableau  \n",
       "0           0               0  \n",
       "1           0               0  \n",
       "2           1               1  \n",
       "3           0               0  \n",
       "4           0               0  \n",
       "5           0               0  \n",
       "6           1               0  \n",
       "7           1               0  "
      ]
     },
     "execution_count": 378,
     "metadata": {},
     "output_type": "execute_result"
    }
   ],
   "source": [
    "df_final = df_final.join(skill_dummy)\n",
    "df_final.drop(\"Skills\", axis=1, inplace=True) # Skill i dummy yaptığım için drop ettik\n",
    "df_final"
   ]
  },
  {
   "cell_type": "code",
   "execution_count": 379,
   "metadata": {},
   "outputs": [
    {
     "data": {
      "text/html": [
       "<div>\n",
       "<style scoped>\n",
       "    .dataframe tbody tr th:only-of-type {\n",
       "        vertical-align: middle;\n",
       "    }\n",
       "\n",
       "    .dataframe tbody tr th {\n",
       "        vertical-align: top;\n",
       "    }\n",
       "\n",
       "    .dataframe thead th {\n",
       "        text-align: right;\n",
       "    }\n",
       "</style>\n",
       "<table border=\"1\" class=\"dataframe\">\n",
       "  <thead>\n",
       "    <tr style=\"text-align: right;\">\n",
       "      <th></th>\n",
       "      <th>salary</th>\n",
       "      <th>Skills_C++</th>\n",
       "      <th>Skills_Django</th>\n",
       "      <th>Skills_Java</th>\n",
       "      <th>Skills_JavaScript</th>\n",
       "      <th>Skills_Python</th>\n",
       "      <th>Skills_R</th>\n",
       "      <th>Skills_React</th>\n",
       "      <th>Skills_SQL</th>\n",
       "      <th>Skills_Tableau</th>\n",
       "      <th>department_IT</th>\n",
       "      <th>job_data scientist</th>\n",
       "      <th>job_frontend developer</th>\n",
       "      <th>job_manager</th>\n",
       "      <th>job_recruiter</th>\n",
       "    </tr>\n",
       "  </thead>\n",
       "  <tbody>\n",
       "    <tr>\n",
       "      <th>0</th>\n",
       "      <td>150000</td>\n",
       "      <td>0</td>\n",
       "      <td>0</td>\n",
       "      <td>0</td>\n",
       "      <td>0</td>\n",
       "      <td>0</td>\n",
       "      <td>0</td>\n",
       "      <td>0</td>\n",
       "      <td>0</td>\n",
       "      <td>0</td>\n",
       "      <td>0</td>\n",
       "      <td>0</td>\n",
       "      <td>0</td>\n",
       "      <td>1</td>\n",
       "      <td>0</td>\n",
       "    </tr>\n",
       "    <tr>\n",
       "      <th>1</th>\n",
       "      <td>180000</td>\n",
       "      <td>1</td>\n",
       "      <td>0</td>\n",
       "      <td>1</td>\n",
       "      <td>0</td>\n",
       "      <td>0</td>\n",
       "      <td>0</td>\n",
       "      <td>0</td>\n",
       "      <td>0</td>\n",
       "      <td>0</td>\n",
       "      <td>1</td>\n",
       "      <td>0</td>\n",
       "      <td>0</td>\n",
       "      <td>1</td>\n",
       "      <td>0</td>\n",
       "    </tr>\n",
       "    <tr>\n",
       "      <th>2</th>\n",
       "      <td>150000</td>\n",
       "      <td>0</td>\n",
       "      <td>0</td>\n",
       "      <td>0</td>\n",
       "      <td>0</td>\n",
       "      <td>1</td>\n",
       "      <td>0</td>\n",
       "      <td>0</td>\n",
       "      <td>1</td>\n",
       "      <td>1</td>\n",
       "      <td>1</td>\n",
       "      <td>1</td>\n",
       "      <td>0</td>\n",
       "      <td>0</td>\n",
       "      <td>0</td>\n",
       "    </tr>\n",
       "    <tr>\n",
       "      <th>3</th>\n",
       "      <td>130000</td>\n",
       "      <td>0</td>\n",
       "      <td>0</td>\n",
       "      <td>0</td>\n",
       "      <td>0</td>\n",
       "      <td>0</td>\n",
       "      <td>0</td>\n",
       "      <td>0</td>\n",
       "      <td>0</td>\n",
       "      <td>0</td>\n",
       "      <td>0</td>\n",
       "      <td>0</td>\n",
       "      <td>0</td>\n",
       "      <td>0</td>\n",
       "      <td>1</td>\n",
       "    </tr>\n",
       "    <tr>\n",
       "      <th>4</th>\n",
       "      <td>110000</td>\n",
       "      <td>0</td>\n",
       "      <td>1</td>\n",
       "      <td>0</td>\n",
       "      <td>0</td>\n",
       "      <td>0</td>\n",
       "      <td>0</td>\n",
       "      <td>1</td>\n",
       "      <td>0</td>\n",
       "      <td>0</td>\n",
       "      <td>1</td>\n",
       "      <td>0</td>\n",
       "      <td>0</td>\n",
       "      <td>0</td>\n",
       "      <td>0</td>\n",
       "    </tr>\n",
       "    <tr>\n",
       "      <th>5</th>\n",
       "      <td>120000</td>\n",
       "      <td>0</td>\n",
       "      <td>0</td>\n",
       "      <td>0</td>\n",
       "      <td>1</td>\n",
       "      <td>1</td>\n",
       "      <td>0</td>\n",
       "      <td>0</td>\n",
       "      <td>0</td>\n",
       "      <td>0</td>\n",
       "      <td>1</td>\n",
       "      <td>0</td>\n",
       "      <td>1</td>\n",
       "      <td>0</td>\n",
       "      <td>0</td>\n",
       "    </tr>\n",
       "    <tr>\n",
       "      <th>6</th>\n",
       "      <td>135000</td>\n",
       "      <td>0</td>\n",
       "      <td>0</td>\n",
       "      <td>0</td>\n",
       "      <td>0</td>\n",
       "      <td>0</td>\n",
       "      <td>1</td>\n",
       "      <td>0</td>\n",
       "      <td>1</td>\n",
       "      <td>0</td>\n",
       "      <td>1</td>\n",
       "      <td>1</td>\n",
       "      <td>0</td>\n",
       "      <td>0</td>\n",
       "      <td>0</td>\n",
       "    </tr>\n",
       "    <tr>\n",
       "      <th>7</th>\n",
       "      <td>125000</td>\n",
       "      <td>0</td>\n",
       "      <td>0</td>\n",
       "      <td>0</td>\n",
       "      <td>0</td>\n",
       "      <td>1</td>\n",
       "      <td>0</td>\n",
       "      <td>0</td>\n",
       "      <td>1</td>\n",
       "      <td>0</td>\n",
       "      <td>1</td>\n",
       "      <td>1</td>\n",
       "      <td>0</td>\n",
       "      <td>0</td>\n",
       "      <td>0</td>\n",
       "    </tr>\n",
       "  </tbody>\n",
       "</table>\n",
       "</div>"
      ],
      "text/plain": [
       "   salary  Skills_C++  Skills_Django  Skills_Java  Skills_JavaScript  \\\n",
       "0  150000           0              0            0                  0   \n",
       "1  180000           1              0            1                  0   \n",
       "2  150000           0              0            0                  0   \n",
       "3  130000           0              0            0                  0   \n",
       "4  110000           0              1            0                  0   \n",
       "5  120000           0              0            0                  1   \n",
       "6  135000           0              0            0                  0   \n",
       "7  125000           0              0            0                  0   \n",
       "\n",
       "   Skills_Python  Skills_R  Skills_React  Skills_SQL  Skills_Tableau  \\\n",
       "0              0         0             0           0               0   \n",
       "1              0         0             0           0               0   \n",
       "2              1         0             0           1               1   \n",
       "3              0         0             0           0               0   \n",
       "4              0         0             1           0               0   \n",
       "5              1         0             0           0               0   \n",
       "6              0         1             0           1               0   \n",
       "7              1         0             0           1               0   \n",
       "\n",
       "   department_IT  job_data scientist  job_frontend developer  job_manager  \\\n",
       "0              0                   0                       0            1   \n",
       "1              1                   0                       0            1   \n",
       "2              1                   1                       0            0   \n",
       "3              0                   0                       0            0   \n",
       "4              1                   0                       0            0   \n",
       "5              1                   0                       1            0   \n",
       "6              1                   1                       0            0   \n",
       "7              1                   1                       0            0   \n",
       "\n",
       "   job_recruiter  \n",
       "0              0  \n",
       "1              0  \n",
       "2              0  \n",
       "3              1  \n",
       "4              0  \n",
       "5              0  \n",
       "6              0  \n",
       "7              0  "
      ]
     },
     "execution_count": 379,
     "metadata": {},
     "output_type": "execute_result"
    }
   ],
   "source": [
    "# Hala kategorik sütunlarımız var onları tamamen alalım get_dummy içine\n",
    "pd.get_dummies(df_final, drop_first= True)"
   ]
  },
  {
   "cell_type": "code",
   "execution_count": 380,
   "metadata": {},
   "outputs": [
    {
     "data": {
      "text/html": [
       "<div>\n",
       "<style scoped>\n",
       "    .dataframe tbody tr th:only-of-type {\n",
       "        vertical-align: middle;\n",
       "    }\n",
       "\n",
       "    .dataframe tbody tr th {\n",
       "        vertical-align: top;\n",
       "    }\n",
       "\n",
       "    .dataframe thead th {\n",
       "        text-align: right;\n",
       "    }\n",
       "</style>\n",
       "<table border=\"1\" class=\"dataframe\">\n",
       "  <thead>\n",
       "    <tr style=\"text-align: right;\">\n",
       "      <th></th>\n",
       "      <th>salary</th>\n",
       "      <th>Skills_C++</th>\n",
       "      <th>Skills_Django</th>\n",
       "      <th>Skills_Java</th>\n",
       "      <th>Skills_JavaScript</th>\n",
       "      <th>Skills_Python</th>\n",
       "      <th>Skills_R</th>\n",
       "      <th>Skills_React</th>\n",
       "      <th>Skills_SQL</th>\n",
       "      <th>Skills_Tableau</th>\n",
       "      <th>department_IT</th>\n",
       "      <th>job_data scientist</th>\n",
       "      <th>job_frontend developer</th>\n",
       "      <th>job_manager</th>\n",
       "      <th>job_recruiter</th>\n",
       "    </tr>\n",
       "  </thead>\n",
       "  <tbody>\n",
       "    <tr>\n",
       "      <th>0</th>\n",
       "      <td>150000</td>\n",
       "      <td>0</td>\n",
       "      <td>0</td>\n",
       "      <td>0</td>\n",
       "      <td>0</td>\n",
       "      <td>0</td>\n",
       "      <td>0</td>\n",
       "      <td>0</td>\n",
       "      <td>0</td>\n",
       "      <td>0</td>\n",
       "      <td>0</td>\n",
       "      <td>0</td>\n",
       "      <td>0</td>\n",
       "      <td>1</td>\n",
       "      <td>0</td>\n",
       "    </tr>\n",
       "    <tr>\n",
       "      <th>1</th>\n",
       "      <td>180000</td>\n",
       "      <td>1</td>\n",
       "      <td>0</td>\n",
       "      <td>1</td>\n",
       "      <td>0</td>\n",
       "      <td>0</td>\n",
       "      <td>0</td>\n",
       "      <td>0</td>\n",
       "      <td>0</td>\n",
       "      <td>0</td>\n",
       "      <td>1</td>\n",
       "      <td>0</td>\n",
       "      <td>0</td>\n",
       "      <td>1</td>\n",
       "      <td>0</td>\n",
       "    </tr>\n",
       "    <tr>\n",
       "      <th>2</th>\n",
       "      <td>150000</td>\n",
       "      <td>0</td>\n",
       "      <td>0</td>\n",
       "      <td>0</td>\n",
       "      <td>0</td>\n",
       "      <td>1</td>\n",
       "      <td>0</td>\n",
       "      <td>0</td>\n",
       "      <td>1</td>\n",
       "      <td>1</td>\n",
       "      <td>1</td>\n",
       "      <td>1</td>\n",
       "      <td>0</td>\n",
       "      <td>0</td>\n",
       "      <td>0</td>\n",
       "    </tr>\n",
       "    <tr>\n",
       "      <th>3</th>\n",
       "      <td>130000</td>\n",
       "      <td>0</td>\n",
       "      <td>0</td>\n",
       "      <td>0</td>\n",
       "      <td>0</td>\n",
       "      <td>0</td>\n",
       "      <td>0</td>\n",
       "      <td>0</td>\n",
       "      <td>0</td>\n",
       "      <td>0</td>\n",
       "      <td>0</td>\n",
       "      <td>0</td>\n",
       "      <td>0</td>\n",
       "      <td>0</td>\n",
       "      <td>1</td>\n",
       "    </tr>\n",
       "    <tr>\n",
       "      <th>4</th>\n",
       "      <td>110000</td>\n",
       "      <td>0</td>\n",
       "      <td>1</td>\n",
       "      <td>0</td>\n",
       "      <td>0</td>\n",
       "      <td>0</td>\n",
       "      <td>0</td>\n",
       "      <td>1</td>\n",
       "      <td>0</td>\n",
       "      <td>0</td>\n",
       "      <td>1</td>\n",
       "      <td>0</td>\n",
       "      <td>0</td>\n",
       "      <td>0</td>\n",
       "      <td>0</td>\n",
       "    </tr>\n",
       "    <tr>\n",
       "      <th>5</th>\n",
       "      <td>120000</td>\n",
       "      <td>0</td>\n",
       "      <td>0</td>\n",
       "      <td>0</td>\n",
       "      <td>1</td>\n",
       "      <td>1</td>\n",
       "      <td>0</td>\n",
       "      <td>0</td>\n",
       "      <td>0</td>\n",
       "      <td>0</td>\n",
       "      <td>1</td>\n",
       "      <td>0</td>\n",
       "      <td>1</td>\n",
       "      <td>0</td>\n",
       "      <td>0</td>\n",
       "    </tr>\n",
       "    <tr>\n",
       "      <th>6</th>\n",
       "      <td>135000</td>\n",
       "      <td>0</td>\n",
       "      <td>0</td>\n",
       "      <td>0</td>\n",
       "      <td>0</td>\n",
       "      <td>0</td>\n",
       "      <td>1</td>\n",
       "      <td>0</td>\n",
       "      <td>1</td>\n",
       "      <td>0</td>\n",
       "      <td>1</td>\n",
       "      <td>1</td>\n",
       "      <td>0</td>\n",
       "      <td>0</td>\n",
       "      <td>0</td>\n",
       "    </tr>\n",
       "    <tr>\n",
       "      <th>7</th>\n",
       "      <td>125000</td>\n",
       "      <td>0</td>\n",
       "      <td>0</td>\n",
       "      <td>0</td>\n",
       "      <td>0</td>\n",
       "      <td>1</td>\n",
       "      <td>0</td>\n",
       "      <td>0</td>\n",
       "      <td>1</td>\n",
       "      <td>0</td>\n",
       "      <td>1</td>\n",
       "      <td>1</td>\n",
       "      <td>0</td>\n",
       "      <td>0</td>\n",
       "      <td>0</td>\n",
       "    </tr>\n",
       "  </tbody>\n",
       "</table>\n",
       "</div>"
      ],
      "text/plain": [
       "   salary  Skills_C++  Skills_Django  Skills_Java  Skills_JavaScript  \\\n",
       "0  150000           0              0            0                  0   \n",
       "1  180000           1              0            1                  0   \n",
       "2  150000           0              0            0                  0   \n",
       "3  130000           0              0            0                  0   \n",
       "4  110000           0              1            0                  0   \n",
       "5  120000           0              0            0                  1   \n",
       "6  135000           0              0            0                  0   \n",
       "7  125000           0              0            0                  0   \n",
       "\n",
       "   Skills_Python  Skills_R  Skills_React  Skills_SQL  Skills_Tableau  \\\n",
       "0              0         0             0           0               0   \n",
       "1              0         0             0           0               0   \n",
       "2              1         0             0           1               1   \n",
       "3              0         0             0           0               0   \n",
       "4              0         0             1           0               0   \n",
       "5              1         0             0           0               0   \n",
       "6              0         1             0           1               0   \n",
       "7              1         0             0           1               0   \n",
       "\n",
       "   department_IT  job_data scientist  job_frontend developer  job_manager  \\\n",
       "0              0                   0                       0            1   \n",
       "1              1                   0                       0            1   \n",
       "2              1                   1                       0            0   \n",
       "3              0                   0                       0            0   \n",
       "4              1                   0                       0            0   \n",
       "5              1                   0                       1            0   \n",
       "6              1                   1                       0            0   \n",
       "7              1                   1                       0            0   \n",
       "\n",
       "   job_recruiter  \n",
       "0              0  \n",
       "1              0  \n",
       "2              0  \n",
       "3              1  \n",
       "4              0  \n",
       "5              0  \n",
       "6              0  \n",
       "7              0  "
      ]
     },
     "execution_count": 380,
     "metadata": {},
     "output_type": "execute_result"
    }
   ],
   "source": [
    "# Bunu da df_final a eşitleyip kalıcı hale getirip verimin son haline bakalım artık\n",
    "df_final = pd.get_dummies(df_final, drop_first= True)\n",
    "df_final"
   ]
  },
  {
   "cell_type": "code",
   "execution_count": null,
   "metadata": {},
   "outputs": [],
   "source": [
    "# Text data ile çalışmayı bitirdik şimdi datetime lar ile çalışacağız"
   ]
  },
  {
   "cell_type": "markdown",
   "metadata": {},
   "source": [
    "## <p style=\"background-color:#9d4f8c; font-family:newtimeroman; color:#FFF9ED; font-size:175%; text-align:center; border-radius:10px 10px;\">Working with Time Data</p>\n",
    "\n",
    "<a id=\"2\"></a>\n",
    "<a href=\"#toc\" class=\"btn btn-primary btn-sm\" role=\"button\" aria-pressed=\"true\" \n",
    "style=\"color:blue; background-color:#dfa8e4\" data-toggle=\"popover\">Content</a>\n",
    "\n",
    "As someone who works with time series data on almost a daily basis, it's clear that the pandas Python package is extremely useful for time series manipulation and analysis. This basic introduction to time series data manipulation with pandas should allow you to get started in your time series analysis. Specific objectives are to show you how to:\n",
    "- create a date range\n",
    "- work with timestamp data\n",
    "- convert string data to a timestamp\n",
    "- index and slice your time series data in a data frame\n",
    "- resample your time series for different time period aggregates/summary statistics\n",
    "- compute a rolling statistic such as a rolling average\n",
    "- work with missing data\n",
    "- understand the basics of unix/epoch time\n",
    "- understand common pitfalls of time series data analysis [SOURCE](https://towardsdatascience.com/basic-time-series-manipulation-with-pandas-4432afee64ea)\n",
    "\n",
    "In this section, we will introduce how to work with each of these types of date/time data in Pandas. This short section is by no means a complete guide to the time series tools available in Python or Pandas, but instead is intended as a broad overview of how you as a user should approach working with time series [SOURCE](https://jakevdp.github.io/PythonDataScienceHandbook/03.11-working-with-time-series.html)."
   ]
  },
  {
   "cell_type": "markdown",
   "metadata": {
    "id": "lDR5hkFfAgbZ"
   },
   "source": [
    "### <p style=\"background-color:#9d4f8c; font-family:newtimeroman; color:#FFF9ED; font-size:150%; text-align:LEFT; border-radius:10px 10px;\">pd.to_datetime()</p>\n",
    "\n",
    "<a id=\"2.1\"></a>\n",
    "<a href=\"#toc\" class=\"btn btn-primary btn-sm\" role=\"button\" aria-pressed=\"true\" \n",
    "style=\"color:blue; background-color:#dfa8e4\" data-toggle=\"popover\">Content</a>\n",
    "\n",
    "For more and detailed information about to_datetime() metod, please [Visit Official Document](https://pandas.pydata.org/docs/reference/api/pandas.to_datetime.html)\n",
    "\n",
    "**``pd.to_datetime()``** Converts argument to datetime.\n",
    "\n",
    "This function converts a **``scalar``**, **``array-like``**, **``Series``** or **``DataFrame/dict-like``** to a pandas datetime object.\n",
    "\n",
    "**As stated above, many input types are supported, and lead to different output types:**\n",
    "\n",
    "- **``scalars``** can be int, float, str, datetime object (from stdlib datetime module or numpy). They are converted to Timestamp when possible, otherwise they are converted to datetime.datetime. None/NaN/null scalars are converted to NaT.\n",
    "\n",
    "- **``array-like``** can contain int, float, str, datetime objects. They are converted to DatetimeIndex when possible, otherwise they are converted to Index with object dtype, containing datetime.datetime. None/NaN/null entries are converted to NaT in both cases.\n",
    "\n",
    "- **``Series``** are converted to Series with datetime64 dtype when possible, otherwise they are converted to Series with object dtype, containing datetime.datetime. None/NaN/null entries are converted to NaT in both cases.\n",
    "\n",
    "- **``DataFrame/dict-like``** are converted to Series with datetime64 dtype. For each row a datetime is created from assembling the various dataframe columns. Column keys can be common abbreviations like [‘year’, ‘month’, ‘day’, ‘minute’, ‘second’, ‘ms’, ‘us’, ‘ns’]) or plurals of the same.\n",
    "\n",
    "[Special Note :](https://pandas.pydata.org/docs/getting_started/intro_tutorials/09_timeseries.html)\n",
    "\n",
    "As many data sets do contain datetime information in one of the columns, pandas input function like [pandas.read_csv()](https://pandas.pydata.org/docs/reference/api/pandas.read_csv.html#pandas.read_csv) and [pandas.read_json()](https://pandas.pydata.org/docs/reference/api/pandas.read_json.html#pandas.read_json) can do the transformation to dates when reading the data using the **``parse_dates parameter``** with a list of the columns to read as Timestamp."
   ]
  },
  {
   "cell_type": "code",
   "execution_count": 381,
   "metadata": {},
   "outputs": [
    {
     "data": {
      "text/plain": [
       "'\\nclass datetime\\nclass datetime\\n'"
      ]
     },
     "execution_count": 381,
     "metadata": {},
     "output_type": "execute_result"
    }
   ],
   "source": [
    "# pd.to_datetime # string , list_like vs vs gibi ifadeyi time tipine çevirmeyi \n",
    "# .. sağlar(Eğer time a dönüştürülebilecek bir halde ise)\n",
    "# datetime a bir sütunu çevirdikten sonra araya dt koyarsam. Yıl, gün, ay vs yi\n",
    "# .. bana ayrı ayrı çekebilir\n",
    "\"\"\"\n",
    "date[\"year\"] = date[\"year\"].dt.year\n",
    "date[\"month\"] = date[\"year\"].dt.month\n",
    "date[\"day\"] = date[\"year\"].dt.day\n",
    "date[\"hour\"] = date[\"year\"].dt.hour\n",
    "date[\"minute\"] = date[\"year\"].dt.minute\n",
    "\"\"\"\n",
    "# Pandas kendi içerisinde modüllerle bunu yapabiliyor ama ayrıca\n",
    "# .. Datetime module ü var\n",
    "\"\"\"\n",
    "class datetime date\n",
    "class datetime time\n",
    "class datetime datetime   # mikrosaniyeye kadar bilgi gösterir\n",
    "class datetime timedelta  # parantez içine bilgiler yazıp bunu \n",
    "# .. matematiksel işlemler için kullanabilirim. Şu kadar gün öncesine git vs gibi\n",
    "class datetime tzinfo\n",
    "class datetime timezone\n",
    "\n",
    "# Sadece class datetime datetime ve class datetime timedelta ı kullanacağız\n",
    "\"\"\"\n",
    "\n",
    "\n",
    "# strftime() & strptime()\n",
    "# strftime() : datetime object sonuna .strftime() yazarsam içindeki formattaki\n",
    "# .. ifadeye çevir dersem o formata çevirir ifadeyi\n",
    "# strptime() : Sadece string bir ifadeyi datetime a çeviriyor\n",
    "# .. Örneğin : \"21 June, 2018\" i veriyorum ben\n",
    "# .. sonra vermesini istediğim şekilde içerdeki formatı veriyorum o formatta\n",
    "# .. veriyor\n",
    "# Ama to_datetime çok daha geniş kapsamlı bunlara nazaran"
   ]
  },
  {
   "cell_type": "markdown",
   "metadata": {},
   "source": [
    "Why are these **``pandas.Timestamp``** objects useful? Let's illustrate the added value with some example cases. In this sense, let us assume that we want to work with the dates in the column datetime as datetime objects instead of plain text:"
   ]
  },
  {
   "cell_type": "code",
   "execution_count": 382,
   "metadata": {
    "id": "RsfZojumAgba",
    "outputId": "6cf4415d-cf33-4491-e00e-784b02bee94f"
   },
   "outputs": [
    {
     "data": {
      "text/html": [
       "<div>\n",
       "<style scoped>\n",
       "    .dataframe tbody tr th:only-of-type {\n",
       "        vertical-align: middle;\n",
       "    }\n",
       "\n",
       "    .dataframe tbody tr th {\n",
       "        vertical-align: top;\n",
       "    }\n",
       "\n",
       "    .dataframe thead th {\n",
       "        text-align: right;\n",
       "    }\n",
       "</style>\n",
       "<table border=\"1\" class=\"dataframe\">\n",
       "  <thead>\n",
       "    <tr style=\"text-align: right;\">\n",
       "      <th></th>\n",
       "      <th>id_product</th>\n",
       "      <th>order_date</th>\n",
       "      <th>product_quantity</th>\n",
       "      <th>product_price</th>\n",
       "      <th>entry_date</th>\n",
       "    </tr>\n",
       "  </thead>\n",
       "  <tbody>\n",
       "    <tr>\n",
       "      <th>0</th>\n",
       "      <td>401</td>\n",
       "      <td>2021-01-23</td>\n",
       "      <td>1.0</td>\n",
       "      <td>541.487603</td>\n",
       "      <td>2018-12-04</td>\n",
       "    </tr>\n",
       "    <tr>\n",
       "      <th>1</th>\n",
       "      <td>416</td>\n",
       "      <td>2020-04-02</td>\n",
       "      <td>1.0</td>\n",
       "      <td>131.181818</td>\n",
       "      <td>2018-12-04</td>\n",
       "    </tr>\n",
       "    <tr>\n",
       "      <th>2</th>\n",
       "      <td>717</td>\n",
       "      <td>2019-03-10</td>\n",
       "      <td>1.0</td>\n",
       "      <td>2035.488500</td>\n",
       "      <td>2018-12-04</td>\n",
       "    </tr>\n",
       "    <tr>\n",
       "      <th>3</th>\n",
       "      <td>778</td>\n",
       "      <td>2019-12-27</td>\n",
       "      <td>1.0</td>\n",
       "      <td>335.988000</td>\n",
       "      <td>2018-12-04</td>\n",
       "    </tr>\n",
       "    <tr>\n",
       "      <th>4</th>\n",
       "      <td>826</td>\n",
       "      <td>2020-02-19</td>\n",
       "      <td>1.0</td>\n",
       "      <td>342.292302</td>\n",
       "      <td>2018-12-04</td>\n",
       "    </tr>\n",
       "  </tbody>\n",
       "</table>\n",
       "</div>"
      ],
      "text/plain": [
       "   id_product  order_date  product_quantity  product_price  entry_date\n",
       "0         401  2021-01-23               1.0     541.487603  2018-12-04\n",
       "1         416  2020-04-02               1.0     131.181818  2018-12-04\n",
       "2         717  2019-03-10               1.0    2035.488500  2018-12-04\n",
       "3         778  2019-12-27               1.0     335.988000  2018-12-04\n",
       "4         826  2020-02-19               1.0     342.292302  2018-12-04"
      ]
     },
     "execution_count": 382,
     "metadata": {},
     "output_type": "execute_result"
    }
   ],
   "source": [
    "df = pd.read_csv(\"time_exercise.csv\")\n",
    "df.head()"
   ]
  },
  {
   "cell_type": "code",
   "execution_count": 383,
   "metadata": {},
   "outputs": [
    {
     "name": "stdout",
     "output_type": "stream",
     "text": [
      "<class 'pandas.core.frame.DataFrame'>\n",
      "RangeIndex: 911 entries, 0 to 910\n",
      "Data columns (total 5 columns):\n",
      " #   Column            Non-Null Count  Dtype  \n",
      "---  ------            --------------  -----  \n",
      " 0   id_product        911 non-null    int64  \n",
      " 1   order_date        911 non-null    object \n",
      " 2   product_quantity  911 non-null    float64\n",
      " 3   product_price     911 non-null    float64\n",
      " 4   entry_date        911 non-null    object \n",
      "dtypes: float64(2), int64(1), object(2)\n",
      "memory usage: 35.7+ KB\n"
     ]
    }
   ],
   "source": [
    "df.info() # order_date be entry_date i datetime a çevirmeliyiz\n",
    "# Siz de çalışmalarınızda bunları datetime a çevirip öyle çalışmalısınız"
   ]
  },
  {
   "cell_type": "markdown",
   "metadata": {},
   "source": [
    "Initially, the values in datetime are character strings and do **NOT** provide any datetime operations (e.g. extract the year, day of the week,…). By applying the to_datetime function, pandas interprets the strings and convert these to datetime (i.e. ``datetime64[ns, UTC]``) objects. In pandas we call these datetime objects similar to datetime.datetime from the standard library as [pandas.Timestamp](https://pandas.pydata.org/docs/reference/api/pandas.Timestamp.html#pandas.Timestamp)."
   ]
  },
  {
   "cell_type": "code",
   "execution_count": 385,
   "metadata": {},
   "outputs": [
    {
     "data": {
      "text/plain": [
       "0      2021-01-23\n",
       "1      2020-04-02\n",
       "2      2019-03-10\n",
       "3      2019-12-27\n",
       "4      2020-02-19\n",
       "          ...    \n",
       "906    2020-11-24\n",
       "907    2020-11-24\n",
       "908    2020-11-22\n",
       "909    2021-01-26\n",
       "910    2020-12-06\n",
       "Name: order_date, Length: 911, dtype: object"
      ]
     },
     "execution_count": 385,
     "metadata": {},
     "output_type": "execute_result"
    }
   ],
   "source": [
    "df.order_date   # Bunu datetime a çevirelim"
   ]
  },
  {
   "cell_type": "code",
   "execution_count": null,
   "metadata": {},
   "outputs": [],
   "source": [
    "pd.to_datetime(df.order_date) # Görsel olarak değişiklik yok ama dtype:datetime\n",
    "# Aynısını diğer sütun içinde yapalım ve kalıcı yapalım bir değişkene atayarak"
   ]
  },
  {
   "cell_type": "code",
   "execution_count": 386,
   "metadata": {},
   "outputs": [],
   "source": [
    "df[\"entry_date\"] = pd.to_datetime(df[\"entry_date\"])\n",
    "df[\"order_date\"] = pd.to_datetime(df[\"order_date\"])"
   ]
  },
  {
   "cell_type": "code",
   "execution_count": 387,
   "metadata": {},
   "outputs": [
    {
     "name": "stdout",
     "output_type": "stream",
     "text": [
      "<class 'pandas.core.frame.DataFrame'>\n",
      "RangeIndex: 911 entries, 0 to 910\n",
      "Data columns (total 5 columns):\n",
      " #   Column            Non-Null Count  Dtype         \n",
      "---  ------            --------------  -----         \n",
      " 0   id_product        911 non-null    int64         \n",
      " 1   order_date        911 non-null    datetime64[ns]\n",
      " 2   product_quantity  911 non-null    float64       \n",
      " 3   product_price     911 non-null    float64       \n",
      " 4   entry_date        911 non-null    datetime64[ns]\n",
      "dtypes: datetime64[ns](2), float64(2), int64(1)\n",
      "memory usage: 35.7 KB\n"
     ]
    }
   ],
   "source": [
    "df.info()"
   ]
  },
  {
   "cell_type": "markdown",
   "metadata": {},
   "source": [
    "Now let's apply some aggregate methods for Datatime object at the given dataset:"
   ]
  },
  {
   "cell_type": "code",
   "execution_count": 388,
   "metadata": {},
   "outputs": [
    {
     "data": {
      "text/plain": [
       "Timestamp('2018-12-04 00:00:00')"
      ]
     },
     "execution_count": 388,
     "metadata": {},
     "output_type": "execute_result"
    }
   ],
   "source": [
    "# Veri tipi datetime olmasına rağmen max,min vs gibi değerleri görebilirim\n",
    "df.entry_date.min()"
   ]
  },
  {
   "cell_type": "code",
   "execution_count": 389,
   "metadata": {},
   "outputs": [
    {
     "data": {
      "text/plain": [
       "Timestamp('2020-11-26 00:00:00')"
      ]
     },
     "execution_count": 389,
     "metadata": {},
     "output_type": "execute_result"
    }
   ],
   "source": [
    "df.entry_date.max()"
   ]
  },
  {
   "cell_type": "code",
   "execution_count": 390,
   "metadata": {},
   "outputs": [
    {
     "data": {
      "text/plain": [
       "Timedelta('723 days 00:00:00')"
      ]
     },
     "execution_count": 390,
     "metadata": {},
     "output_type": "execute_result"
    }
   ],
   "source": [
    "# Bunlar arasında matematiksel işlemler yapabilirim\n",
    "df.entry_date.max() - df.entry_date.min()"
   ]
  },
  {
   "cell_type": "code",
   "execution_count": 392,
   "metadata": {},
   "outputs": [
    {
     "data": {
      "text/plain": [
       "0    15-03-2020\n",
       "1    18-05-2019\n",
       "2    24-07-2018\n",
       "dtype: object"
      ]
     },
     "execution_count": 392,
     "metadata": {},
     "output_type": "execute_result"
    }
   ],
   "source": [
    "# Bir seri oluşturalım ve stringlerde max, min deneyelim\n",
    "a = pd.Series([\"15-03-2020\", \"18-05-2019\", \"24-07-2018\"])\n",
    "a"
   ]
  },
  {
   "cell_type": "code",
   "execution_count": 393,
   "metadata": {},
   "outputs": [
    {
     "data": {
      "text/plain": [
       "'24-07-2018'"
      ]
     },
     "execution_count": 393,
     "metadata": {},
     "output_type": "execute_result"
    }
   ],
   "source": [
    "a.max() # Bu sütun max değil .. ASCY kodlarına göre hangisi büyükse onu aldı\n",
    "# String ifade üzerinde sonuç alabilirsiniz ama bu size sıkıntı çıkartacaktır"
   ]
  },
  {
   "cell_type": "code",
   "execution_count": null,
   "metadata": {},
   "outputs": [],
   "source": [
    "# a.max() - a.min() # Hata . dtype:String olduğu için"
   ]
  },
  {
   "cell_type": "code",
   "execution_count": 396,
   "metadata": {},
   "outputs": [
    {
     "data": {
      "text/plain": [
       "0   2020-03-15\n",
       "1   2019-05-18\n",
       "2   2018-07-24\n",
       "dtype: datetime64[ns]"
      ]
     },
     "execution_count": 396,
     "metadata": {},
     "output_type": "execute_result"
    }
   ],
   "source": [
    "# Başka bir şey gösterelim\n",
    "pd.to_datetime(a,format=\"%d-%m-%Y\") # Benim sana gönderdiğim string ifadeyi \n",
    "# .. formatta yazdığım şekilde algıla dersem o formatta datetime a çevirir"
   ]
  },
  {
   "cell_type": "markdown",
   "metadata": {
    "id": "sJLgGEeiAgbd"
   },
   "source": [
    "### <p style=\"background-color:#9d4f8c; font-family:newtimeroman; color:#FFF9ED; font-size:150%; text-align:LEFT; border-radius:10px 10px;\">Series.dt()</p>\n",
    "\n",
    "<a id=\"2.2\"></a>\n",
    "<a href=\"#toc\" class=\"btn btn-primary btn-sm\" role=\"button\" aria-pressed=\"true\" \n",
    "style=\"color:blue; background-color:#dfa8e4\" data-toggle=\"popover\">Content</a>\n",
    "\n",
    "Accessor object for datetimelike properties of the Series values [SOURCE](https://pandas.pydata.org/docs/reference/api/pandas.Series.dt.html).\n",
    "\n",
    "For a comprehensive information what the datetimelike properties, please visit [Official Pandas API Reference Document](https://pandas.pydata.org/pandas-docs/version/0.22/api.html#datetimelike-properties)"
   ]
  },
  {
   "cell_type": "code",
   "execution_count": 397,
   "metadata": {},
   "outputs": [
    {
     "data": {
      "text/plain": [
       "0     2018-12-04\n",
       "1     2018-12-04\n",
       "2     2018-12-04\n",
       "3     2018-12-04\n",
       "4     2018-12-04\n",
       "         ...    \n",
       "906   2020-10-07\n",
       "907   2020-10-07\n",
       "908   2020-11-13\n",
       "909   2020-11-24\n",
       "910   2020-11-26\n",
       "Name: entry_date, Length: 911, dtype: datetime64[ns]"
      ]
     },
     "execution_count": 397,
     "metadata": {},
     "output_type": "execute_result"
    }
   ],
   "source": [
    "# Datetime a çevrilmiş datalarımız üzerinde çalışalım şimdi\n",
    "df.entry_date"
   ]
  },
  {
   "cell_type": "code",
   "execution_count": 398,
   "metadata": {},
   "outputs": [
    {
     "data": {
      "text/plain": [
       "0      2018\n",
       "1      2018\n",
       "2      2018\n",
       "3      2018\n",
       "4      2018\n",
       "       ... \n",
       "906    2020\n",
       "907    2020\n",
       "908    2020\n",
       "909    2020\n",
       "910    2020\n",
       "Name: entry_date, Length: 911, dtype: int64"
      ]
     },
     "execution_count": 398,
     "metadata": {},
     "output_type": "execute_result"
    }
   ],
   "source": [
    "df.entry_date.dt.year # Sadece yılı aldı\n",
    "# Not: year yerine alttakileri yazabiliriz\n",
    "# it can be date, year, quarter, month, week, day, weekday, dayofweek, hour,\n",
    "# .. minute, second, microsecond, day_name()"
   ]
  },
  {
   "cell_type": "code",
   "execution_count": 401,
   "metadata": {},
   "outputs": [
    {
     "data": {
      "text/plain": [
       "0      4\n",
       "1      4\n",
       "2      4\n",
       "3      4\n",
       "4      4\n",
       "      ..\n",
       "906    4\n",
       "907    4\n",
       "908    4\n",
       "909    4\n",
       "910    4\n",
       "Name: entry_date, Length: 911, dtype: int64"
      ]
     },
     "execution_count": 401,
     "metadata": {},
     "output_type": "execute_result"
    }
   ],
   "source": [
    "df.entry_date.dt.quarter # Hangi çeyreklikte olduğunu aldı dataların"
   ]
  },
  {
   "cell_type": "code",
   "execution_count": 402,
   "metadata": {},
   "outputs": [
    {
     "data": {
      "text/plain": [
       "0      1\n",
       "1      1\n",
       "2      1\n",
       "3      1\n",
       "4      1\n",
       "      ..\n",
       "906    2\n",
       "907    2\n",
       "908    4\n",
       "909    1\n",
       "910    3\n",
       "Name: entry_date, Length: 911, dtype: int64"
      ]
     },
     "execution_count": 402,
     "metadata": {},
     "output_type": "execute_result"
    }
   ],
   "source": [
    "df.entry_date.dt.dayofweek"
   ]
  },
  {
   "cell_type": "code",
   "execution_count": 403,
   "metadata": {},
   "outputs": [
    {
     "data": {
      "text/plain": [
       "0        Tuesday\n",
       "1        Tuesday\n",
       "2        Tuesday\n",
       "3        Tuesday\n",
       "4        Tuesday\n",
       "         ...    \n",
       "906    Wednesday\n",
       "907    Wednesday\n",
       "908       Friday\n",
       "909      Tuesday\n",
       "910     Thursday\n",
       "Name: entry_date, Length: 911, dtype: object"
      ]
     },
     "execution_count": 403,
     "metadata": {},
     "output_type": "execute_result"
    }
   ],
   "source": [
    "df.entry_date.dt.day_name()"
   ]
  },
  {
   "cell_type": "markdown",
   "metadata": {
    "id": "NOCCSjfKAgbe"
   },
   "source": [
    "### <p style=\"background-color:#9d4f8c; font-family:newtimeroman; color:#FFF9ED; font-size:150%; text-align:LEFT; border-radius:10px 10px;\">Datetime Module</p>\n",
    "\n",
    "<a id=\"2.3\"></a>\n",
    "<a href=\"#toc\" class=\"btn btn-primary btn-sm\" role=\"button\" aria-pressed=\"true\" \n",
    "style=\"color:blue; background-color:#dfa8e4\" data-toggle=\"popover\">Content</a>\n",
    "\n",
    "The datetime module supplies classes for manipulating dates and times [SOURCE](https://docs.python.org/3/library/datetime.html).\n",
    "\n",
    "### ``class datetime.datetime``\n",
    "\n",
    "A combination of a date and a time. Attributes: year, month, day, hour, minute, second, microsecond, and tzinfo."
   ]
  },
  {
   "cell_type": "code",
   "execution_count": 404,
   "metadata": {},
   "outputs": [],
   "source": [
    "from datetime import datetime"
   ]
  },
  {
   "cell_type": "code",
   "execution_count": 405,
   "metadata": {},
   "outputs": [
    {
     "data": {
      "text/plain": [
       "datetime.datetime(2022, 5, 11, 22, 39, 2, 300726)"
      ]
     },
     "execution_count": 405,
     "metadata": {},
     "output_type": "execute_result"
    }
   ],
   "source": [
    "datetime.now() # Bilgisayarınızdaki o anki tarih ve saat bilgisini alır"
   ]
  },
  {
   "cell_type": "code",
   "execution_count": 406,
   "metadata": {},
   "outputs": [
    {
     "name": "stdout",
     "output_type": "stream",
     "text": [
      "2022-05-11 22:39:23.046451\n"
     ]
    }
   ],
   "source": [
    "# Daha düzgün bir çıktı istersek\n",
    "print(datetime.now())"
   ]
  },
  {
   "cell_type": "code",
   "execution_count": 407,
   "metadata": {},
   "outputs": [
    {
     "name": "stdout",
     "output_type": "stream",
     "text": [
      "2022-05-11 22:39:35.804394\n"
     ]
    }
   ],
   "source": [
    "print(datetime.today()) # Aynı çıktı"
   ]
  },
  {
   "cell_type": "code",
   "execution_count": 408,
   "metadata": {},
   "outputs": [
    {
     "name": "stdout",
     "output_type": "stream",
     "text": [
      "2022-05-11 22:41:30.931343\n"
     ]
    }
   ],
   "source": [
    "current_datetime = datetime.now()\n",
    "print(current_datetime)"
   ]
  },
  {
   "cell_type": "code",
   "execution_count": 409,
   "metadata": {},
   "outputs": [
    {
     "data": {
      "text/plain": [
       "datetime.date(2022, 5, 11)"
      ]
     },
     "execution_count": 409,
     "metadata": {},
     "output_type": "execute_result"
    }
   ],
   "source": [
    "current_datetime.date() # Bunu bir seride kullanmak isterseniz apply içerisinde\n",
    "# .. yapmak zorunda kalırsınız o yüzden seriler üzerinde \"dt\" kullanmak \n",
    "# .. daha mantıklı olacaktır"
   ]
  },
  {
   "cell_type": "code",
   "execution_count": 413,
   "metadata": {},
   "outputs": [
    {
     "data": {
      "text/plain": [
       "2"
      ]
     },
     "execution_count": 413,
     "metadata": {},
     "output_type": "execute_result"
    }
   ],
   "source": [
    "current_datetime.weekday()   # Haftanın 2. günü\n",
    "# weekday()    : Monday e 0 veriyor"
   ]
  },
  {
   "cell_type": "code",
   "execution_count": 412,
   "metadata": {},
   "outputs": [
    {
     "data": {
      "text/plain": [
       "3"
      ]
     },
     "execution_count": 412,
     "metadata": {},
     "output_type": "execute_result"
    }
   ],
   "source": [
    "current_datetime.isoweekday() # Haftanın 3. günü\n",
    "# isoweekday() : Monday e 1 veriyor"
   ]
  },
  {
   "cell_type": "markdown",
   "metadata": {
    "id": "FQWezRPZAgbh"
   },
   "source": [
    "### ``class datetime.timedelta``\n",
    "\n",
    "A duration expressing the difference between two date, time, or datetime instances to microsecond resolution [SOURCE](https://www.geeksforgeeks.org/manipulate-date-and-time-with-the-datetime-module-in-python/)."
   ]
  },
  {
   "cell_type": "code",
   "execution_count": 414,
   "metadata": {},
   "outputs": [],
   "source": [
    "from datetime import timedelta"
   ]
  },
  {
   "cell_type": "code",
   "execution_count": 415,
   "metadata": {},
   "outputs": [
    {
     "data": {
      "text/plain": [
       "datetime.timedelta(days=2)"
      ]
     },
     "execution_count": 415,
     "metadata": {},
     "output_type": "execute_result"
    }
   ],
   "source": [
    "timedelta(days=2) # Docstring e bakarak parametreleri girebiliriz. \n",
    "# Biz sadece day yazdık"
   ]
  },
  {
   "cell_type": "code",
   "execution_count": 416,
   "metadata": {},
   "outputs": [
    {
     "data": {
      "text/plain": [
       "datetime.datetime(2022, 5, 11, 22, 41, 30, 931343)"
      ]
     },
     "execution_count": 416,
     "metadata": {},
     "output_type": "execute_result"
    }
   ],
   "source": [
    "current_datetime"
   ]
  },
  {
   "cell_type": "code",
   "execution_count": 417,
   "metadata": {},
   "outputs": [
    {
     "data": {
      "text/plain": [
       "datetime.datetime(2022, 5, 9, 22, 41, 30, 931343)"
      ]
     },
     "execution_count": 417,
     "metadata": {},
     "output_type": "execute_result"
    }
   ],
   "source": [
    "two_days_before = current_datetime - timedelta(days=2) #Bugünden 2 gün çıkardım\n",
    "two_days_before\n",
    "# Hoca: Analiz firmasında çalışırsanız böyle şeyler kullanabilirsiniz\n",
    "# .. Mesela: 2 gün öncesindeki değerle kıyasla.. gibi.."
   ]
  },
  {
   "cell_type": "code",
   "execution_count": 418,
   "metadata": {},
   "outputs": [
    {
     "data": {
      "text/plain": [
       "datetime.datetime(2022, 5, 29, 2, 51, 30, 931343)"
      ]
     },
     "execution_count": 418,
     "metadata": {},
     "output_type": "execute_result"
    }
   ],
   "source": [
    "current_datetime + timedelta(weeks=2, days=3, hours=4, minutes=10)\n",
    "# 2 hafta 3 gün 4 saat 10 dk sonrasına baktık"
   ]
  },
  {
   "cell_type": "code",
   "execution_count": 419,
   "metadata": {},
   "outputs": [
    {
     "name": "stdout",
     "output_type": "stream",
     "text": [
      "current_date    2022-05-11 22:41:30.931343\n",
      "plus            14 days, 4:10:00\n",
      "total           2022-05-29 02:51:30.931343\n"
     ]
    }
   ],
   "source": [
    "# Yukarda yaptıklarımızın düzgün şekilde gözüken özeti\n",
    "print(f\"{'current_date': <15}\", current_datetime)\n",
    "print(f\"{'plus': <15}\", timedelta(weeks=2, hours=4, minutes=10))\n",
    "print(f\"{'total': <15}\", current_datetime + timedelta(weeks=2, days=3, hours=4, minutes=10))"
   ]
  },
  {
   "cell_type": "code",
   "execution_count": 420,
   "metadata": {},
   "outputs": [
    {
     "data": {
      "text/plain": [
       "Timedelta('15269 days 22:51:54.084148')"
      ]
     },
     "execution_count": 420,
     "metadata": {},
     "output_type": "execute_result"
    }
   ],
   "source": [
    "# Genel bir örnek\n",
    "datetime.now()-pd.to_datetime(\"21.07.1980\") # Steve hocanın yaşadığı gün sayısı"
   ]
  },
  {
   "cell_type": "markdown",
   "metadata": {
    "id": "YRflJN_MAgbj"
   },
   "source": [
    "### ``strftime()``\n",
    "\n",
    "**Converting** from date/datetime/timedelta object **to string type** [SOURCE](https://strftime.org/)"
   ]
  },
  {
   "cell_type": "code",
   "execution_count": 421,
   "metadata": {},
   "outputs": [
    {
     "name": "stdout",
     "output_type": "stream",
     "text": [
      "2022-05-11 22:41:30.931343\n"
     ]
    }
   ],
   "source": [
    "print(current_datetime)"
   ]
  },
  {
   "cell_type": "code",
   "execution_count": 422,
   "metadata": {},
   "outputs": [
    {
     "data": {
      "text/plain": [
       "2022"
      ]
     },
     "execution_count": 422,
     "metadata": {},
     "output_type": "execute_result"
    }
   ],
   "source": [
    "current_datetime.year # .year diyebiliyorduk. Veri tipine bakarsak;"
   ]
  },
  {
   "cell_type": "code",
   "execution_count": 423,
   "metadata": {},
   "outputs": [
    {
     "data": {
      "text/plain": [
       "int"
      ]
     },
     "execution_count": 423,
     "metadata": {},
     "output_type": "execute_result"
    }
   ],
   "source": [
    "type(current_datetime.year) # int"
   ]
  },
  {
   "cell_type": "markdown",
   "metadata": {},
   "source": [
    "**Watch out the difference.**"
   ]
  },
  {
   "cell_type": "code",
   "execution_count": 425,
   "metadata": {},
   "outputs": [
    {
     "data": {
      "text/plain": [
       "'2022'"
      ]
     },
     "execution_count": 425,
     "metadata": {},
     "output_type": "execute_result"
    }
   ],
   "source": [
    "current_datetime.strftime(\"%Y\") # Sadece içinden yıl alsın. Üstteki çıktıyı\n",
    "# .. string olarak alıyorum"
   ]
  },
  {
   "cell_type": "code",
   "execution_count": 424,
   "metadata": {},
   "outputs": [
    {
     "data": {
      "text/plain": [
       "str"
      ]
     },
     "execution_count": 424,
     "metadata": {},
     "output_type": "execute_result"
    }
   ],
   "source": [
    "type(current_datetime.strftime(\"%Y\"))"
   ]
  },
  {
   "cell_type": "code",
   "execution_count": null,
   "metadata": {},
   "outputs": [],
   "source": [
    "# Sonuç olarak amacınıza uygun olarak hangisini(Hangi veri tipini)\n",
    "# .. kullanacağımıza karar vereceğiz çalışmalarımızda"
   ]
  },
  {
   "cell_type": "code",
   "execution_count": 426,
   "metadata": {},
   "outputs": [
    {
     "name": "stdout",
     "output_type": "stream",
     "text": [
      "year: 2022\n",
      "month: 05\n",
      "day: 11\n",
      "time: 22:41:30\n",
      "date and time: 05/11/2022, 22:41:30\n"
     ]
    }
   ],
   "source": [
    "# Özet ve Örnek\n",
    "year = current_datetime.strftime(\"%Y\")\n",
    "print(\"year:\", year)\n",
    "month = current_datetime.strftime(\"%m\")\n",
    "print(\"month:\", month)\n",
    "day = current_datetime.strftime(\"%d\")\n",
    "print(\"day:\", day)\n",
    "time = current_datetime.strftime(\"%H:%M:%S\")\n",
    "print(\"time:\", time)\n",
    "date_time = current_datetime.strftime(\"%m/%d/%Y, %H:%M:%S\")\n",
    "print(\"date and time:\", date_time)\n",
    "# Bunu her türlü analizi yaptıktan sonra sunum safhasında hangi ülkede\n",
    "# .. sunum yapacaksanız o ülkenin anlayacağı şekle göre tarihi \n",
    "# .. değiştirebilirsiniz mesela çalışmalarınızda"
   ]
  },
  {
   "cell_type": "markdown",
   "metadata": {
    "id": "N95SRJrdAgbl"
   },
   "source": [
    "### strptime()\n",
    "\n",
    "**Converting** from string type **to datetime object**"
   ]
  },
  {
   "cell_type": "code",
   "execution_count": 428,
   "metadata": {},
   "outputs": [
    {
     "data": {
      "text/plain": [
       "'21 June, 2018'"
      ]
     },
     "execution_count": 428,
     "metadata": {},
     "output_type": "execute_result"
    }
   ],
   "source": [
    "date_string = \"21 June, 2018\" # String\n",
    "date_string"
   ]
  },
  {
   "cell_type": "code",
   "execution_count": 429,
   "metadata": {},
   "outputs": [
    {
     "data": {
      "text/plain": [
       "datetime.datetime(2018, 6, 21, 0, 0)"
      ]
     },
     "execution_count": 429,
     "metadata": {},
     "output_type": "execute_result"
    }
   ],
   "source": [
    "datetime.strptime(date_string,\"%d %B, %Y\") # strptime ile datetime a çevirebilirim ama\n",
    "# .. formatını vermem gerekli\n",
    "# datetime.strptime(date_string,\"%d %B %Y\") # HATA. Virgülü koymadığım için\n",
    "# .. match olmadığı yani aynı formatı vermemiz lazım içine."
   ]
  },
  {
   "cell_type": "code",
   "execution_count": null,
   "metadata": {},
   "outputs": [],
   "source": []
  },
  {
   "cell_type": "markdown",
   "metadata": {
    "id": "55c9Nc5JAgbm"
   },
   "source": [
    "## <p style=\"background-color:#9d4f8c; font-family:newtimeroman; color:#FFF9ED; font-size:175%; text-align:center; border-radius:10px 10px;\">Operation with Datetime Object</p>\n",
    "\n",
    "<a id=\"3\"></a>\n",
    "<a href=\"#toc\" class=\"btn btn-primary btn-sm\" role=\"button\" aria-pressed=\"true\" \n",
    "style=\"color:blue; background-color:#dfa8e4\" data-toggle=\"popover\">Content</a>"
   ]
  },
  {
   "cell_type": "code",
   "execution_count": 432,
   "metadata": {},
   "outputs": [
    {
     "data": {
      "text/html": [
       "<div>\n",
       "<style scoped>\n",
       "    .dataframe tbody tr th:only-of-type {\n",
       "        vertical-align: middle;\n",
       "    }\n",
       "\n",
       "    .dataframe tbody tr th {\n",
       "        vertical-align: top;\n",
       "    }\n",
       "\n",
       "    .dataframe thead th {\n",
       "        text-align: right;\n",
       "    }\n",
       "</style>\n",
       "<table border=\"1\" class=\"dataframe\">\n",
       "  <thead>\n",
       "    <tr style=\"text-align: right;\">\n",
       "      <th></th>\n",
       "      <th>id_product</th>\n",
       "      <th>order_date</th>\n",
       "      <th>product_quantity</th>\n",
       "      <th>product_price</th>\n",
       "      <th>entry_date</th>\n",
       "    </tr>\n",
       "  </thead>\n",
       "  <tbody>\n",
       "    <tr>\n",
       "      <th>0</th>\n",
       "      <td>401</td>\n",
       "      <td>2021-01-23</td>\n",
       "      <td>1.0</td>\n",
       "      <td>541.487603</td>\n",
       "      <td>2018-12-04</td>\n",
       "    </tr>\n",
       "    <tr>\n",
       "      <th>1</th>\n",
       "      <td>416</td>\n",
       "      <td>2020-04-02</td>\n",
       "      <td>1.0</td>\n",
       "      <td>131.181818</td>\n",
       "      <td>2018-12-04</td>\n",
       "    </tr>\n",
       "    <tr>\n",
       "      <th>2</th>\n",
       "      <td>717</td>\n",
       "      <td>2019-03-10</td>\n",
       "      <td>1.0</td>\n",
       "      <td>2035.488500</td>\n",
       "      <td>2018-12-04</td>\n",
       "    </tr>\n",
       "    <tr>\n",
       "      <th>3</th>\n",
       "      <td>778</td>\n",
       "      <td>2019-12-27</td>\n",
       "      <td>1.0</td>\n",
       "      <td>335.988000</td>\n",
       "      <td>2018-12-04</td>\n",
       "    </tr>\n",
       "    <tr>\n",
       "      <th>4</th>\n",
       "      <td>826</td>\n",
       "      <td>2020-02-19</td>\n",
       "      <td>1.0</td>\n",
       "      <td>342.292302</td>\n",
       "      <td>2018-12-04</td>\n",
       "    </tr>\n",
       "    <tr>\n",
       "      <th>...</th>\n",
       "      <td>...</td>\n",
       "      <td>...</td>\n",
       "      <td>...</td>\n",
       "      <td>...</td>\n",
       "      <td>...</td>\n",
       "    </tr>\n",
       "    <tr>\n",
       "      <th>906</th>\n",
       "      <td>1536842</td>\n",
       "      <td>2020-11-24</td>\n",
       "      <td>1.0</td>\n",
       "      <td>1186.776860</td>\n",
       "      <td>2020-10-07</td>\n",
       "    </tr>\n",
       "    <tr>\n",
       "      <th>907</th>\n",
       "      <td>1536842</td>\n",
       "      <td>2020-11-24</td>\n",
       "      <td>1.0</td>\n",
       "      <td>1186.776860</td>\n",
       "      <td>2020-10-07</td>\n",
       "    </tr>\n",
       "    <tr>\n",
       "      <th>908</th>\n",
       "      <td>1536887</td>\n",
       "      <td>2020-11-22</td>\n",
       "      <td>1.0</td>\n",
       "      <td>0.000000</td>\n",
       "      <td>2020-11-13</td>\n",
       "    </tr>\n",
       "    <tr>\n",
       "      <th>909</th>\n",
       "      <td>1536952</td>\n",
       "      <td>2021-01-26</td>\n",
       "      <td>1.0</td>\n",
       "      <td>988.429752</td>\n",
       "      <td>2020-11-24</td>\n",
       "    </tr>\n",
       "    <tr>\n",
       "      <th>910</th>\n",
       "      <td>1536974</td>\n",
       "      <td>2020-12-06</td>\n",
       "      <td>1.0</td>\n",
       "      <td>0.000000</td>\n",
       "      <td>2020-11-26</td>\n",
       "    </tr>\n",
       "  </tbody>\n",
       "</table>\n",
       "<p>911 rows × 5 columns</p>\n",
       "</div>"
      ],
      "text/plain": [
       "     id_product order_date  product_quantity  product_price entry_date\n",
       "0           401 2021-01-23               1.0     541.487603 2018-12-04\n",
       "1           416 2020-04-02               1.0     131.181818 2018-12-04\n",
       "2           717 2019-03-10               1.0    2035.488500 2018-12-04\n",
       "3           778 2019-12-27               1.0     335.988000 2018-12-04\n",
       "4           826 2020-02-19               1.0     342.292302 2018-12-04\n",
       "..          ...        ...               ...            ...        ...\n",
       "906     1536842 2020-11-24               1.0    1186.776860 2020-10-07\n",
       "907     1536842 2020-11-24               1.0    1186.776860 2020-10-07\n",
       "908     1536887 2020-11-22               1.0       0.000000 2020-11-13\n",
       "909     1536952 2021-01-26               1.0     988.429752 2020-11-24\n",
       "910     1536974 2020-12-06               1.0       0.000000 2020-11-26\n",
       "\n",
       "[911 rows x 5 columns]"
      ]
     },
     "execution_count": 432,
     "metadata": {},
     "output_type": "execute_result"
    }
   ],
   "source": [
    "df\n",
    "# HOCA: Gerçek dünyada iş verenin sorduğu 2 soruyu nasıl\n",
    "# .. cevaplandırdığımı göstereyim"
   ]
  },
  {
   "cell_type": "markdown",
   "metadata": {
    "id": "2ZJRyxn7Agbn"
   },
   "source": [
    "## Let's detect the time between first order date and entry date for each product"
   ]
  },
  {
   "cell_type": "code",
   "execution_count": null,
   "metadata": {},
   "outputs": [],
   "source": [
    "# Not: Order_date ler unique değil"
   ]
  },
  {
   "cell_type": "markdown",
   "metadata": {},
   "source": [
    "**Let us do it by string methods**"
   ]
  },
  {
   "cell_type": "code",
   "execution_count": 434,
   "metadata": {},
   "outputs": [
    {
     "data": {
      "text/plain": [
       "0     781 days\n",
       "1     485 days\n",
       "2      96 days\n",
       "3     388 days\n",
       "4     442 days\n",
       "        ...   \n",
       "906    48 days\n",
       "907    48 days\n",
       "908     9 days\n",
       "909    63 days\n",
       "910    10 days\n",
       "Length: 911, dtype: timedelta64[ns]"
      ]
     },
     "execution_count": 434,
     "metadata": {},
     "output_type": "execute_result"
    }
   ],
   "source": [
    "df.order_date - df.entry_date # 911 satır\n",
    "# Bunu bir değişkenle df e koyayım elimde kalsın bu"
   ]
  },
  {
   "cell_type": "code",
   "execution_count": 435,
   "metadata": {},
   "outputs": [
    {
     "data": {
      "text/html": [
       "<div>\n",
       "<style scoped>\n",
       "    .dataframe tbody tr th:only-of-type {\n",
       "        vertical-align: middle;\n",
       "    }\n",
       "\n",
       "    .dataframe tbody tr th {\n",
       "        vertical-align: top;\n",
       "    }\n",
       "\n",
       "    .dataframe thead th {\n",
       "        text-align: right;\n",
       "    }\n",
       "</style>\n",
       "<table border=\"1\" class=\"dataframe\">\n",
       "  <thead>\n",
       "    <tr style=\"text-align: right;\">\n",
       "      <th></th>\n",
       "      <th>id_product</th>\n",
       "      <th>order_date</th>\n",
       "      <th>product_quantity</th>\n",
       "      <th>product_price</th>\n",
       "      <th>entry_date</th>\n",
       "      <th>time_delta</th>\n",
       "    </tr>\n",
       "  </thead>\n",
       "  <tbody>\n",
       "    <tr>\n",
       "      <th>0</th>\n",
       "      <td>401</td>\n",
       "      <td>2021-01-23</td>\n",
       "      <td>1.0</td>\n",
       "      <td>541.487603</td>\n",
       "      <td>2018-12-04</td>\n",
       "      <td>781 days</td>\n",
       "    </tr>\n",
       "    <tr>\n",
       "      <th>1</th>\n",
       "      <td>416</td>\n",
       "      <td>2020-04-02</td>\n",
       "      <td>1.0</td>\n",
       "      <td>131.181818</td>\n",
       "      <td>2018-12-04</td>\n",
       "      <td>485 days</td>\n",
       "    </tr>\n",
       "    <tr>\n",
       "      <th>2</th>\n",
       "      <td>717</td>\n",
       "      <td>2019-03-10</td>\n",
       "      <td>1.0</td>\n",
       "      <td>2035.488500</td>\n",
       "      <td>2018-12-04</td>\n",
       "      <td>96 days</td>\n",
       "    </tr>\n",
       "    <tr>\n",
       "      <th>3</th>\n",
       "      <td>778</td>\n",
       "      <td>2019-12-27</td>\n",
       "      <td>1.0</td>\n",
       "      <td>335.988000</td>\n",
       "      <td>2018-12-04</td>\n",
       "      <td>388 days</td>\n",
       "    </tr>\n",
       "    <tr>\n",
       "      <th>4</th>\n",
       "      <td>826</td>\n",
       "      <td>2020-02-19</td>\n",
       "      <td>1.0</td>\n",
       "      <td>342.292302</td>\n",
       "      <td>2018-12-04</td>\n",
       "      <td>442 days</td>\n",
       "    </tr>\n",
       "    <tr>\n",
       "      <th>...</th>\n",
       "      <td>...</td>\n",
       "      <td>...</td>\n",
       "      <td>...</td>\n",
       "      <td>...</td>\n",
       "      <td>...</td>\n",
       "      <td>...</td>\n",
       "    </tr>\n",
       "    <tr>\n",
       "      <th>906</th>\n",
       "      <td>1536842</td>\n",
       "      <td>2020-11-24</td>\n",
       "      <td>1.0</td>\n",
       "      <td>1186.776860</td>\n",
       "      <td>2020-10-07</td>\n",
       "      <td>48 days</td>\n",
       "    </tr>\n",
       "    <tr>\n",
       "      <th>907</th>\n",
       "      <td>1536842</td>\n",
       "      <td>2020-11-24</td>\n",
       "      <td>1.0</td>\n",
       "      <td>1186.776860</td>\n",
       "      <td>2020-10-07</td>\n",
       "      <td>48 days</td>\n",
       "    </tr>\n",
       "    <tr>\n",
       "      <th>908</th>\n",
       "      <td>1536887</td>\n",
       "      <td>2020-11-22</td>\n",
       "      <td>1.0</td>\n",
       "      <td>0.000000</td>\n",
       "      <td>2020-11-13</td>\n",
       "      <td>9 days</td>\n",
       "    </tr>\n",
       "    <tr>\n",
       "      <th>909</th>\n",
       "      <td>1536952</td>\n",
       "      <td>2021-01-26</td>\n",
       "      <td>1.0</td>\n",
       "      <td>988.429752</td>\n",
       "      <td>2020-11-24</td>\n",
       "      <td>63 days</td>\n",
       "    </tr>\n",
       "    <tr>\n",
       "      <th>910</th>\n",
       "      <td>1536974</td>\n",
       "      <td>2020-12-06</td>\n",
       "      <td>1.0</td>\n",
       "      <td>0.000000</td>\n",
       "      <td>2020-11-26</td>\n",
       "      <td>10 days</td>\n",
       "    </tr>\n",
       "  </tbody>\n",
       "</table>\n",
       "<p>911 rows × 6 columns</p>\n",
       "</div>"
      ],
      "text/plain": [
       "     id_product order_date  product_quantity  product_price entry_date  \\\n",
       "0           401 2021-01-23               1.0     541.487603 2018-12-04   \n",
       "1           416 2020-04-02               1.0     131.181818 2018-12-04   \n",
       "2           717 2019-03-10               1.0    2035.488500 2018-12-04   \n",
       "3           778 2019-12-27               1.0     335.988000 2018-12-04   \n",
       "4           826 2020-02-19               1.0     342.292302 2018-12-04   \n",
       "..          ...        ...               ...            ...        ...   \n",
       "906     1536842 2020-11-24               1.0    1186.776860 2020-10-07   \n",
       "907     1536842 2020-11-24               1.0    1186.776860 2020-10-07   \n",
       "908     1536887 2020-11-22               1.0       0.000000 2020-11-13   \n",
       "909     1536952 2021-01-26               1.0     988.429752 2020-11-24   \n",
       "910     1536974 2020-12-06               1.0       0.000000 2020-11-26   \n",
       "\n",
       "    time_delta  \n",
       "0     781 days  \n",
       "1     485 days  \n",
       "2      96 days  \n",
       "3     388 days  \n",
       "4     442 days  \n",
       "..         ...  \n",
       "906    48 days  \n",
       "907    48 days  \n",
       "908     9 days  \n",
       "909    63 days  \n",
       "910    10 days  \n",
       "\n",
       "[911 rows x 6 columns]"
      ]
     },
     "execution_count": 435,
     "metadata": {},
     "output_type": "execute_result"
    }
   ],
   "source": [
    "df[\"time_delta\"] = df.order_date - df.entry_date\n",
    "df"
   ]
  },
  {
   "cell_type": "code",
   "execution_count": 436,
   "metadata": {},
   "outputs": [
    {
     "data": {
      "text/plain": [
       "0      781\n",
       "1      485\n",
       "2       96\n",
       "3      388\n",
       "4      442\n",
       "      ... \n",
       "906     48\n",
       "907     48\n",
       "908      9\n",
       "909     63\n",
       "910     10\n",
       "Name: time_delta, Length: 911, dtype: int32"
      ]
     },
     "execution_count": 436,
     "metadata": {},
     "output_type": "execute_result"
    }
   ],
   "source": [
    "# Şimdi ilk başta şunu yapmam lazım. time_deltayı sayısal değere çevirmem\n",
    "# .. lazım çünkü onun üzerinde işlem yapacağım\n",
    "# df.time_delta.str.split() # HATA. (Normalde bölüp ilk indexi(sayıları) alacaktım)\n",
    "df.time_delta.astype(\"str\").str.split().str[0].astype(\"int\")\n",
    "# string e çevirip 0. elemanları alıp sonra string olarak kalmasını istemediğim \n",
    "# ..için tekrar integer a çeviriyorum. Bunu kalıcı yapayım"
   ]
  },
  {
   "cell_type": "code",
   "execution_count": 437,
   "metadata": {},
   "outputs": [
    {
     "data": {
      "text/html": [
       "<div>\n",
       "<style scoped>\n",
       "    .dataframe tbody tr th:only-of-type {\n",
       "        vertical-align: middle;\n",
       "    }\n",
       "\n",
       "    .dataframe tbody tr th {\n",
       "        vertical-align: top;\n",
       "    }\n",
       "\n",
       "    .dataframe thead th {\n",
       "        text-align: right;\n",
       "    }\n",
       "</style>\n",
       "<table border=\"1\" class=\"dataframe\">\n",
       "  <thead>\n",
       "    <tr style=\"text-align: right;\">\n",
       "      <th></th>\n",
       "      <th>id_product</th>\n",
       "      <th>order_date</th>\n",
       "      <th>product_quantity</th>\n",
       "      <th>product_price</th>\n",
       "      <th>entry_date</th>\n",
       "      <th>time_delta</th>\n",
       "    </tr>\n",
       "  </thead>\n",
       "  <tbody>\n",
       "    <tr>\n",
       "      <th>0</th>\n",
       "      <td>401</td>\n",
       "      <td>2021-01-23</td>\n",
       "      <td>1.0</td>\n",
       "      <td>541.487603</td>\n",
       "      <td>2018-12-04</td>\n",
       "      <td>781</td>\n",
       "    </tr>\n",
       "    <tr>\n",
       "      <th>1</th>\n",
       "      <td>416</td>\n",
       "      <td>2020-04-02</td>\n",
       "      <td>1.0</td>\n",
       "      <td>131.181818</td>\n",
       "      <td>2018-12-04</td>\n",
       "      <td>485</td>\n",
       "    </tr>\n",
       "    <tr>\n",
       "      <th>2</th>\n",
       "      <td>717</td>\n",
       "      <td>2019-03-10</td>\n",
       "      <td>1.0</td>\n",
       "      <td>2035.488500</td>\n",
       "      <td>2018-12-04</td>\n",
       "      <td>96</td>\n",
       "    </tr>\n",
       "    <tr>\n",
       "      <th>3</th>\n",
       "      <td>778</td>\n",
       "      <td>2019-12-27</td>\n",
       "      <td>1.0</td>\n",
       "      <td>335.988000</td>\n",
       "      <td>2018-12-04</td>\n",
       "      <td>388</td>\n",
       "    </tr>\n",
       "    <tr>\n",
       "      <th>4</th>\n",
       "      <td>826</td>\n",
       "      <td>2020-02-19</td>\n",
       "      <td>1.0</td>\n",
       "      <td>342.292302</td>\n",
       "      <td>2018-12-04</td>\n",
       "      <td>442</td>\n",
       "    </tr>\n",
       "    <tr>\n",
       "      <th>...</th>\n",
       "      <td>...</td>\n",
       "      <td>...</td>\n",
       "      <td>...</td>\n",
       "      <td>...</td>\n",
       "      <td>...</td>\n",
       "      <td>...</td>\n",
       "    </tr>\n",
       "    <tr>\n",
       "      <th>906</th>\n",
       "      <td>1536842</td>\n",
       "      <td>2020-11-24</td>\n",
       "      <td>1.0</td>\n",
       "      <td>1186.776860</td>\n",
       "      <td>2020-10-07</td>\n",
       "      <td>48</td>\n",
       "    </tr>\n",
       "    <tr>\n",
       "      <th>907</th>\n",
       "      <td>1536842</td>\n",
       "      <td>2020-11-24</td>\n",
       "      <td>1.0</td>\n",
       "      <td>1186.776860</td>\n",
       "      <td>2020-10-07</td>\n",
       "      <td>48</td>\n",
       "    </tr>\n",
       "    <tr>\n",
       "      <th>908</th>\n",
       "      <td>1536887</td>\n",
       "      <td>2020-11-22</td>\n",
       "      <td>1.0</td>\n",
       "      <td>0.000000</td>\n",
       "      <td>2020-11-13</td>\n",
       "      <td>9</td>\n",
       "    </tr>\n",
       "    <tr>\n",
       "      <th>909</th>\n",
       "      <td>1536952</td>\n",
       "      <td>2021-01-26</td>\n",
       "      <td>1.0</td>\n",
       "      <td>988.429752</td>\n",
       "      <td>2020-11-24</td>\n",
       "      <td>63</td>\n",
       "    </tr>\n",
       "    <tr>\n",
       "      <th>910</th>\n",
       "      <td>1536974</td>\n",
       "      <td>2020-12-06</td>\n",
       "      <td>1.0</td>\n",
       "      <td>0.000000</td>\n",
       "      <td>2020-11-26</td>\n",
       "      <td>10</td>\n",
       "    </tr>\n",
       "  </tbody>\n",
       "</table>\n",
       "<p>911 rows × 6 columns</p>\n",
       "</div>"
      ],
      "text/plain": [
       "     id_product order_date  product_quantity  product_price entry_date  \\\n",
       "0           401 2021-01-23               1.0     541.487603 2018-12-04   \n",
       "1           416 2020-04-02               1.0     131.181818 2018-12-04   \n",
       "2           717 2019-03-10               1.0    2035.488500 2018-12-04   \n",
       "3           778 2019-12-27               1.0     335.988000 2018-12-04   \n",
       "4           826 2020-02-19               1.0     342.292302 2018-12-04   \n",
       "..          ...        ...               ...            ...        ...   \n",
       "906     1536842 2020-11-24               1.0    1186.776860 2020-10-07   \n",
       "907     1536842 2020-11-24               1.0    1186.776860 2020-10-07   \n",
       "908     1536887 2020-11-22               1.0       0.000000 2020-11-13   \n",
       "909     1536952 2021-01-26               1.0     988.429752 2020-11-24   \n",
       "910     1536974 2020-12-06               1.0       0.000000 2020-11-26   \n",
       "\n",
       "     time_delta  \n",
       "0           781  \n",
       "1           485  \n",
       "2            96  \n",
       "3           388  \n",
       "4           442  \n",
       "..          ...  \n",
       "906          48  \n",
       "907          48  \n",
       "908           9  \n",
       "909          63  \n",
       "910          10  \n",
       "\n",
       "[911 rows x 6 columns]"
      ]
     },
     "execution_count": 437,
     "metadata": {},
     "output_type": "execute_result"
    }
   ],
   "source": [
    "df[\"time_delta\"] = df.time_delta.astype(\"str\").str.split().str[0].astype(\"int\")\n",
    "df"
   ]
  },
  {
   "cell_type": "code",
   "execution_count": 438,
   "metadata": {},
   "outputs": [
    {
     "data": {
      "text/plain": [
       "id_product\n",
       "401        781\n",
       "416        485\n",
       "717         96\n",
       "778        388\n",
       "826        442\n",
       "          ... \n",
       "1536841     38\n",
       "1536842     48\n",
       "1536887      9\n",
       "1536952     63\n",
       "1536974     10\n",
       "Name: time_delta, Length: 498, dtype: int32"
      ]
     },
     "execution_count": 438,
     "metadata": {},
     "output_type": "execute_result"
    }
   ],
   "source": [
    "df.groupby(\"id_product\")[\"time_delta\"].min()\n",
    "# Çıktıda 401 no lu ürün için 781 gün vs gibi değerler var\n",
    "# 498 satır var, benim satır sayım ile uyuşmuyor. Bunu çözmek için\n",
    "# .. \"transform\" ile bu işlemi yapmalıyız"
   ]
  },
  {
   "cell_type": "code",
   "execution_count": 439,
   "metadata": {},
   "outputs": [
    {
     "data": {
      "text/plain": [
       "0      781\n",
       "1      485\n",
       "2       96\n",
       "3      388\n",
       "4      442\n",
       "      ... \n",
       "906     48\n",
       "907     48\n",
       "908      9\n",
       "909     63\n",
       "910     10\n",
       "Name: time_delta, Length: 911, dtype: int32"
      ]
     },
     "execution_count": 439,
     "metadata": {},
     "output_type": "execute_result"
    }
   ],
   "source": [
    "df.groupby(\"id_product\")[\"time_delta\"].transform(min)\n",
    "# her 401 gördüğü yere 781 yazacak, her 416 gördüğü yere 485 yazacak vs vs"
   ]
  },
  {
   "cell_type": "code",
   "execution_count": 440,
   "metadata": {},
   "outputs": [
    {
     "data": {
      "text/html": [
       "<div>\n",
       "<style scoped>\n",
       "    .dataframe tbody tr th:only-of-type {\n",
       "        vertical-align: middle;\n",
       "    }\n",
       "\n",
       "    .dataframe tbody tr th {\n",
       "        vertical-align: top;\n",
       "    }\n",
       "\n",
       "    .dataframe thead th {\n",
       "        text-align: right;\n",
       "    }\n",
       "</style>\n",
       "<table border=\"1\" class=\"dataframe\">\n",
       "  <thead>\n",
       "    <tr style=\"text-align: right;\">\n",
       "      <th></th>\n",
       "      <th>id_product</th>\n",
       "      <th>order_date</th>\n",
       "      <th>product_quantity</th>\n",
       "      <th>product_price</th>\n",
       "      <th>entry_date</th>\n",
       "      <th>time_delta</th>\n",
       "      <th>passing_time_to_firstsale</th>\n",
       "    </tr>\n",
       "  </thead>\n",
       "  <tbody>\n",
       "    <tr>\n",
       "      <th>0</th>\n",
       "      <td>401</td>\n",
       "      <td>2021-01-23</td>\n",
       "      <td>1.0</td>\n",
       "      <td>541.487603</td>\n",
       "      <td>2018-12-04</td>\n",
       "      <td>781</td>\n",
       "      <td>781</td>\n",
       "    </tr>\n",
       "    <tr>\n",
       "      <th>1</th>\n",
       "      <td>416</td>\n",
       "      <td>2020-04-02</td>\n",
       "      <td>1.0</td>\n",
       "      <td>131.181818</td>\n",
       "      <td>2018-12-04</td>\n",
       "      <td>485</td>\n",
       "      <td>485</td>\n",
       "    </tr>\n",
       "    <tr>\n",
       "      <th>2</th>\n",
       "      <td>717</td>\n",
       "      <td>2019-03-10</td>\n",
       "      <td>1.0</td>\n",
       "      <td>2035.488500</td>\n",
       "      <td>2018-12-04</td>\n",
       "      <td>96</td>\n",
       "      <td>96</td>\n",
       "    </tr>\n",
       "    <tr>\n",
       "      <th>3</th>\n",
       "      <td>778</td>\n",
       "      <td>2019-12-27</td>\n",
       "      <td>1.0</td>\n",
       "      <td>335.988000</td>\n",
       "      <td>2018-12-04</td>\n",
       "      <td>388</td>\n",
       "      <td>388</td>\n",
       "    </tr>\n",
       "    <tr>\n",
       "      <th>4</th>\n",
       "      <td>826</td>\n",
       "      <td>2020-02-19</td>\n",
       "      <td>1.0</td>\n",
       "      <td>342.292302</td>\n",
       "      <td>2018-12-04</td>\n",
       "      <td>442</td>\n",
       "      <td>442</td>\n",
       "    </tr>\n",
       "    <tr>\n",
       "      <th>...</th>\n",
       "      <td>...</td>\n",
       "      <td>...</td>\n",
       "      <td>...</td>\n",
       "      <td>...</td>\n",
       "      <td>...</td>\n",
       "      <td>...</td>\n",
       "      <td>...</td>\n",
       "    </tr>\n",
       "    <tr>\n",
       "      <th>906</th>\n",
       "      <td>1536842</td>\n",
       "      <td>2020-11-24</td>\n",
       "      <td>1.0</td>\n",
       "      <td>1186.776860</td>\n",
       "      <td>2020-10-07</td>\n",
       "      <td>48</td>\n",
       "      <td>48</td>\n",
       "    </tr>\n",
       "    <tr>\n",
       "      <th>907</th>\n",
       "      <td>1536842</td>\n",
       "      <td>2020-11-24</td>\n",
       "      <td>1.0</td>\n",
       "      <td>1186.776860</td>\n",
       "      <td>2020-10-07</td>\n",
       "      <td>48</td>\n",
       "      <td>48</td>\n",
       "    </tr>\n",
       "    <tr>\n",
       "      <th>908</th>\n",
       "      <td>1536887</td>\n",
       "      <td>2020-11-22</td>\n",
       "      <td>1.0</td>\n",
       "      <td>0.000000</td>\n",
       "      <td>2020-11-13</td>\n",
       "      <td>9</td>\n",
       "      <td>9</td>\n",
       "    </tr>\n",
       "    <tr>\n",
       "      <th>909</th>\n",
       "      <td>1536952</td>\n",
       "      <td>2021-01-26</td>\n",
       "      <td>1.0</td>\n",
       "      <td>988.429752</td>\n",
       "      <td>2020-11-24</td>\n",
       "      <td>63</td>\n",
       "      <td>63</td>\n",
       "    </tr>\n",
       "    <tr>\n",
       "      <th>910</th>\n",
       "      <td>1536974</td>\n",
       "      <td>2020-12-06</td>\n",
       "      <td>1.0</td>\n",
       "      <td>0.000000</td>\n",
       "      <td>2020-11-26</td>\n",
       "      <td>10</td>\n",
       "      <td>10</td>\n",
       "    </tr>\n",
       "  </tbody>\n",
       "</table>\n",
       "<p>911 rows × 7 columns</p>\n",
       "</div>"
      ],
      "text/plain": [
       "     id_product order_date  product_quantity  product_price entry_date  \\\n",
       "0           401 2021-01-23               1.0     541.487603 2018-12-04   \n",
       "1           416 2020-04-02               1.0     131.181818 2018-12-04   \n",
       "2           717 2019-03-10               1.0    2035.488500 2018-12-04   \n",
       "3           778 2019-12-27               1.0     335.988000 2018-12-04   \n",
       "4           826 2020-02-19               1.0     342.292302 2018-12-04   \n",
       "..          ...        ...               ...            ...        ...   \n",
       "906     1536842 2020-11-24               1.0    1186.776860 2020-10-07   \n",
       "907     1536842 2020-11-24               1.0    1186.776860 2020-10-07   \n",
       "908     1536887 2020-11-22               1.0       0.000000 2020-11-13   \n",
       "909     1536952 2021-01-26               1.0     988.429752 2020-11-24   \n",
       "910     1536974 2020-12-06               1.0       0.000000 2020-11-26   \n",
       "\n",
       "     time_delta  passing_time_to_firstsale  \n",
       "0           781                        781  \n",
       "1           485                        485  \n",
       "2            96                         96  \n",
       "3           388                        388  \n",
       "4           442                        442  \n",
       "..          ...                        ...  \n",
       "906          48                         48  \n",
       "907          48                         48  \n",
       "908           9                          9  \n",
       "909          63                         63  \n",
       "910          10                         10  \n",
       "\n",
       "[911 rows x 7 columns]"
      ]
     },
     "execution_count": 440,
     "metadata": {},
     "output_type": "execute_result"
    }
   ],
   "source": [
    "df[\"passing_time_to_firstsale\"] = df.groupby(\"id_product\")[\"time_delta\"].transform(min)\n",
    "df # Örneğin çıktıda 906 ve 907. indeexte id_product ı aynı olan ürün için\n",
    "# .. \"time_delta\" da 48 yazılmış(DIKKAT:order_date ler farklı olmasına rağmen)"
   ]
  },
  {
   "cell_type": "markdown",
   "metadata": {
    "id": "KQdwMBFqAgbp"
   },
   "source": [
    "## Let's detect the time between last order date and today for each product"
   ]
  },
  {
   "cell_type": "markdown",
   "metadata": {},
   "source": [
    "**This time, let us do it by datetime properties**"
   ]
  },
  {
   "cell_type": "code",
   "execution_count": null,
   "metadata": {},
   "outputs": [],
   "source": [
    "df.groupby(\"id_product\").order_date.max()"
   ]
  },
  {
   "cell_type": "code",
   "execution_count": null,
   "metadata": {},
   "outputs": [],
   "source": [
    "df.groupby(\"id_product\").order_date.transform(max).dt.date"
   ]
  },
  {
   "cell_type": "code",
   "execution_count": null,
   "metadata": {},
   "outputs": [],
   "source": [
    "last_order_date = df.groupby(\"id_product\").order_date.transform(max).dt.date "
   ]
  },
  {
   "cell_type": "code",
   "execution_count": null,
   "metadata": {},
   "outputs": [],
   "source": [
    "today = pd.to_datetime(\"27-02-2021\", format='%d-%m-%Y').date()\n",
    "print(today)"
   ]
  },
  {
   "cell_type": "code",
   "execution_count": null,
   "metadata": {},
   "outputs": [],
   "source": [
    "today - last_order_date"
   ]
  },
  {
   "cell_type": "code",
   "execution_count": null,
   "metadata": {},
   "outputs": [],
   "source": [
    "df[\"passing_time_from_lastsale\"] = today - last_order_date"
   ]
  },
  {
   "cell_type": "code",
   "execution_count": null,
   "metadata": {},
   "outputs": [],
   "source": [
    "df"
   ]
  },
  {
   "cell_type": "code",
   "execution_count": null,
   "metadata": {},
   "outputs": [],
   "source": [
    "df[\"passing_time_from_lastsale\"] = df[\"passing_time_from_lastsale\"].astype(\"str\").str.split(\" \").str[0].astype(int)\n",
    "df"
   ]
  },
  {
   "cell_type": "code",
   "execution_count": null,
   "metadata": {},
   "outputs": [],
   "source": []
  },
  {
   "cell_type": "code",
   "execution_count": null,
   "metadata": {},
   "outputs": [],
   "source": []
  },
  {
   "cell_type": "markdown",
   "metadata": {
    "id": "VFHpLI-4Agbr"
   },
   "source": [
    "## <p style=\"background-color:#FDFEFE; font-family:newtimeroman; color:#9d4f8c; font-size:150%; text-align:center; border-radius:10px 10px;\">The End of Session - 10</p>\n",
    "\n",
    "<a id=\"4\"></a>\n",
    "<a href=\"#toc\" class=\"btn btn-primary btn-sm\" role=\"button\" aria-pressed=\"true\" \n",
    "style=\"color:blue; background-color:#dfa8e4\" data-toggle=\"popover\">Content</a>"
   ]
  },
  {
   "cell_type": "markdown",
   "metadata": {
    "id": "_W8_9S1OAgbr"
   },
   "source": [
    "___\n",
    "\n",
    "<p style=\"text-align: center;\"><img src=\"https://docs.google.com/uc?id=1lY0Uj5R04yMY3-ZppPWxqCr5pvBLYPnV\" class=\"img-fluid\" \n",
    "alt=\"CLRSWY\"></p>\n",
    "\n",
    "## <p style=\"background-color:#FDFEFE; font-family:newtimeroman; color:#9d4f8c; font-size:100%; text-align:center; border-radius:10px 10px;\">WAY TO REINVENT YOURSELF</p>"
   ]
  }
 ],
 "metadata": {
  "colab": {
   "name": "DAwPy-S10 (Working with Text and Time Data).ipynb",
   "provenance": []
  },
  "kernelspec": {
   "display_name": "Python 3 (ipykernel)",
   "language": "python",
   "name": "python3"
  },
  "language_info": {
   "codemirror_mode": {
    "name": "ipython",
    "version": 3
   },
   "file_extension": ".py",
   "mimetype": "text/x-python",
   "name": "python",
   "nbconvert_exporter": "python",
   "pygments_lexer": "ipython3",
   "version": "3.8.5"
  },
  "toc": {
   "base_numbering": 1,
   "nav_menu": {},
   "number_sections": false,
   "sideBar": true,
   "skip_h1_title": false,
   "title_cell": "Table of Contents",
   "title_sidebar": "Contents",
   "toc_cell": false,
   "toc_position": {
    "height": "calc(100% - 180px)",
    "left": "10px",
    "top": "150px",
    "width": "267.102px"
   },
   "toc_section_display": true,
   "toc_window_display": true
  }
 },
 "nbformat": 4,
 "nbformat_minor": 1
}
